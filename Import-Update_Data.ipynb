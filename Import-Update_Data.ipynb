{
 "cells": [
  {
   "cell_type": "markdown",
   "id": "f5ee6820-ede6-4be2-b859-a20f361b567d",
   "metadata": {},
   "source": [
    "# NBA Game Predictor -- Import/Update Data\n",
    "Since the data takes time to load, we have conveniently placed it in a csv file in the project. However, if the file is not accessible, you can run the following code to get and export the data into a csv file. Additionally, we plan to alter the code to allow for updating a prior csv file with recent data"
   ]
  },
  {
   "cell_type": "code",
   "execution_count": 1,
   "id": "e0d173cb-41d7-451c-be19-038411ce6a7b",
   "metadata": {},
   "outputs": [],
   "source": [
    "# to install the nba_api package, uncomment line below\n",
    "#! pip install nba_api"
   ]
  },
  {
   "cell_type": "code",
   "execution_count": 2,
   "id": "87fd8301-e427-4878-ae42-c45284defee6",
   "metadata": {},
   "outputs": [],
   "source": [
    "# import necessary packages\n",
    "import pandas as pd\n",
    "import numpy as np\n",
    "import time\n",
    "from nba_api.stats.static import teams\n",
    "from nba_api.stats.endpoints import teamgamelogs"
   ]
  },
  {
   "cell_type": "markdown",
   "id": "7e798b26-31ed-4bba-8854-c5ff37aa9e4b",
   "metadata": {},
   "source": [
    "Only games from the 1985-1986 season and afterward are loaded in as the seasons before that are missing a very significant portion of the game statistics' data. The following code is to get all the data and load it into a csv file for later use."
   ]
  },
  {
   "cell_type": "code",
   "execution_count": null,
   "id": "0b0030e0-fcd9-4a72-9bb5-5619232e3969",
   "metadata": {},
   "outputs": [],
   "source": [
    "nba_teams = teams.get_teams()\n",
    "all_teamids = []\n",
    "for team in nba_teams:\n",
    "    all_teamids.append(team['id'])"
   ]
  },
  {
   "cell_type": "code",
   "execution_count": null,
   "id": "fd0991ad-006a-4b7c-803f-543795baa4a4",
   "metadata": {},
   "outputs": [],
   "source": [
    "def get_all_nba_seasons(start_year = 1985, end_year = None):\n",
    "    if end_year is None:\n",
    "        end_year = datetime.datetime.now().year\n",
    "    \n",
    "    seasons = []\n",
    "    for year in range(start_year, end_year + 1):\n",
    "        seasons.append(f\"{year}-{str(year + 1)[2:]}\")\n",
    "    \n",
    "    return seasons"
   ]
  },
  {
   "cell_type": "code",
   "execution_count": null,
   "id": "40df3492-cea4-49a2-995d-e1ec456c8026",
   "metadata": {},
   "outputs": [],
   "source": [
    "all_seasons = get_all_nba_seasons(end_year = 2023)"
   ]
  },
  {
   "cell_type": "code",
   "execution_count": null,
   "id": "0b39a6f7-b083-4d54-9bd8-a0975686290b",
   "metadata": {},
   "outputs": [],
   "source": [
    "def get_team_logs(team_id, season):\n",
    "    team_log = teamgamelogs.TeamGameLogs(team_id_nullable = team_id, season_nullable = season)\n",
    "    games = team_log.get_data_frames()[0]\n",
    "    return games"
   ]
  },
  {
   "cell_type": "code",
   "execution_count": null,
   "id": "435eaad9-1650-4873-ad2f-922a35a4e177",
   "metadata": {},
   "outputs": [],
   "source": [
    "dfs = []\n",
    "for t_id in all_teamids:\n",
    "    for season in all_seasons:\n",
    "        curr_game_logs = get_team_logs(t_id, season)\n",
    "        if curr_game_logs is not None:\n",
    "            dfs.append(curr_game_logs)\n",
    "        time.sleep(.600)"
   ]
  },
  {
   "cell_type": "code",
   "execution_count": null,
   "id": "b6502817-a3f4-4013-8222-1a247d6e5d23",
   "metadata": {},
   "outputs": [],
   "source": [
    "all_stats = pd.concat(dfs, ignore_index = True)"
   ]
  },
  {
   "cell_type": "code",
   "execution_count": null,
   "id": "17b52df7-d7bf-45ec-9b8d-ec6a3dd0958a",
   "metadata": {},
   "outputs": [],
   "source": [
    "all_stats.head()"
   ]
  },
  {
   "cell_type": "code",
   "execution_count": null,
   "id": "653a070f-f623-46f1-af9d-b71d86a0819d",
   "metadata": {},
   "outputs": [],
   "source": [
    "# getting all the data from nba_api takes a while, exporting to csv so we can just import data\n",
    "all_stats.to_csv('all_game_stats.csv', index = False)"
   ]
  }
 ],
 "metadata": {
  "kernelspec": {
   "display_name": "Python 3 (ipykernel)",
   "language": "python",
   "name": "python3"
  },
  "language_info": {
   "codemirror_mode": {
    "name": "ipython",
    "version": 3
   },
   "file_extension": ".py",
   "mimetype": "text/x-python",
   "name": "python",
   "nbconvert_exporter": "python",
   "pygments_lexer": "ipython3",
   "version": "3.13.2"
  }
 },
 "nbformat": 4,
 "nbformat_minor": 5
}
