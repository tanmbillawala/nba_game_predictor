{
 "cells": [
  {
   "cell_type": "markdown",
   "id": "f5ee6820-ede6-4be2-b859-a20f361b567d",
   "metadata": {},
   "source": [
    "# NBA Game Predictor -- Import & Clean Data\n",
    "Since the data takes time to load, we have conveniently placed it in a csv file in the project. However, if the file is not accessible, you can run the following code to get and export the data into a csv file. This includes cleaning the data; however, the file in the project is already cleaned."
   ]
  },
  {
   "cell_type": "code",
   "execution_count": null,
   "id": "e0d173cb-41d7-451c-be19-038411ce6a7b",
   "metadata": {},
   "outputs": [],
   "source": [
    "# to install the nba_api package, uncomment line below\n",
    "#! pip install nba_api"
   ]
  },
  {
   "cell_type": "code",
   "execution_count": null,
   "id": "87fd8301-e427-4878-ae42-c45284defee6",
   "metadata": {},
   "outputs": [],
   "source": [
    "# import necessary packages\n",
    "import pandas as pd\n",
    "import numpy as np\n",
    "import time\n",
    "from nba_api.stats.static import teams\n",
    "from nba_api.stats.endpoints import teamgamelogs"
   ]
  },
  {
   "cell_type": "markdown",
   "id": "36efc19c-dbca-45d1-a7cf-3d902fb47a52",
   "metadata": {},
   "source": [
    "## Gather NBA Data"
   ]
  },
  {
   "cell_type": "markdown",
   "id": "7e798b26-31ed-4bba-8854-c5ff37aa9e4b",
   "metadata": {},
   "source": [
    "Only games from the 1985-1986 season and afterward are loaded in as the seasons before that are missing a very significant portion of the game statistics' data. The following code is to get all the data and load it into a csv file for later use."
   ]
  },
  {
   "cell_type": "code",
   "execution_count": null,
   "id": "0b0030e0-fcd9-4a72-9bb5-5619232e3969",
   "metadata": {},
   "outputs": [],
   "source": [
    "nba_teams = teams.get_teams()\n",
    "all_teamids = []\n",
    "for team in nba_teams:\n",
    "    all_teamids.append(team['id'])"
   ]
  },
  {
   "cell_type": "code",
   "execution_count": null,
   "id": "fd0991ad-006a-4b7c-803f-543795baa4a4",
   "metadata": {},
   "outputs": [],
   "source": [
    "def get_all_nba_seasons(start_year = 2024, end_year = None):\n",
    "    if end_year is None:\n",
    "        end_year = datetime.datetime.now().year\n",
    "    \n",
    "    seasons = []\n",
    "    for year in range(start_year, end_year + 1):\n",
    "        seasons.append(f\"{year}-{str(year + 1)[2:]}\")\n",
    "    \n",
    "    return seasons"
   ]
  },
  {
   "cell_type": "code",
   "execution_count": null,
   "id": "40df3492-cea4-49a2-995d-e1ec456c8026",
   "metadata": {},
   "outputs": [],
   "source": [
    "all_seasons = get_all_nba_seasons(end_year = 2025)"
   ]
  },
  {
   "cell_type": "code",
   "execution_count": null,
   "id": "0b39a6f7-b083-4d54-9bd8-a0975686290b",
   "metadata": {},
   "outputs": [],
   "source": [
    "def get_team_logs(team_id, season):\n",
    "    team_log = teamgamelogs.TeamGameLogs(team_id_nullable = team_id, season_nullable = season)\n",
    "    games = team_log.get_data_frames()[0]\n",
    "    return games"
   ]
  },
  {
   "cell_type": "code",
   "execution_count": null,
   "id": "435eaad9-1650-4873-ad2f-922a35a4e177",
   "metadata": {},
   "outputs": [],
   "source": [
    "dfs = []\n",
    "for t_id in all_teamids:\n",
    "    for season in all_seasons:\n",
    "        curr_game_logs = get_team_logs(t_id, season)\n",
    "        if curr_game_logs is not None:\n",
    "            dfs.append(curr_game_logs)\n",
    "        time.sleep(.600)"
   ]
  },
  {
   "cell_type": "code",
   "execution_count": null,
   "id": "b6502817-a3f4-4013-8222-1a247d6e5d23",
   "metadata": {},
   "outputs": [],
   "source": [
    "all_stats = pd.concat(dfs, ignore_index = True)"
   ]
  },
  {
   "cell_type": "code",
   "execution_count": null,
   "id": "17b52df7-d7bf-45ec-9b8d-ec6a3dd0958a",
   "metadata": {},
   "outputs": [],
   "source": [
    "all_stats.head()"
   ]
  },
  {
   "cell_type": "code",
   "execution_count": null,
   "id": "6851f857-bdf4-436c-8409-71eea4cef9dc",
   "metadata": {},
   "outputs": [],
   "source": []
  },
  {
   "cell_type": "markdown",
   "id": "b75e247e-34a4-42d3-924b-bf35bfb820a0",
   "metadata": {},
   "source": [
    "## Clean Data"
   ]
  },
  {
   "cell_type": "markdown",
   "id": "645bb837-d3ec-4ab6-9c97-bab24f9c0912",
   "metadata": {},
   "source": [
    "### Input Missing Values\n",
    "As shown below, there are a number of rows with the `SEASON_YEAR` variable missing. Therefore, we will calculate the `SEASON_YEAR` based on the `GAME_DATE` variable and fill in those missing values."
   ]
  },
  {
   "cell_type": "code",
   "execution_count": null,
   "id": "c104f45c-ae7a-4937-a4aa-fcac5d26da3a",
   "metadata": {},
   "outputs": [],
   "source": [
    "all_stats = pd.read_csv('all_game_stats.csv')\n",
    "all_stats.head()"
   ]
  },
  {
   "cell_type": "code",
   "execution_count": null,
   "id": "f89b886c-a4c0-4f25-8840-de8b7a11d8b4",
   "metadata": {},
   "outputs": [],
   "source": [
    "all_stats['SEASON_YEAR'].isna().sum()"
   ]
  },
  {
   "cell_type": "code",
   "execution_count": null,
   "id": "e8a7c483-ba12-4049-a084-e4e97c4eb8c6",
   "metadata": {},
   "outputs": [],
   "source": [
    "for index, row in all_stats.iterrows():\n",
    "    if pd.isna(all_stats.iloc[index]['SEASON_YEAR']):\n",
    "        year_index = all_stats.iloc[index]['GAME_DATE'].find('-')\n",
    "        year = all_stats.iloc[index]['GAME_DATE'][:year_index]\n",
    "        month = all_stats.iloc[index]['GAME_DATE'][year_index+1:year_index+3]\n",
    "        if int(month) >= 10:\n",
    "            season = str(int(year)) + \"-\" + str(int(year)+1)[2:]\n",
    "        else:\n",
    "            season = str(int(year)-1) + \"-\" + str(int(year))[2:]\n",
    "        all_stats.loc[index, 'SEASON_YEAR'] = season"
   ]
  },
  {
   "cell_type": "code",
   "execution_count": null,
   "id": "355ac50f-f24d-4649-8db0-18b7a0746427",
   "metadata": {},
   "outputs": [],
   "source": [
    "len(all_stats[all_stats['SEASON_YEAR'].isna()])"
   ]
  },
  {
   "cell_type": "markdown",
   "id": "bab0f197-afc8-449d-a039-7c6e37d65a17",
   "metadata": {},
   "source": [
    "Then, we convert the `SEASON_YEAR` variable into an integer variable of just the year that the season started (e.g., 1985 for '1985-86')."
   ]
  },
  {
   "cell_type": "code",
   "execution_count": null,
   "id": "023639f2-1ee1-4538-9a9d-00fc7828a54f",
   "metadata": {},
   "outputs": [],
   "source": [
    "all_stats['SEASON_YEAR'] = all_stats['SEASON_YEAR'].str.split('-').str[0].astype(int)"
   ]
  },
  {
   "cell_type": "markdown",
   "id": "2b343d3b-8f09-4249-abec-a03dc4f8cf21",
   "metadata": {},
   "source": [
    "A look at the new `SEASON_YEAR` column:"
   ]
  },
  {
   "cell_type": "code",
   "execution_count": null,
   "id": "7f9da21a-c98a-4564-9182-1241772b1dd9",
   "metadata": {},
   "outputs": [],
   "source": [
    "all_stats[['SEASON_YEAR']].sample(10)"
   ]
  },
  {
   "cell_type": "code",
   "execution_count": null,
   "id": "1400b398-8467-41c7-b7c3-0ee248440c50",
   "metadata": {},
   "outputs": [],
   "source": [
    "all_stats.isna().sum()"
   ]
  },
  {
   "cell_type": "markdown",
   "id": "78305090-1cdf-4fff-bb3a-41ca8e77aef8",
   "metadata": {},
   "source": [
    "As seen above, there are also 475 missing values in the `FG3_PCT` column. Taking a look at the `FG3A` column for the rows with missing values, we can see that they are all 0, hence why the `FG3_PCT` column has NaN values for these rows. Therefore, we filled the missing values with 0."
   ]
  },
  {
   "cell_type": "code",
   "execution_count": null,
   "id": "dd5aeaf5-a2a9-4b62-999e-e7d861b0c188",
   "metadata": {},
   "outputs": [],
   "source": [
    "all_stats[all_stats['FG3_PCT'].isna()]['FG3A'].unique()"
   ]
  },
  {
   "cell_type": "code",
   "execution_count": null,
   "id": "1f0a149b-59b1-419a-b1b8-f838a7e59139",
   "metadata": {},
   "outputs": [],
   "source": [
    "missing_indicies = all_stats[all_stats['FG3_PCT'].isna()].index"
   ]
  },
  {
   "cell_type": "code",
   "execution_count": null,
   "id": "83fcf0f0-a475-49a8-86ed-35aadbb26031",
   "metadata": {},
   "outputs": [],
   "source": [
    "for i in missing_indicies:\n",
    "    all_stats.loc[i, 'FG3_PCT'] = 0"
   ]
  },
  {
   "cell_type": "markdown",
   "id": "de458bc8-5009-45b2-82ee-6234a0e1dce5",
   "metadata": {},
   "source": [
    "### Dropping Irrelevant Columns\n",
    "There are a lot of other columns in the dataset that have a significant number of missing values. We will drop these columns, as most of them are also rankings for stats that are already in the dataset."
   ]
  },
  {
   "cell_type": "code",
   "execution_count": null,
   "id": "760b7295-4e5d-4f7f-a20d-4fc0f3d1ff3f",
   "metadata": {},
   "outputs": [],
   "source": [
    "all_stats.columns"
   ]
  },
  {
   "cell_type": "code",
   "execution_count": null,
   "id": "6a5fbcca-032e-4738-a6e8-a9c99ebf0f5c",
   "metadata": {},
   "outputs": [],
   "source": [
    "to_keep = ['SEASON_YEAR', 'TEAM_ID', 'TEAM_ABBREVIATION', 'TEAM_NAME',\n",
    "       'GAME_DATE', 'MATCHUP', 'WL', 'MIN', 'FGM', 'FGA', 'FG_PCT', 'FG3M',\n",
    "       'FG3A', 'FG3_PCT', 'FTM', 'FTA', 'FT_PCT', 'OREB', 'DREB', 'REB', 'AST',\n",
    "       'TOV', 'STL', 'BLK', 'PF', 'PTS', 'PLUS_MINUS']"
   ]
  },
  {
   "cell_type": "code",
   "execution_count": null,
   "id": "773e10bd-86a2-45bd-bd31-a294456f8765",
   "metadata": {},
   "outputs": [],
   "source": [
    "all_stats_cleaned = all_stats[to_keep]"
   ]
  },
  {
   "cell_type": "code",
   "execution_count": null,
   "id": "da08467d-089b-4b9e-8025-4414ccb227d8",
   "metadata": {},
   "outputs": [],
   "source": [
    "all_stats_cleaned.head()"
   ]
  },
  {
   "cell_type": "markdown",
   "id": "ad96b61d-9e6d-45d2-a04d-b4f590ad6257",
   "metadata": {},
   "source": [
    "### Fixing Team ID\n",
    "Since Team ID seems to start at 1610612737, we are going to subtract this value from each `TEAM_ID` to get more readable numbers. And, we want to create a dictionary to hold team names. "
   ]
  },
  {
   "cell_type": "code",
   "execution_count": null,
   "id": "bd349c7f-6884-4652-b309-9e28265e2569",
   "metadata": {},
   "outputs": [],
   "source": [
    "all_stats_cleaned['TEAM_ID'] = all_stats_cleaned['TEAM_ID'] - 1610612737"
   ]
  },
  {
   "cell_type": "code",
   "execution_count": null,
   "id": "d4fe25ae-05da-4b26-b0ab-044370909a1f",
   "metadata": {},
   "outputs": [],
   "source": [
    "all_stats_cleaned.head(5)"
   ]
  },
  {
   "cell_type": "markdown",
   "id": "551ef9ae-ef3f-4f5f-a543-9c6629568cd2",
   "metadata": {},
   "source": [
    "We then want to create a dictionary so we can determine ID from abbreviation and vice versa."
   ]
  },
  {
   "cell_type": "code",
   "execution_count": null,
   "id": "d68ff285-41a9-408a-b122-1712341ee37c",
   "metadata": {},
   "outputs": [],
   "source": [
    "team_id_to_abb = {} # dictionary to convert from team_id to team_abbreviation\n",
    "team_abb_to_id = {} # dictionary to convert from team_abbreviation to team_id\n",
    "\n",
    "teams = (all_stats_cleaned[['TEAM_ID', 'TEAM_ABBREVIATION']]).drop_duplicates()\n",
    "\n",
    "for index, row in teams.iterrows() :\n",
    "    if row['TEAM_ID'] not in team_id_to_abb.keys():\n",
    "        team_id_to_abb[row['TEAM_ID']] = []\n",
    "    team_id_to_abb[row['TEAM_ID']].append(row['TEAM_ABBREVIATION'])\n",
    "    team_abb_to_id[row['TEAM_ABBREVIATION']] = row['TEAM_ID']"
   ]
  },
  {
   "cell_type": "markdown",
   "id": "f3a6a1b9-4a22-482d-b859-8413f9a4e260",
   "metadata": {},
   "source": [
    "### Cleaning Matchup Column\n",
    "Next, the `MATCHUP` column contains information on the opponent as well as if it was a home or away game. To make sure these features are clear for the model, we split this information into two separate columns: `OPPONENT` and `HOME`. `HOME` is a binary variable where a value of 1 indicates a home game and a value of 0 indicates an away game. `OPPONENT` contains the team abbreviation of the other team."
   ]
  },
  {
   "cell_type": "markdown",
   "id": "d1b98552-7ed4-4d7a-8448-7610f9c2bde2",
   "metadata": {},
   "source": [
    "Creating `HOME` variable:"
   ]
  },
  {
   "cell_type": "code",
   "execution_count": null,
   "id": "278fdb4d-41d0-4505-9439-43747f5aafec",
   "metadata": {},
   "outputs": [],
   "source": [
    "home_away = [0 if '@' in all_stats_cleaned['MATCHUP'].iloc[i] else 1 for i in range(len(all_stats_cleaned))]"
   ]
  },
  {
   "cell_type": "code",
   "execution_count": null,
   "id": "0815fc4d-8a98-4e21-a2fe-2dbcf89cb40f",
   "metadata": {},
   "outputs": [],
   "source": [
    "all_stats_cleaned.insert(5, 'HOME', home_away)"
   ]
  },
  {
   "cell_type": "markdown",
   "id": "5f54dc70-7334-4063-accd-960f6e71f430",
   "metadata": {},
   "source": [
    "Creating `OPPONENT` and `OPPONENT_ID` variable:"
   ]
  },
  {
   "cell_type": "code",
   "execution_count": null,
   "id": "f7ce6da6-0d27-46da-af32-766c7f070dae",
   "metadata": {},
   "outputs": [],
   "source": [
    "opp = [all_stats_cleaned['MATCHUP'].iloc[i][-3:] for i in range(len(all_stats_cleaned))]"
   ]
  },
  {
   "cell_type": "code",
   "execution_count": null,
   "id": "cf8a072d-fd17-4e04-82a2-a71cd3bbb9c9",
   "metadata": {},
   "outputs": [],
   "source": [
    "all_stats_cleaned.insert(6, 'OPPONENT', opp)"
   ]
  },
  {
   "cell_type": "markdown",
   "id": "faa68eca-a5d5-4e0d-b893-bc122ad2b2ce",
   "metadata": {},
   "source": [
    "Finally, we got rid of the `MATCHUP` column as it now contains redundant information"
   ]
  },
  {
   "cell_type": "code",
   "execution_count": null,
   "id": "53d714cb-da40-481a-b50e-cc8999dcc74c",
   "metadata": {},
   "outputs": [],
   "source": [
    "all_stats_cleaned = all_stats_cleaned.drop(columns = ['MATCHUP'])"
   ]
  },
  {
   "cell_type": "code",
   "execution_count": null,
   "id": "59641d8a-1e06-4c49-9ed8-bc2aa05afb0b",
   "metadata": {},
   "outputs": [],
   "source": [
    "all_stats_cleaned.head()"
   ]
  },
  {
   "cell_type": "markdown",
   "id": "46589963-3aa2-4b25-b519-be017ba10148",
   "metadata": {},
   "source": [
    "### Cleaning up Game Date Column\n",
    "In order for the model to interpret the date of the games, we decided to change the `GAME_DATE` column into datetime objects rather than keeping them as strings."
   ]
  },
  {
   "cell_type": "code",
   "execution_count": null,
   "id": "e8f6597e-0bc0-4704-9342-58a852326d7c",
   "metadata": {},
   "outputs": [],
   "source": [
    "all_stats_cleaned['GAME_DATE'] = pd.to_datetime(all_stats_cleaned['GAME_DATE'], yearfirst=True, format='ISO8601')"
   ]
  },
  {
   "cell_type": "markdown",
   "id": "5fb30ae5-cb31-400b-8075-d2af863a50c7",
   "metadata": {},
   "source": [
    "A look at the new `GAME_DATE` column:"
   ]
  },
  {
   "cell_type": "code",
   "execution_count": null,
   "id": "71c0fc0b-5e48-42c4-8e44-2fd395dee421",
   "metadata": {},
   "outputs": [],
   "source": [
    "all_stats_cleaned[['GAME_DATE']].sample(5)"
   ]
  },
  {
   "cell_type": "markdown",
   "id": "2ab4f61d-b052-42d4-8bee-8d565ba6e3e5",
   "metadata": {},
   "source": [
    "### Cleaning up WL Column\n",
    "The `WL` column states whether the team won or lost that specific game. However, we decided to convert this information into a binary variable `WIN`, which holds 1 for a win and 0 for a loss."
   ]
  },
  {
   "cell_type": "code",
   "execution_count": null,
   "id": "d51e2ae6-b7bf-4382-b68c-c312fe07ebf8",
   "metadata": {},
   "outputs": [],
   "source": [
    "win = [1 if all_stats_cleaned.iloc[i]['WL'] == 'W' else 0 for i in range(len(all_stats_cleaned))]"
   ]
  },
  {
   "cell_type": "code",
   "execution_count": null,
   "id": "e0301465-0678-4823-b40b-d0403a796c3c",
   "metadata": {},
   "outputs": [],
   "source": [
    "all_stats_cleaned.insert(6, 'WIN', win)"
   ]
  },
  {
   "cell_type": "markdown",
   "id": "68f3be89-f288-4a70-8141-bf65d27150af",
   "metadata": {},
   "source": [
    "Dropping `WL` column:"
   ]
  },
  {
   "cell_type": "code",
   "execution_count": null,
   "id": "b76dbaf8-abc8-431b-bf56-f4eff2e128dc",
   "metadata": {},
   "outputs": [],
   "source": [
    "all_stats_cleaned = all_stats_cleaned.drop(columns = ['WL'])"
   ]
  },
  {
   "cell_type": "code",
   "execution_count": null,
   "id": "d329d669-c5d1-41fe-a8ac-a2163f9cee00",
   "metadata": {},
   "outputs": [],
   "source": [
    "all_stats_cleaned.head()"
   ]
  },
  {
   "cell_type": "code",
   "execution_count": null,
   "id": "c3de2cf8-536b-4ec5-a6e0-1d059555e87a",
   "metadata": {},
   "outputs": [],
   "source": [
    "all_stats_cleaned.to_csv('all_stats_cleaned.csv', index = False)"
   ]
  },
  {
   "cell_type": "code",
   "execution_count": null,
   "id": "bdf09c48-0bec-4ced-bc0c-616009314fcb",
   "metadata": {},
   "outputs": [],
   "source": []
  },
  {
   "cell_type": "code",
   "execution_count": null,
   "id": "b3a035f0-8718-4c1e-bc4d-1c32917efb45",
   "metadata": {},
   "outputs": [],
   "source": []
  }
 ],
 "metadata": {
  "kernelspec": {
   "display_name": "Python 3 (ipykernel)",
   "language": "python",
   "name": "python3"
  },
  "language_info": {
   "codemirror_mode": {
    "name": "ipython",
    "version": 3
   },
   "file_extension": ".py",
   "mimetype": "text/x-python",
   "name": "python",
   "nbconvert_exporter": "python",
   "pygments_lexer": "ipython3",
   "version": "3.12.0"
  }
 },
 "nbformat": 4,
 "nbformat_minor": 5
}
