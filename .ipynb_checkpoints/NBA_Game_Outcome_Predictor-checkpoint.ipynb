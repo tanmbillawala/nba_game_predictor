{
 "cells": [
  {
   "cell_type": "markdown",
   "id": "2b48c1fc-2b46-45a4-a11a-c0bc812dc423",
   "metadata": {},
   "source": [
    "# NBA Game Outcome Predictor \n",
    "### CMPE 257 Project\n",
    "Authors: Kaushika Uppu, Miranda Billawala, Yun Ei Hlaing, Iris Cheung"
   ]
  },
  {
   "cell_type": "markdown",
   "id": "ec780fff-8e9b-4cdb-8f53-67d3fc5af6ee",
   "metadata": {},
   "source": [
    "## Imports"
   ]
  },
  {
   "cell_type": "code",
   "execution_count": null,
   "id": "b577252f-e460-4d47-ae5e-00e7da3d1be0",
   "metadata": {},
   "outputs": [],
   "source": [
    "import pandas as pd\n",
    "import numpy as np\n",
    "import time\n",
    "import matplotlib.pyplot as plt\n",
    "import seaborn as sns\n",
    "\n",
    "import random\n",
    "from datetime import datetime, timedelta\n",
    "from sklearn.linear_model import LogisticRegression\n",
    "from sklearn.ensemble import RandomForestClassifier\n",
    "from xgboost import XGBClassifier, XGBRegressor\n",
    "from sklearn.metrics import mean_squared_error\n",
    "import itertools"
   ]
  },
  {
   "cell_type": "markdown",
   "id": "496bcbab-1a20-4f9a-b96e-f0f9c45d638e",
   "metadata": {},
   "source": [
    "## Training Data\n",
    "We load in the save statistics predictions for each game using our two methods: rolling window and a XGBoost model. Due to computational costs of predicting statistics with the model, the model data only spans 2014-2025."
   ]
  },
  {
   "cell_type": "code",
   "execution_count": null,
   "id": "085d13f3-093b-4bfe-a124-f6d9ad277a3e",
   "metadata": {},
   "outputs": [],
   "source": [
    "all_stats_cleaned = pd.read_csv('all_stats_cleaned.csv')\n",
    "all_stats_cleaned['GAME_DATE'] = pd.to_datetime(all_stats_cleaned['GAME_DATE'], format='ISO8601') # convert date to datetime object\n",
    "\n",
    "all_stats_cleaned.head()"
   ]
  },
  {
   "cell_type": "code",
   "execution_count": null,
   "id": "41c109fa-a50b-47ba-aa6d-737212f51eb6",
   "metadata": {},
   "outputs": [],
   "source": [
    "df_rolling = pd.read_csv('df_rolling.csv')\n",
    "df_rolling['GAME_DATE'] = pd.to_datetime(df_rolling['GAME_DATE'])\n",
    "df_rolling.head()"
   ]
  },
  {
   "cell_type": "code",
   "execution_count": null,
   "id": "95448e1c-0703-4d80-895b-1eda69d5a07a",
   "metadata": {},
   "outputs": [],
   "source": [
    "df_model = pd.read_csv('df_model_tuned.csv')\n",
    "df_model['GAME_DATE'] = pd.to_datetime(df_model['GAME_DATE'])\n",
    "df_model.head()"
   ]
  },
  {
   "cell_type": "markdown",
   "id": "0d27317c-944e-4f1c-ba71-51df95bcce1a",
   "metadata": {},
   "source": [
    "## Test Set"
   ]
  },
  {
   "cell_type": "code",
   "execution_count": null,
   "id": "fa8708fd-58d7-4065-8648-ceb1ff9250e3",
   "metadata": {},
   "outputs": [],
   "source": [
    "def get_val_set (first_season, last_season, n = 1) :\n",
    "    dates = []\n",
    "    for season in range(first_season, last_season) :\n",
    "        season_data = all_stats_cleaned[all_stats_cleaned['SEASON_YEAR'] == season]\n",
    "        start_date = season_data['GAME_DATE'].min()\n",
    "        end_date = season_data['GAME_DATE'].max()\n",
    "\n",
    "        # day around the beginning of the season\n",
    "        beg = season_data[season_data['GAME_DATE'].between(start_date, start_date + timedelta(weeks = 4))]\n",
    "\n",
    "        # day around trade deadline (after about 2/3 of the season)\n",
    "        delta = round((2/3)*(end_date-start_date).days)\n",
    "        approx_deadline = start_date + timedelta(days = delta)\n",
    "        mid = season_data[season_data['GAME_DATE'].between(approx_deadline, approx_deadline + timedelta(weeks = 4))]\n",
    "        \n",
    "        # day around the end of the season\n",
    "        end = season_data[season_data['GAME_DATE'].between(end_date - timedelta(weeks = 4), end_date)]\n",
    "\n",
    "        dates.extend(list(pd.concat([beg.sample(n)['GAME_DATE'], mid.sample(n)['GAME_DATE'], end.sample(n)['GAME_DATE']])))\n",
    "\n",
    "    return dates"
   ]
  },
  {
   "cell_type": "code",
   "execution_count": null,
   "id": "0bb720bf-8372-43ea-80d1-ea35ea06857d",
   "metadata": {},
   "outputs": [],
   "source": [
    "first_season = all_stats_cleaned['SEASON_YEAR'].min() + 1\n",
    "last_season = all_stats_cleaned['SEASON_YEAR'].max() - 5\n",
    "val_set = get_val_set(first_season, last_season)"
   ]
  },
  {
   "cell_type": "markdown",
   "id": "bc7feb9d-de95-447b-ad2b-7ea69b5a40e3",
   "metadata": {},
   "source": [
    "## Model Building\n",
    "Since it is computationally expensive to run the second model to predict all the values in the dataset, we will perform feature selection and hyperparameter tuning on the model trained on the basic rolling statistics. Then, we will predict on the test set with both types of models to see which performs better"
   ]
  },
  {
   "cell_type": "code",
   "execution_count": null,
   "id": "8828ecc7-4475-4d94-891c-9c5a35aeab0d",
   "metadata": {},
   "outputs": [],
   "source": [
    "time_horizon = 5"
   ]
  },
  {
   "cell_type": "code",
   "execution_count": null,
   "id": "e2af7542-134c-4fe9-8ed8-2528ad3708d3",
   "metadata": {},
   "outputs": [],
   "source": [
    "def get_training_set (df, date, num_seasons) :\n",
    "    \"\"\"\n",
    "    Input: Date of games and number of seasons to include in dataset\n",
    "    Output: All rows from the last num_seasons and all games in the current season up till the given date\n",
    "    \"\"\"\n",
    "    # determine season of the game\n",
    "    season = date.year if date.month >= 10 else date.year - 1\n",
    "    \n",
    "    # get games for training\n",
    "    data = df[df['SEASON_YEAR'].between(season - num_seasons, season)].copy()\n",
    "    data['DAYS_SINCE_GAME'] = [(date-game_day).days for game_day in data['GAME_DATE']]\n",
    "    data = data[data['DAYS_SINCE_GAME'] > 0]\n",
    "\n",
    "    data = data.sort_values(by = 'DAYS_SINCE_GAME')\n",
    "\n",
    "    # split into X and y and only look at relevant columns\n",
    "    X = data.drop(columns = ['WIN_ONE', 'GAME_DATE'])\n",
    "    y = data['WIN_ONE']\n",
    "\n",
    "    return (X,y)\n",
    "\n",
    "def pred_by_date (df, model, date) :\n",
    "    \"\"\"\n",
    "    Predict the outcome of all games on the given date. \n",
    "    \"\"\"\n",
    "    n = time_horizon # how many years in the past for training\n",
    "    \n",
    "    # determine season of the game\n",
    "    season = date.year if date.month >= 10 else date.year - 1\n",
    "\n",
    "    # get data in relevant time frame\n",
    "    X, y = get_training_set(df, date, n)\n",
    "\n",
    "    games_on_day = df[df['GAME_DATE'] == date].copy()\n",
    "    games_on_day['DAYS_SINCE_GAME'] = np.zeros(len(games_on_day))\n",
    "\n",
    "    test = games_on_day.drop(columns = ['WIN_ONE', 'GAME_DATE'])\n",
    "\n",
    "    model.fit(X,y)\n",
    "    pred = model.predict(test)\n",
    "    return pred, games_on_day['WIN_ONE']\n",
    "\n",
    "def test_model(df, model, dates) :\n",
    "    total_correct = total_games = 0\n",
    "\n",
    "    for d in dates:\n",
    "        pred, act = pred_by_date(df, model, d)\n",
    "        correct = np.sum(pred == act)\n",
    "        games = len(pred)\n",
    "        total_correct += correct\n",
    "        total_games += games\n",
    "    return total_correct, total_games"
   ]
  },
  {
   "cell_type": "markdown",
   "id": "f4d2c251-0908-484c-8165-47cc361f8c24",
   "metadata": {},
   "source": [
    "### Random Forests (baseline)"
   ]
  },
  {
   "cell_type": "code",
   "execution_count": null,
   "id": "a2857252-8ecd-4df3-85eb-46500a9f9fe1",
   "metadata": {},
   "outputs": [],
   "source": [
    "model = RandomForestClassifier(random_state=33)\n",
    "correct,games = test_model(df_rolling, model, val_set)\n",
    "correct / games"
   ]
  },
  {
   "cell_type": "markdown",
   "id": "c70858ab-94c0-476f-bd56-9a381060d257",
   "metadata": {},
   "source": [
    "### XGBoost"
   ]
  },
  {
   "cell_type": "code",
   "execution_count": null,
   "id": "7a461cf6-5e1a-46ac-a6f7-11adfcfc5b5c",
   "metadata": {},
   "outputs": [],
   "source": [
    "model = XGBClassifier(objective='binary:logistic', base_score = 0.5, random_state = 33)\n",
    "correct,games = test_model(df_rolling, model, val_set)\n",
    "correct / games"
   ]
  },
  {
   "cell_type": "markdown",
   "id": "a1070b3c-d1e1-4fb7-9285-47d04daf211c",
   "metadata": {},
   "source": [
    "## Feature Selection\n",
    "The average feature importance scores is calculated for the three games for each season using XG Boost built-in feature importance."
   ]
  },
  {
   "cell_type": "code",
   "execution_count": null,
   "id": "4a2bd0c5-052e-4d3a-8ebf-70fc97c876fe",
   "metadata": {},
   "outputs": [],
   "source": [
    "def pred_by_date_with_importance(df, model, date):\n",
    "    n = 5 \n",
    "    season = date.year if date.month >= 10 else date.year - 1\n",
    "    X, y = get_training_set(date, n)\n",
    "    # one hot encoding on the Home feature \n",
    "    games_on_day = df[df['GAME_DATE'] == date].copy()\n",
    "    games_on_day['DAYS_SINCE_GAME'] = np.zeros(len(games_on_day))\n",
    "\n",
    "    test = games_on_day.drop(columns = ['WIN_ONE', 'GAME_DATE'])\n",
    "\n",
    "    model.fit(X,y)\n",
    "    pred = model.predict(test)\n",
    "    correct = np.sum(pred == games_on_day['WIN_ONE'])\n",
    "    games = len(pred)\n",
    "    importance_scores = model.get_booster().get_score(importance_type='gain')\n",
    "    return correct, games, importance_scores"
   ]
  },
  {
   "cell_type": "code",
   "execution_count": null,
   "id": "b02a3e70-de25-4e76-afef-155c3e45d839",
   "metadata": {},
   "outputs": [],
   "source": [
    "def test_model_with_importance(df, model) :\n",
    "    \"\"\"\n",
    "    Outputs the average feature importance scores of game predictions\n",
    "    \"\"\"\n",
    "    total_correct = total_games = 0\n",
    "    feature_scores = {}\n",
    "    for t in test:\n",
    "        correct, games, importance_scores = pred_by_date_with_importance(df, model, t)\n",
    "        \n",
    "        for feature, score in importance_scores.items():\n",
    "            if feature not in feature_scores:\n",
    "                feature_scores[feature] = []\n",
    "            feature_scores[feature].append(score)\n",
    "            \n",
    "\n",
    "        total_correct += correct\n",
    "        total_games += games\n",
    "\n",
    "    average_importance = {features: sum(scores)/len(scores) for features, scores in feature_scores.items()}  \n",
    "    sorted_features = sorted(average_importance.items(), key=lambda x: x[1], reverse=True)\n",
    "    \n",
    "    return sorted_features"
   ]
  },
  {
   "cell_type": "code",
   "execution_count": null,
   "id": "c00f63e7-1bfe-44df-8a1f-0a15cf17d752",
   "metadata": {},
   "outputs": [],
   "source": [
    "model = XGBClassifier(objective='binary:logistic')\n",
    "importance_scores = test_model_with_importance(df_rolling, model)\n",
    "print(importance_scores)"
   ]
  },
  {
   "cell_type": "markdown",
   "id": "95ea6ebd-3457-4e9c-ba72-315660c22b55",
   "metadata": {},
   "source": [
    "Testing the model with the feature importance scores by iteratively removing the least important features and comparing the accuracy:"
   ]
  },
  {
   "cell_type": "code",
   "execution_count": null,
   "id": "3735050e-52fc-40bc-890f-dcc0d03028a2",
   "metadata": {},
   "outputs": [],
   "source": [
    "def get_training_set_with_features (df, date, num_seasons, features) :\n",
    "    \"\"\"\n",
    "    Input: Date of games, number of seasons and feature subset to include in dataset\n",
    "    Output: All rows from the last num_seasons and all games in the current season up till the given date\n",
    "    \"\"\"\n",
    "    season = date.year if date.month >= 10 else date.year - 1\n",
    "    data = df[df['SEASON_YEAR'].between(season - num_seasons, season)].copy()\n",
    "    data['DAYS_SINCE_GAME'] = [(date-game_day).days for game_day in data['GAME_DATE']]\n",
    "    data = data[data['DAYS_SINCE_GAME'] > 0]\n",
    "\n",
    "    data = data.sort_values(by = 'DAYS_SINCE_GAME')\n",
    "\n",
    "    X = data[features]\n",
    "    y = data['WIN_ONE']\n",
    "\n",
    "    return (X,y)\n",
    "\n",
    "def pred_by_date_with_features (df, model, date, features) :\n",
    "    n = 5 \n",
    "    season = date.year if date.month >= 10 else date.year - 1\n",
    "\n",
    "    X, y = get_training_set_with_features(df, date, n, features)\n",
    "\n",
    "    games_on_day = df[df['GAME_DATE'] == date].copy()\n",
    "    games_on_day['DAYS_SINCE_GAME'] = np.zeros(len(games_on_day))\n",
    "\n",
    "    test = games_on_day[features]\n",
    "    model.fit(X,y)\n",
    "    pred = model.predict(test)\n",
    "    correct = np.sum(pred == games_on_day['WIN_ONE'])\n",
    "    games = len(pred)\n",
    "    return correct, games"
   ]
  },
  {
   "cell_type": "code",
   "execution_count": null,
   "id": "21968670-2a1a-4d82-b3fc-d0c3dfda816f",
   "metadata": {},
   "outputs": [],
   "source": [
    "def feature_selection_with_importance(df, model, current_features, min_subset_size, top_n) :\n",
    "    \"\"\"\n",
    "    Iterates through the feature importance scores and iteratively remove the least importance features\n",
    "    \"\"\"\n",
    "    results = []\n",
    "    # current_features = [f[0] for f in feature_importance]\n",
    "    \n",
    "    while len(current_features) >= min_subset_size:\n",
    "        total_correct = total_games = 0\n",
    "        print(f\"Evaluating with {len(current_features)} features...\")\n",
    "        for t in test:    \n",
    "            correct, games = pred_by_date_with_featuresdf, model, t, features = current_features)\n",
    "        \n",
    "            total_correct += correct\n",
    "            total_games += games\n",
    "        print(current_features, ':', total_correct/total_games)\n",
    "        results.append((current_features.copy(), total_correct/total_games))\n",
    "        current_features.pop(-1)\n",
    "    results.sort(key=lambda x: x[1], reverse=True)\n",
    "    return results[:top_n]"
   ]
  },
  {
   "cell_type": "code",
   "execution_count": null,
   "id": "50d94b5f-a213-44eb-91b2-4b9ff246973a",
   "metadata": {},
   "outputs": [],
   "source": [
    "model = XGBClassifier(objective='binary:logistic')\n",
    "sorted_features = [f[0] for f in importance_scores]\n",
    "print(sorted_features)\n",
    "top_subsets = feature_selection_with_importance(df_rolling, model, sorted_features, min_subset_size=20, top_n=10)\n",
    "\n",
    "for i, (subset, acc) in enumerate(top_subsets, 1):\n",
    "    print(f\"#{i}: Features = {subset}, Accuracy = {acc:.4f}\")"
   ]
  },
  {
   "cell_type": "code",
   "execution_count": null,
   "id": "4d0a8eef-9e47-454d-a7da-cafbf5e60bdb",
   "metadata": {},
   "outputs": [],
   "source": [
    "# best performing feature subset\n",
    "best_feature_subset = top_subsets[0][0]\n",
    "print('Best feature subset: ', best_feature_subset)\n",
    "total_correct = total_games = 0\n",
    "for t in test:\n",
    "    correct, games = pred_by_date_with_features(model, t, best_feature_subset)\n",
    "\n",
    "    total_correct += correct\n",
    "    total_games += games\n",
    "print('Accuracy:', total_correct / total_games)"
   ]
  },
  {
   "cell_type": "markdown",
   "id": "d6406898-423e-4ece-85d0-3a6a702cb128",
   "metadata": {},
   "source": [
    "## Hyperparameter Tuning"
   ]
  },
  {
   "cell_type": "code",
   "execution_count": null,
   "id": "bc4c59a2-4376-4623-89bc-789c85d76b64",
   "metadata": {},
   "outputs": [],
   "source": [
    "def pred_by_date_multiple_models (models_dict, date) :\n",
    "    \"\"\"\n",
    "    Predict the outcome of all games on the given date for all models given. Used specifically to make\n",
    "    cross validation more efficient\n",
    "    \"\"\"\n",
    "    n = 5 # how many years in the past for training\n",
    "    \n",
    "    # determine season of the game\n",
    "    season = date.year if date.month >= 10 else date.year - 1\n",
    "\n",
    "    # get data in relevant time frame\n",
    "    X, y = get_training_set(date, n)\n",
    "\n",
    "    games_on_day = df[df['GAME_DATE'] == date].copy()\n",
    "    games_on_day['DAYS_SINCE_GAME'] = np.zeros(len(games_on_day))\n",
    "\n",
    "    test = games_on_day.drop(columns = ['WIN_ONE', 'GAME_DATE'])\n",
    "\n",
    "    scores = np.zeros(len(models_dict))\n",
    "    for k, v in models_dict.items() :\n",
    "        v.fit(X,y)\n",
    "        pred = v.predict(val_set)\n",
    "        scores[k] = np.sum(pred == games_on_day['WIN_ONE'])\n",
    "    return scores, len(games_on_day)"
   ]
  },
  {
   "cell_type": "code",
   "execution_count": null,
   "id": "1268d1b6-c323-4d87-aa32-daabb089c500",
   "metadata": {},
   "outputs": [],
   "source": [
    "# XGBoost parameters\n",
    "param_grid = {\n",
    "    \"n_estimators\": [50, 100, 200, 400],\n",
    "    \"eta\": [0.01, 0.05, 0.1, 0.2], # learning_rate\n",
    "    \"max_depth\": [4, 6, 8, 10], # maximum depth of a tree\n",
    "    \"subsample\": [0.5, 0.7, 1], # fraction of observation to be radnomly sampled for each tree\n",
    "    \"colsample_bytree\": [0.5, 0.7, 1], # fraction of columns to be random samples for each tree\n",
    "    \"alpha\": [0.5, 1, 2, 5] # lasso regression\n",
    "}\n",
    "\n",
    "param_dict = {} # store params with key corresponding to index of score in np.array\n",
    "index = 0\n",
    "\n",
    "# Iterate over all combinations of hyperparameters\n",
    "for values in itertools.product(*param_grid.values()):\n",
    "    param_dict[index] = XGBClassifier(objective='binary:logistic', random_state = 33, **dict(zip(param_grid.keys(), values)))\n",
    "    index += 1\n",
    "\n",
    "scores = np.zeros(len(param_dict))\n",
    "total_games = 0\n",
    "\n",
    "first_season = df['SEASON_YEAR'].min()\n",
    "last_season = df['SEASON_YEAR'].max()-4\n",
    "\n",
    "for t in test:\n",
    "    s, g = pred_by_date_multiple_models(param_dict, t)\n",
    "\n",
    "    scores += s\n",
    "    total_games += g\n",
    "    print(scores / total_games)\n",
    "\n",
    "print('final scores: ', scores / total_games)"
   ]
  },
  {
   "cell_type": "code",
   "execution_count": null,
   "id": "754e2dda-d5a6-4171-be3e-1d4197ec083b",
   "metadata": {},
   "outputs": [],
   "source": [
    "all_scores = scores / total_games\n",
    "best_model = param_dict[all_scores.argmax()]\n",
    "best_model.get_params() #'n_estimators': 400, eta: 0.01, max_depth: 4, subsample: 0.7, colsample_bytree: 0.7, alpha: 2"
   ]
  },
  {
   "cell_type": "code",
   "execution_count": null,
   "id": "28faf90c-889c-488f-b672-26365de2f2e0",
   "metadata": {},
   "outputs": [],
   "source": [
    "top_five_models = np.argpartition(all_scores, -5)[-5:]\n",
    "top_five_models = top_five_models[np.argsort(-all_scores[top_five_models])]\n",
    "top_five_scores = all_scores[top_five_models]\n",
    "print(top_five_scores)\n",
    "for i in top_five_models : \n",
    "    p = param_dict[i].get_params()\n",
    "    print(f\"n_estimators = {p['n_estimators']}, eta = {p['eta']}, max_depth = {p['max_depth']}, subsample = {p['subsample']}, colsample_bytree = {p['colsample_bytree']}, alpha = {p['alpha']}\")"
   ]
  },
  {
   "cell_type": "markdown",
   "id": "0312c50e-f713-4b42-bd9c-39f24078b902",
   "metadata": {},
   "source": [
    "## Test Models\n",
    "We want to test the model trained on rolling averages and the predicted statistics from the second model. We will predict every game in the last 4 seasons. This means we need to predict all the statistics for the games in the last 9 seasons using the second model. We have these predictions stored in the csv files imported at the beginning."
   ]
  },
  {
   "cell_type": "code",
   "execution_count": null,
   "id": "3eec2b46-faef-4e52-a665-444fc0c5e289",
   "metadata": {},
   "outputs": [],
   "source": [
    "# get all dates in the test set\n",
    "time_horizon = 5 # can change here\n",
    "first_test_season = df_rolling['SEASON_YEAR'].max() - 5\n",
    "test_set = df_rolling[df_rolling['SEASON_YEAR'] >= first_test_season]['GAME_DATE'].sort_values().unique()"
   ]
  },
  {
   "cell_type": "code",
   "execution_count": null,
   "id": "b7e1bb10-f1dc-4d96-b4f7-a765bfd017de",
   "metadata": {},
   "outputs": [],
   "source": [
    "rf = RandomForestClassifier(random_state=33)\n",
    "final_model = XGBClassifier(n_estimators = 200, eta = 0.05, max_depth = 4, subsample = 0.5, colsample_bytree = 0.5, alpha = 1, random_state=42)"
   ]
  },
  {
   "cell_type": "markdown",
   "id": "1f549dfc-be56-4813-b333-3eb63186dfd8",
   "metadata": {},
   "source": [
    "### Rolling Window "
   ]
  },
  {
   "cell_type": "code",
   "execution_count": null,
   "id": "84703bdb-04b0-4080-ae57-9ed09c0e19ae",
   "metadata": {},
   "outputs": [],
   "source": [
    "correct, games = test_model(df_rolling, rf, test_set)\n",
    "print(\"Score:\", correct / games)"
   ]
  },
  {
   "cell_type": "code",
   "execution_count": null,
   "id": "9944378a-8a49-424c-8cee-e767caf3d4ff",
   "metadata": {},
   "outputs": [],
   "source": [
    "correct, games = test_model(df_rolling, final_model, test_set)\n",
    "print(\"Score:\", correct / games)"
   ]
  },
  {
   "cell_type": "markdown",
   "id": "8d9c5e3c-80e2-4fda-95d0-2d4603d3f0c8",
   "metadata": {},
   "source": [
    "### ML Model Predictions"
   ]
  },
  {
   "cell_type": "code",
   "execution_count": null,
   "id": "0d733b81-26ea-4474-890b-500abd5c55e5",
   "metadata": {},
   "outputs": [],
   "source": [
    "correct, games = test_model(df_model, rf, test_set)\n",
    "print(\"Score:\", correct / games)"
   ]
  },
  {
   "cell_type": "code",
   "execution_count": null,
   "id": "c3804a89-5148-4648-bcb7-5859b5c72ee0",
   "metadata": {},
   "outputs": [],
   "source": [
    "correct, games = test_model(df_model, final_model, test_set)\n",
    "print(\"Score:\", correct / games)"
   ]
  },
  {
   "cell_type": "markdown",
   "id": "1ff31ebb-5d4c-43c6-9fe6-9ec9d8ac3a38",
   "metadata": {},
   "source": [
    "## Playoff Prediction\n",
    "First Round:\n",
    "\n",
    "Eastern\n",
    "1. Cleveland (C) vs. Miami (H): 4/20 C, 4/23 C, 4/26 H, 4/28 H, 4/30 C, 5/2 H, 5/4 C\n",
    "2. Boston (C) vs. Orlando (M): 4/20 C, 4/23 C, 4/25 M, 4/27 M, 4/29 C, 5/1 M, 5/3 C\n",
    "3. New York (K) vs. Detroit (P): 4/19 K, 4/21 K, 4/24 P, 4/27 P, 4/29 K, 5/1 P, 5/3 K\n",
    "4. Indiana (P) vs. Milwaukee (B): 4/19 P, 4/22 P, 4/25 B, 4/27 B, 4/29 P, 5/2 B, 5/4 P\n",
    "\n",
    "Western\n",
    "1. Oklahoma City (T) vs. Memphis (G): 4/20 T, 4/22 T, 4/24 G, 4/26 G, 4/28 T, 5/1 G, 5/3 T\n",
    "2. Houston (R) vs Golden State (W): 4/20 R, 4/23 R, 4/26 W, 4/28 W, 4/30 R, 5/2 W, 5/4 R\n",
    "3. LA Lakers (L) vs. Minnesota (T): 4/19 L, 4/22 L, 4/25 T, 4/27 T, 4/30 L, 5/2 T, 5/4 L\n",
    "4. Denver (N) vs. LA Clippers (C): 4/19 N, 4/21 N, 4/24 C, 4/26 C, 4/29 N, 5/1 C, 5/3 N\n",
    "\n",
    "Semifinals begin May 5-6\n",
    "\n",
    "Conference Finals begin May 20-21\n",
    "\n",
    "Western: 5/20, 5/22, 5/24, 5/26, 5/28, 5/30, 6/1\n",
    "\n",
    "Eastern: 5/21, 5/23, 5/25, 5/27, 5/29, 5/31, 6/2\n",
    "\n",
    "Finals begin June 5: 6/5, 6/8, 6/11, 6/13, 6/16, 6/19, 6/22\n"
   ]
  },
  {
   "cell_type": "code",
   "execution_count": null,
   "id": "da525383-775c-404e-a4d7-0dedd5aef5d2",
   "metadata": {},
   "outputs": [],
   "source": [
    "df_model = pd.read_csv('df_model_tuned.csv')\n",
    "df_model['GAME_DATE'] = pd.to_datetime(df_model['GAME_DATE'])"
   ]
  },
  {
   "cell_type": "markdown",
   "id": "c36ef87c-5390-4a7b-accd-db5871a14f5e",
   "metadata": {},
   "source": [
    "### Round 1\n",
    "#### Game 1"
   ]
  },
  {
   "cell_type": "code",
   "execution_count": null,
   "id": "98c3720c-d7a6-4640-9ecd-9def466a489f",
   "metadata": {},
   "outputs": [],
   "source": [
    "game_one = pd.read_csv('playoffs_round_one_one.csv')\n",
    "game_one['GAME_DATE'] = pd.to_datetime(game_one['GAME_DATE'])\n",
    "\n",
    "df_model= pd.concat([df_model, game_one])\n",
    "test_set = game_one['GAME_DATE'].unique()\n",
    "\n",
    "for t in test_set :\n",
    "    pred, act = pred_by_date(df_model, final_model, t)\n",
    "\n",
    "    game_outcomes = df_model[df_model['GAME_DATE'] == t][['TEAM_ID_ONE', 'TEAM_ID_TWO']]\n",
    "    game_outcomes['OUTCOME'] = pred\n",
    "    print(game_outcomes)"
   ]
  },
  {
   "cell_type": "markdown",
   "id": "67117bea-ce9c-491c-889c-5892aaf1fb34",
   "metadata": {},
   "source": [
    "#### Game 2"
   ]
  },
  {
   "cell_type": "code",
   "execution_count": null,
   "id": "3ed2eb58-e09c-4e6e-9089-9786d4b95b92",
   "metadata": {},
   "outputs": [],
   "source": [
    "game_two = pd.read_csv('playoffs_round_one_two.csv')\n",
    "game_two['GAME_DATE'] = pd.to_datetime(game_two['GAME_DATE'])\n",
    "\n",
    "df_model= pd.concat([df_model, game_two])\n",
    "test_set = game_two['GAME_DATE'].unique()\n",
    "\n",
    "for t in test_set :\n",
    "    pred, act = pred_by_date(df_model, final_model, t)\n",
    "\n",
    "    game_outcomes = df_model[df_model['GAME_DATE'] == t][['TEAM_ID_ONE', 'TEAM_ID_TWO']]\n",
    "    game_outcomes['OUTCOME'] = pred\n",
    "    print(game_outcomes)"
   ]
  },
  {
   "cell_type": "markdown",
   "id": "255a3357-fd5c-40c0-9f49-b21b7c28b06c",
   "metadata": {},
   "source": [
    "#### Game 3"
   ]
  },
  {
   "cell_type": "code",
   "execution_count": null,
   "id": "62c06736-56ac-4658-9aa8-8b071d7cbeae",
   "metadata": {},
   "outputs": [],
   "source": [
    "game_three= pd.read_csv('playoffs_round_one_three.csv')\n",
    "game_three['GAME_DATE'] = pd.to_datetime(game_three['GAME_DATE'])\n",
    "\n",
    "df_model= pd.concat([df_model, game_three])\n",
    "test_set = game_three['GAME_DATE'].unique()\n",
    "\n",
    "for t in test_set :\n",
    "    pred, act = pred_by_date(df_model, final_model, t)\n",
    "\n",
    "    game_outcomes = df_model[df_model['GAME_DATE'] == t][['TEAM_ID_ONE', 'TEAM_ID_TWO']]\n",
    "    game_outcomes['OUTCOME'] = pred\n",
    "    print(game_outcomes)"
   ]
  },
  {
   "cell_type": "markdown",
   "id": "6029c3dd-0114-49ac-a4ad-2b29cfc6fb40",
   "metadata": {},
   "source": [
    "#### Game 4"
   ]
  },
  {
   "cell_type": "code",
   "execution_count": null,
   "id": "87500834-ab73-4a3d-9698-e81de1bb68ee",
   "metadata": {},
   "outputs": [],
   "source": [
    "game_four= pd.read_csv('playoffs_round_one_four.csv')\n",
    "game_four['GAME_DATE'] = pd.to_datetime(game_four['GAME_DATE'])\n",
    "\n",
    "df_model= pd.concat([df_model, game_four])\n",
    "test_set = game_four['GAME_DATE'].unique()\n",
    "\n",
    "for t in test_set :\n",
    "    pred, act = pred_by_date(df_model, final_model, t)\n",
    "\n",
    "    game_outcomes = df_model[df_model['GAME_DATE'] == t][['TEAM_ID_ONE', 'TEAM_ID_TWO']]\n",
    "    game_outcomes['OUTCOME'] = pred\n",
    "    print(game_outcomes)"
   ]
  },
  {
   "cell_type": "markdown",
   "id": "8df71d81-fb27-40ec-826b-a220165303b9",
   "metadata": {},
   "source": [
    "#### Game 5"
   ]
  },
  {
   "cell_type": "code",
   "execution_count": null,
   "id": "64e9058c-a1ef-4a29-b70c-f76bf78269c9",
   "metadata": {},
   "outputs": [],
   "source": [
    "game_five = pd.read_csv('playoffs_round_one_five.csv')\n",
    "game_five['GAME_DATE'] = pd.to_datetime(game_five['GAME_DATE'])\n",
    "\n",
    "df_model= pd.concat([df_model, game_five])\n",
    "test_set = game_five['GAME_DATE'].unique()\n",
    "\n",
    "for t in test_set :\n",
    "    pred, act = pred_by_date(df_model, final_model, t)\n",
    "\n",
    "    game_outcomes = df_model[df_model['GAME_DATE'] == t][['TEAM_ID_ONE', 'TEAM_ID_TWO']]\n",
    "    game_outcomes['OUTCOME'] = pred\n",
    "    print(game_outcomes)"
   ]
  },
  {
   "cell_type": "markdown",
   "id": "2550aab6-8dd4-4ffc-92b7-aecfa2de5169",
   "metadata": {},
   "source": [
    "#### Game 6"
   ]
  },
  {
   "cell_type": "code",
   "execution_count": null,
   "id": "cdccbb0d-335e-451b-a06b-665d266567c3",
   "metadata": {},
   "outputs": [],
   "source": [
    "game_six = pd.read_csv('playoffs_round_one_six.csv')\n",
    "game_six['GAME_DATE'] = pd.to_datetime(game_six['GAME_DATE'])\n",
    "\n",
    "df_model= pd.concat([df_model, game_six])\n",
    "test_set = game_six['GAME_DATE'].unique()\n",
    "\n",
    "for t in test_set :\n",
    "    pred, act = pred_by_date(df_model, final_model, t)\n",
    "\n",
    "    game_outcomes = df_model[df_model['GAME_DATE'] == t][['TEAM_ID_ONE', 'TEAM_ID_TWO']]\n",
    "    game_outcomes['OUTCOME'] = pred\n",
    "    print(game_outcomes)"
   ]
  },
  {
   "cell_type": "markdown",
   "id": "5520afea-65bb-43d4-af8e-0db5b85a5353",
   "metadata": {},
   "source": [
    "#### Game 7"
   ]
  },
  {
   "cell_type": "code",
   "execution_count": null,
   "id": "00e28ccb-d864-4651-880a-8fba8ef3d8b5",
   "metadata": {},
   "outputs": [],
   "source": [
    "game_seven = pd.read_csv('playoffs_round_one_seven.csv')\n",
    "game_seven['GAME_DATE'] = pd.to_datetime(game_seven['GAME_DATE'])\n",
    "\n",
    "df_model= pd.concat([df_model, game_seven])\n",
    "test_set = game_seven['GAME_DATE'].unique()\n",
    "\n",
    "for t in test_set :\n",
    "    pred, act = pred_by_date(df_model, final_model, t)\n",
    "\n",
    "    game_outcomes = df_model[df_model['GAME_DATE'] == t][['TEAM_ID_ONE', 'TEAM_ID_TWO']]\n",
    "    game_outcomes['OUTCOME'] = pred\n",
    "    print(game_outcomes)"
   ]
  },
  {
   "cell_type": "markdown",
   "id": "ca879f4d-0c58-4837-aac1-3693f5455184",
   "metadata": {},
   "source": [
    "### Round 2\n",
    "#### Game 1"
   ]
  },
  {
   "cell_type": "code",
   "execution_count": null,
   "id": "100d1672-81b4-4afe-9dce-b2035b816534",
   "metadata": {},
   "outputs": [],
   "source": [
    "game_one = pd.read_csv('playoffs_round_two_one.csv')\n",
    "game_one['GAME_DATE'] = pd.to_datetime(game_one['GAME_DATE'])\n",
    "\n",
    "df_model= pd.concat([df_model, game_one])\n",
    "test_set = game_one['GAME_DATE'].unique()\n",
    "\n",
    "for t in test_set :\n",
    "    pred, act = pred_by_date(df_model, final_model, t)\n",
    "\n",
    "    game_outcomes = df_model[df_model['GAME_DATE'] == t][['TEAM_ID_ONE', 'TEAM_ID_TWO']]\n",
    "    game_outcomes['OUTCOME'] = pred\n",
    "    print(game_outcomes)"
   ]
  },
  {
   "cell_type": "markdown",
   "id": "d133a1cb-5942-4eea-874b-86f8df5877d0",
   "metadata": {},
   "source": [
    "#### Game 2"
   ]
  },
  {
   "cell_type": "code",
   "execution_count": null,
   "id": "3d4cefc5-016e-4804-9fb8-529c5e64428f",
   "metadata": {},
   "outputs": [],
   "source": [
    "game_two = pd.read_csv('playoffs_round_two_two.csv')\n",
    "game_two['GAME_DATE'] = pd.to_datetime(game_two['GAME_DATE'])\n",
    "\n",
    "df_model= pd.concat([df_model, game_two])\n",
    "test_set = game_two['GAME_DATE'].unique()\n",
    "\n",
    "for t in test_set :\n",
    "    pred, act = pred_by_date(df_model, final_model, t)\n",
    "\n",
    "    game_outcomes = df_model[df_model['GAME_DATE'] == t][['TEAM_ID_ONE', 'TEAM_ID_TWO']]\n",
    "    game_outcomes['OUTCOME'] = pred\n",
    "    print(game_outcomes)"
   ]
  },
  {
   "cell_type": "markdown",
   "id": "cf065ce7-bb83-4e82-9bbc-312f785cefde",
   "metadata": {},
   "source": [
    "#### Game 3"
   ]
  },
  {
   "cell_type": "code",
   "execution_count": null,
   "id": "6b9de70b-419a-4894-8e07-49250ea8ccec",
   "metadata": {},
   "outputs": [],
   "source": [
    "game_three= pd.read_csv('playoffs_round_two_three.csv')\n",
    "game_three['GAME_DATE'] = pd.to_datetime(game_three['GAME_DATE'])\n",
    "\n",
    "df_model= pd.concat([df_model, game_three])\n",
    "test_set = game_three['GAME_DATE'].unique()\n",
    "\n",
    "for t in test_set :\n",
    "    pred, act = pred_by_date(df_model, final_model, t)\n",
    "\n",
    "    game_outcomes = df_model[df_model['GAME_DATE'] == t][['TEAM_ID_ONE', 'TEAM_ID_TWO']]\n",
    "    game_outcomes['OUTCOME'] = pred\n",
    "    print(game_outcomes)"
   ]
  },
  {
   "cell_type": "markdown",
   "id": "5ccb6603-2642-4c80-9220-5db7efa81bdc",
   "metadata": {},
   "source": [
    "#### Game 4"
   ]
  },
  {
   "cell_type": "code",
   "execution_count": null,
   "id": "590b53c2-14c5-4830-a46f-c78c3c25650a",
   "metadata": {},
   "outputs": [],
   "source": [
    "game_four= pd.read_csv('playoffs_round_two_four.csv')\n",
    "game_four['GAME_DATE'] = pd.to_datetime(game_four['GAME_DATE'])\n",
    "\n",
    "df_model= pd.concat([df_model, game_four])\n",
    "test_set = game_four['GAME_DATE'].unique()\n",
    "\n",
    "for t in test_set :\n",
    "    pred, act = pred_by_date(df_model, final_model, t)\n",
    "\n",
    "    game_outcomes = df_model[df_model['GAME_DATE'] == t][['TEAM_ID_ONE', 'TEAM_ID_TWO']]\n",
    "    game_outcomes['OUTCOME'] = pred\n",
    "    print(game_outcomes)"
   ]
  },
  {
   "cell_type": "markdown",
   "id": "e85e8305-6799-4de6-96b9-f9ba9c35c409",
   "metadata": {},
   "source": [
    "#### Game 5"
   ]
  },
  {
   "cell_type": "code",
   "execution_count": null,
   "id": "2479b864-4e3f-4663-a9da-9a963c2eca89",
   "metadata": {},
   "outputs": [],
   "source": [
    "game_five = pd.read_csv('playoffs_round_two_five.csv')\n",
    "game_five['GAME_DATE'] = pd.to_datetime(game_five['GAME_DATE'])\n",
    "\n",
    "df_model= pd.concat([df_model, game_five])\n",
    "test_set = game_five['GAME_DATE'].unique()\n",
    "\n",
    "for t in test_set :\n",
    "    pred, act = pred_by_date(df_model, final_model, t)\n",
    "\n",
    "    game_outcomes = df_model[df_model['GAME_DATE'] == t][['TEAM_ID_ONE', 'TEAM_ID_TWO']]\n",
    "    game_outcomes['OUTCOME'] = pred\n",
    "    print(game_outcomes)"
   ]
  },
  {
   "cell_type": "markdown",
   "id": "fe2de723-b58a-41ad-a3ed-f87dfafbc2bf",
   "metadata": {},
   "source": [
    "#### Game 6"
   ]
  },
  {
   "cell_type": "code",
   "execution_count": null,
   "id": "3d39341f-b918-4097-9992-0a9d79b13c59",
   "metadata": {},
   "outputs": [],
   "source": [
    "game_six = pd.read_csv('playoffs_round_two_six.csv')\n",
    "game_six['GAME_DATE'] = pd.to_datetime(game_six['GAME_DATE'])\n",
    "\n",
    "df_model= pd.concat([df_model, game_six])\n",
    "test_set = game_six['GAME_DATE'].unique()\n",
    "\n",
    "for t in test_set :\n",
    "    pred, act = pred_by_date(df_model, final_model, t)\n",
    "\n",
    "    game_outcomes = df_model[df_model['GAME_DATE'] == t][['TEAM_ID_ONE', 'TEAM_ID_TWO']]\n",
    "    game_outcomes['OUTCOME'] = pred\n",
    "    print(game_outcomes)"
   ]
  },
  {
   "cell_type": "markdown",
   "id": "2fdc5e87-902f-46a2-ba38-4d871677b6cb",
   "metadata": {},
   "source": [
    "#### Game 7"
   ]
  },
  {
   "cell_type": "code",
   "execution_count": null,
   "id": "ab888152-e92f-42aa-ad68-0196fed3587d",
   "metadata": {},
   "outputs": [],
   "source": [
    "game_seven = pd.read_csv('playoffs_round_two_seven.csv')\n",
    "game_seven['GAME_DATE'] = pd.to_datetime(game_seven['GAME_DATE'])\n",
    "\n",
    "df_model= pd.concat([df_model, game_seven])\n",
    "test_set = game_seven['GAME_DATE'].unique()\n",
    "\n",
    "for t in test_set :\n",
    "    pred, act = pred_by_date(df_model, final_model, t)\n",
    "\n",
    "    game_outcomes = df_model[df_model['GAME_DATE'] == t][['TEAM_ID_ONE', 'TEAM_ID_TWO']]\n",
    "    game_outcomes['OUTCOME'] = pred\n",
    "    print(game_outcomes)"
   ]
  },
  {
   "cell_type": "markdown",
   "id": "daa8185b-a687-4c61-9fd0-1c5acfdb858f",
   "metadata": {},
   "source": [
    "### Round 3: Conference Finals\n",
    "#### Game 1"
   ]
  },
  {
   "cell_type": "code",
   "execution_count": null,
   "id": "c83eba53-d1e3-4e87-8c43-a5cb4b340a42",
   "metadata": {},
   "outputs": [],
   "source": [
    "game_one = pd.read_csv('playoffs_round_three_one.csv')\n",
    "game_one['GAME_DATE'] = pd.to_datetime(game_one['GAME_DATE'])\n",
    "\n",
    "df_model= pd.concat([df_model, game_one])\n",
    "test_set = game_one['GAME_DATE'].unique()\n",
    "\n",
    "for t in test_set :\n",
    "    pred, act = pred_by_date(df_model, final_model, t)\n",
    "\n",
    "    game_outcomes = df_model[df_model['GAME_DATE'] == t][['TEAM_ID_ONE', 'TEAM_ID_TWO']]\n",
    "    game_outcomes['OUTCOME'] = pred\n",
    "    print(game_outcomes)"
   ]
  },
  {
   "cell_type": "markdown",
   "id": "a97f8781-0a98-4fec-85d8-48f267c40ae1",
   "metadata": {},
   "source": [
    "#### Game 2"
   ]
  },
  {
   "cell_type": "code",
   "execution_count": null,
   "id": "686b324e-35a8-4fe0-adba-75009e815dd0",
   "metadata": {},
   "outputs": [],
   "source": [
    "game_two = pd.read_csv('playoffs_round_three_two.csv')\n",
    "game_two['GAME_DATE'] = pd.to_datetime(game_two['GAME_DATE'])\n",
    "\n",
    "df_model= pd.concat([df_model, game_two])\n",
    "test_set = game_two['GAME_DATE'].unique()\n",
    "\n",
    "for t in test_set :\n",
    "    pred, act = pred_by_date(df_model, final_model, t)\n",
    "\n",
    "    game_outcomes = df_model[df_model['GAME_DATE'] == t][['TEAM_ID_ONE', 'TEAM_ID_TWO']]\n",
    "    game_outcomes['OUTCOME'] = pred\n",
    "    print(game_outcomes)"
   ]
  },
  {
   "cell_type": "markdown",
   "id": "f2202c82-da09-4382-89de-c7ee35670caa",
   "metadata": {},
   "source": [
    "#### Game 3"
   ]
  },
  {
   "cell_type": "code",
   "execution_count": null,
   "id": "fe0300d3-5052-4f74-a009-38b587bf08fc",
   "metadata": {},
   "outputs": [],
   "source": [
    "game_three= pd.read_csv('playoffs_round_three_three.csv')\n",
    "game_three['GAME_DATE'] = pd.to_datetime(game_three['GAME_DATE'])\n",
    "\n",
    "df_model= pd.concat([df_model, game_three])\n",
    "test_set = game_three['GAME_DATE'].unique()\n",
    "\n",
    "for t in test_set :\n",
    "    pred, act = pred_by_date(df_model, final_model, t)\n",
    "\n",
    "    game_outcomes = df_model[df_model['GAME_DATE'] == t][['TEAM_ID_ONE', 'TEAM_ID_TWO']]\n",
    "    game_outcomes['OUTCOME'] = pred\n",
    "    print(game_outcomes)"
   ]
  },
  {
   "cell_type": "markdown",
   "id": "a2d72f37-5aaf-4f04-a075-922d516375fb",
   "metadata": {},
   "source": [
    "#### Game 4"
   ]
  },
  {
   "cell_type": "code",
   "execution_count": null,
   "id": "38676792-239e-45ce-870c-4310b70bb552",
   "metadata": {},
   "outputs": [],
   "source": [
    "game_four= pd.read_csv('playoffs_round_three_four.csv')\n",
    "game_four['GAME_DATE'] = pd.to_datetime(game_four['GAME_DATE'])\n",
    "\n",
    "df_model= pd.concat([df_model, game_four])\n",
    "test_set = game_four['GAME_DATE'].unique()\n",
    "\n",
    "for t in test_set :\n",
    "    pred, act = pred_by_date(df_model, final_model, t)\n",
    "\n",
    "    game_outcomes = df_model[df_model['GAME_DATE'] == t][['TEAM_ID_ONE', 'TEAM_ID_TWO']]\n",
    "    game_outcomes['OUTCOME'] = pred\n",
    "    print(game_outcomes)"
   ]
  },
  {
   "cell_type": "markdown",
   "id": "a7c62304-ccb7-4044-bbcd-648560d4df2a",
   "metadata": {},
   "source": [
    "#### Game 5"
   ]
  },
  {
   "cell_type": "code",
   "execution_count": null,
   "id": "cbeaba82-90c6-4e52-8804-a44905b43566",
   "metadata": {},
   "outputs": [],
   "source": [
    "game_five = pd.read_csv('playoffs_round_three_five.csv')\n",
    "game_five['GAME_DATE'] = pd.to_datetime(game_five['GAME_DATE'])\n",
    "\n",
    "df_model= pd.concat([df_model, game_five])\n",
    "test_set = game_five['GAME_DATE'].unique()\n",
    "\n",
    "for t in test_set :\n",
    "    pred, act = pred_by_date(df_model, final_model, t)\n",
    "\n",
    "    game_outcomes = df_model[df_model['GAME_DATE'] == t][['TEAM_ID_ONE', 'TEAM_ID_TWO']]\n",
    "    game_outcomes['OUTCOME'] = pred\n",
    "    print(game_outcomes)"
   ]
  },
  {
   "cell_type": "markdown",
   "id": "23d630a6-aba1-4f8d-90fc-c5c5386133d6",
   "metadata": {},
   "source": [
    "#### Game 6"
   ]
  },
  {
   "cell_type": "code",
   "execution_count": null,
   "id": "4963670a-90ba-4495-977e-04babbaf9321",
   "metadata": {},
   "outputs": [],
   "source": [
    "game_six = pd.read_csv('playoffs_round_three_six.csv')\n",
    "game_six['GAME_DATE'] = pd.to_datetime(game_six['GAME_DATE'])\n",
    "\n",
    "df_model= pd.concat([df_model, game_six])\n",
    "test_set = game_six['GAME_DATE'].unique()\n",
    "\n",
    "for t in test_set :\n",
    "    pred, act = pred_by_date(df_model, final_model, t)\n",
    "\n",
    "    game_outcomes = df_model[df_model['GAME_DATE'] == t][['TEAM_ID_ONE', 'TEAM_ID_TWO']]\n",
    "    game_outcomes['OUTCOME'] = pred\n",
    "    print(game_outcomes)"
   ]
  },
  {
   "cell_type": "markdown",
   "id": "1739ca04-608d-41bc-8866-eb83b7780b57",
   "metadata": {},
   "source": [
    "#### Game 7"
   ]
  },
  {
   "cell_type": "code",
   "execution_count": null,
   "id": "eb6bb56a-a0c9-46bf-9540-8d2bb9ada841",
   "metadata": {},
   "outputs": [],
   "source": [
    "game_seven = pd.read_csv('playoffs_round_three_seven.csv')\n",
    "game_seven['GAME_DATE'] = pd.to_datetime(game_seven['GAME_DATE'])\n",
    "\n",
    "df_model= pd.concat([df_model, game_seven])\n",
    "test_set = game_seven['GAME_DATE'].unique()\n",
    "\n",
    "for t in test_set :\n",
    "    pred, act = pred_by_date(df_model, final_model, t)\n",
    "\n",
    "    game_outcomes = df_model[df_model['GAME_DATE'] == t][['TEAM_ID_ONE', 'TEAM_ID_TWO']]\n",
    "    game_outcomes['OUTCOME'] = pred\n",
    "    print(game_outcomes)"
   ]
  },
  {
   "cell_type": "markdown",
   "id": "72ba1748-b6e3-482d-aed9-c852ab2a9192",
   "metadata": {},
   "source": [
    "### Round 4 : Finals"
   ]
  },
  {
   "cell_type": "markdown",
   "id": "2837558c-2cfc-450f-a2ab-116e0fbd8673",
   "metadata": {},
   "source": [
    "#### Game 1"
   ]
  },
  {
   "cell_type": "code",
   "execution_count": null,
   "id": "a4805631-78c6-4157-a12d-15851c19b4ea",
   "metadata": {},
   "outputs": [],
   "source": [
    "game_one = pd.read_csv('playoffs_round_four_one.csv')\n",
    "game_one['GAME_DATE'] = pd.to_datetime(game_one['GAME_DATE'])\n",
    "\n",
    "df_model= pd.concat([df_model, game_one])\n",
    "test_set = game_one['GAME_DATE'].unique()\n",
    "\n",
    "for t in test_set :\n",
    "    pred, act = pred_by_date(df_model, final_model, t)\n",
    "\n",
    "    game_outcomes = df_model[df_model['GAME_DATE'] == t][['TEAM_ID_ONE', 'TEAM_ID_TWO']]\n",
    "    game_outcomes['OUTCOME'] = pred\n",
    "    print(game_outcomes)"
   ]
  },
  {
   "cell_type": "markdown",
   "id": "6b3b99f5-6000-44f3-aab1-1798c2b58a7f",
   "metadata": {},
   "source": [
    "#### Game 2"
   ]
  },
  {
   "cell_type": "code",
   "execution_count": null,
   "id": "57ac56fb-5cc7-4baf-8b2e-46f74ce50388",
   "metadata": {},
   "outputs": [],
   "source": [
    "game_two = pd.read_csv('playoffs_round_four_two.csv')\n",
    "game_two['GAME_DATE'] = pd.to_datetime(game_two['GAME_DATE'])\n",
    "\n",
    "df_model= pd.concat([df_model, game_two])\n",
    "test_set = game_two['GAME_DATE'].unique()\n",
    "\n",
    "for t in test_set :\n",
    "    pred, act = pred_by_date(df_model, final_model, t)\n",
    "\n",
    "    game_outcomes = df_model[df_model['GAME_DATE'] == t][['TEAM_ID_ONE', 'TEAM_ID_TWO']]\n",
    "    game_outcomes['OUTCOME'] = pred\n",
    "    print(game_outcomes)"
   ]
  },
  {
   "cell_type": "markdown",
   "id": "e143d23e-ffae-4969-abb3-f803ed39f8a5",
   "metadata": {},
   "source": [
    "#### Game 3"
   ]
  },
  {
   "cell_type": "code",
   "execution_count": null,
   "id": "0e1f9849-f96d-476d-9a9a-203bf3adb746",
   "metadata": {},
   "outputs": [],
   "source": [
    "game_three= pd.read_csv('playoffs_round_four_three.csv')\n",
    "game_three['GAME_DATE'] = pd.to_datetime(game_three['GAME_DATE'])\n",
    "\n",
    "df_model= pd.concat([df_model, game_three])\n",
    "test_set = game_three['GAME_DATE'].unique()\n",
    "\n",
    "for t in test_set :\n",
    "    pred, act = pred_by_date(df_model, final_model, t)\n",
    "\n",
    "    game_outcomes = df_model[df_model['GAME_DATE'] == t][['TEAM_ID_ONE', 'TEAM_ID_TWO']]\n",
    "    game_outcomes['OUTCOME'] = pred\n",
    "    print(game_outcomes)"
   ]
  },
  {
   "cell_type": "markdown",
   "id": "5c7ed6f6-4c15-4154-840e-e656659c7468",
   "metadata": {},
   "source": [
    "#### Game 4"
   ]
  },
  {
   "cell_type": "code",
   "execution_count": null,
   "id": "18fca91a-bbff-4c71-b2c5-fc0bac309db4",
   "metadata": {},
   "outputs": [],
   "source": [
    "game_four= pd.read_csv('playoffs_round_four_four.csv')\n",
    "game_four['GAME_DATE'] = pd.to_datetime(game_four['GAME_DATE'])\n",
    "\n",
    "df_model= pd.concat([df_model, game_four])\n",
    "test_set = game_four['GAME_DATE'].unique()\n",
    "\n",
    "for t in test_set :\n",
    "    pred, act = pred_by_date(df_model, final_model, t)\n",
    "\n",
    "    game_outcomes = df_model[df_model['GAME_DATE'] == t][['TEAM_ID_ONE', 'TEAM_ID_TWO']]\n",
    "    game_outcomes['OUTCOME'] = pred\n",
    "    print(game_outcomes)"
   ]
  },
  {
   "cell_type": "markdown",
   "id": "2d430d9b-40d0-4e12-b3ab-3d8b4711aa49",
   "metadata": {},
   "source": [
    "#### Game 5"
   ]
  },
  {
   "cell_type": "code",
   "execution_count": null,
   "id": "81fbc900-e043-48f2-a2df-726e3d838633",
   "metadata": {},
   "outputs": [],
   "source": [
    "game_five = pd.read_csv('playoffs_round_four_five.csv')\n",
    "game_five['GAME_DATE'] = pd.to_datetime(game_five['GAME_DATE'])\n",
    "\n",
    "df_model= pd.concat([df_model, game_five])\n",
    "test_set = game_five['GAME_DATE'].unique()\n",
    "\n",
    "for t in test_set :\n",
    "    pred, act = pred_by_date(df_model, final_model, t)\n",
    "\n",
    "    game_outcomes = df_model[df_model['GAME_DATE'] == t][['TEAM_ID_ONE', 'TEAM_ID_TWO']]\n",
    "    game_outcomes['OUTCOME'] = pred\n",
    "    print(game_outcomes)"
   ]
  },
  {
   "cell_type": "markdown",
   "id": "2686839e-7ff1-40f5-80be-f015cbd0504c",
   "metadata": {},
   "source": [
    "#### Game 6"
   ]
  },
  {
   "cell_type": "code",
   "execution_count": null,
   "id": "1c8d7cf7-a0a1-411b-8525-d53586ae78e6",
   "metadata": {},
   "outputs": [],
   "source": [
    "game_six = pd.read_csv('playoffs_round_four_six.csv')\n",
    "game_six['GAME_DATE'] = pd.to_datetime(game_six['GAME_DATE'])\n",
    "\n",
    "df_model= pd.concat([df_model, game_six])\n",
    "test_set = game_six['GAME_DATE'].unique()\n",
    "\n",
    "for t in test_set :\n",
    "    pred, act = pred_by_date(df_model, final_model, t)\n",
    "\n",
    "    game_outcomes = df_model[df_model['GAME_DATE'] == t][['TEAM_ID_ONE', 'TEAM_ID_TWO']]\n",
    "    game_outcomes['OUTCOME'] = pred\n",
    "    print(game_outcomes)"
   ]
  },
  {
   "cell_type": "markdown",
   "id": "734550bf-0454-47e1-9c78-58ac9c6f9876",
   "metadata": {},
   "source": [
    "#### Game 7"
   ]
  },
  {
   "cell_type": "code",
   "execution_count": null,
   "id": "d229c703-8bef-4e5e-bece-834950dac5ad",
   "metadata": {},
   "outputs": [],
   "source": [
    "game_seven = pd.read_csv('playoffs_round_four_seven.csv')\n",
    "game_seven['GAME_DATE'] = pd.to_datetime(game_seven['GAME_DATE'])\n",
    "\n",
    "df_model= pd.concat([df_model, game_seven])\n",
    "test_set = game_seven['GAME_DATE'].unique()\n",
    "\n",
    "for t in test_set :\n",
    "    pred, act = pred_by_date(df_model, final_model, t)\n",
    "\n",
    "    game_outcomes = df_model[df_model['GAME_DATE'] == t][['TEAM_ID_ONE', 'TEAM_ID_TWO']]\n",
    "    game_outcomes['OUTCOME'] = pred\n",
    "    print(game_outcomes)"
   ]
  },
  {
   "cell_type": "code",
   "execution_count": null,
   "id": "4a054e3b-377b-458b-befc-9c72f5c4cff2",
   "metadata": {},
   "outputs": [],
   "source": []
  }
 ],
 "metadata": {
  "kernelspec": {
   "display_name": "Python 3 (ipykernel)",
   "language": "python",
   "name": "python3"
  },
  "language_info": {
   "codemirror_mode": {
    "name": "ipython",
    "version": 3
   },
   "file_extension": ".py",
   "mimetype": "text/x-python",
   "name": "python",
   "nbconvert_exporter": "python",
   "pygments_lexer": "ipython3",
   "version": "3.12.0"
  }
 },
 "nbformat": 4,
 "nbformat_minor": 5
}
