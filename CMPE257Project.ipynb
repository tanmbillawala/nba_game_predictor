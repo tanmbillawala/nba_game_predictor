{
 "cells": [
  {
   "cell_type": "markdown",
   "id": "ebbd09ee-9206-4948-9ae6-e42e7d20976a",
   "metadata": {},
   "source": [
    "# NBA Game Predictor\n",
    "### CMPE 257 Project\n",
    "Authors: Kaushika Uppu, Miranda Billawala, Yun Ei Hlaing, Iris Cheung"
   ]
  },
  {
   "cell_type": "markdown",
   "id": "897f5cbd-6516-49cf-9271-94878f5f9d0c",
   "metadata": {},
   "source": [
    "## Imports"
   ]
  },
  {
   "cell_type": "code",
   "execution_count": 145,
   "id": "c030921a-827d-4a1f-af9b-104e618da8c8",
   "metadata": {},
   "outputs": [],
   "source": [
    "import pandas as pd\n",
    "import numpy as np\n",
    "import time\n",
    "from nba_api.stats.static import teams\n",
    "from nba_api.stats.endpoints import teamgamelogs"
   ]
  },
  {
   "cell_type": "markdown",
   "id": "d28abb9c-228a-49bb-9721-215d0f183617",
   "metadata": {},
   "source": [
    "## Loading In NBA Game Data"
   ]
  },
  {
   "cell_type": "code",
   "execution_count": 14,
   "id": "6e681d72-57e5-4cc2-993e-ec9ee3e3eefc",
   "metadata": {},
   "outputs": [],
   "source": [
    "nba_teams = teams.get_teams()\n",
    "all_teamids = []\n",
    "for team in nba_teams:\n",
    "    all_teamids.append(team['id'])"
   ]
  },
  {
   "cell_type": "code",
   "execution_count": 112,
   "id": "2260aca6-c464-4a68-9f6a-40cb33d771bb",
   "metadata": {},
   "outputs": [],
   "source": [
    "def get_all_nba_seasons(start_year = 1985, end_year = None):\n",
    "    if end_year is None:\n",
    "        end_year = datetime.datetime.now().year\n",
    "    \n",
    "    seasons = []\n",
    "    for year in range(start_year, end_year + 1):\n",
    "        seasons.append(f\"{year}-{str(year + 1)[2:]}\")\n",
    "    \n",
    "    return seasons"
   ]
  },
  {
   "cell_type": "code",
   "execution_count": 115,
   "id": "7625b355-42db-41fd-b065-97488b98061d",
   "metadata": {},
   "outputs": [],
   "source": [
    "all_seasons = get_all_nba_seasons(end_year = 2023)"
   ]
  },
  {
   "cell_type": "code",
   "execution_count": 116,
   "id": "a30fc551-b16a-49f9-bc61-55eff8e939b5",
   "metadata": {},
   "outputs": [],
   "source": [
    "def get_team_logs(team_id, season):\n",
    "    team_log = teamgamelogs.TeamGameLogs(team_id_nullable = team_id, season_nullable = season)\n",
    "    games = team_log.get_data_frames()[0]\n",
    "    return games"
   ]
  },
  {
   "cell_type": "code",
   "execution_count": 117,
   "id": "45f9b2a9-84a9-4098-abfe-640a990482ff",
   "metadata": {
    "scrolled": true
   },
   "outputs": [],
   "source": [
    "dfs = []\n",
    "for t_id in all_teamids:\n",
    "    for season in all_seasons:\n",
    "        curr_game_logs = get_team_logs(t_id, season)\n",
    "        if curr_game_logs is not None:\n",
    "            dfs.append(curr_game_logs)\n",
    "        time.sleep(.600)"
   ]
  },
  {
   "cell_type": "code",
   "execution_count": 185,
   "id": "aaa3868c-3e5b-4808-a207-ad86e74945b4",
   "metadata": {},
   "outputs": [
    {
     "name": "stderr",
     "output_type": "stream",
     "text": [
      "/var/folders/46/8chr9vpj0zg39crspv4tbrp80000gn/T/ipykernel_66336/1154032993.py:1: FutureWarning: The behavior of DataFrame concatenation with empty or all-NA entries is deprecated. In a future version, this will no longer exclude empty or all-NA columns when determining the result dtypes. To retain the old behavior, exclude the relevant entries before the concat operation.\n",
      "  all_stats = pd.concat(dfs, ignore_index = True)\n"
     ]
    }
   ],
   "source": [
    "all_stats = pd.concat(dfs, ignore_index = True)"
   ]
  },
  {
   "cell_type": "code",
   "execution_count": 186,
   "id": "5a3ee3c0-5f76-410b-a0a3-49dbfab00e23",
   "metadata": {},
   "outputs": [
    {
     "data": {
      "text/html": [
       "<div>\n",
       "<style scoped>\n",
       "    .dataframe tbody tr th:only-of-type {\n",
       "        vertical-align: middle;\n",
       "    }\n",
       "\n",
       "    .dataframe tbody tr th {\n",
       "        vertical-align: top;\n",
       "    }\n",
       "\n",
       "    .dataframe thead th {\n",
       "        text-align: right;\n",
       "    }\n",
       "</style>\n",
       "<table border=\"1\" class=\"dataframe\">\n",
       "  <thead>\n",
       "    <tr style=\"text-align: right;\">\n",
       "      <th></th>\n",
       "      <th>SEASON_ID</th>\n",
       "      <th>TEAM_ID</th>\n",
       "      <th>TEAM_ABBREVIATION</th>\n",
       "      <th>TEAM_NAME</th>\n",
       "      <th>GAME_ID</th>\n",
       "      <th>GAME_DATE</th>\n",
       "      <th>MATCHUP</th>\n",
       "      <th>WL</th>\n",
       "      <th>MIN</th>\n",
       "      <th>FGM</th>\n",
       "      <th>...</th>\n",
       "      <th>AST_RANK</th>\n",
       "      <th>TOV_RANK</th>\n",
       "      <th>STL_RANK</th>\n",
       "      <th>BLK_RANK</th>\n",
       "      <th>BLKA_RANK</th>\n",
       "      <th>PF_RANK</th>\n",
       "      <th>PFD_RANK</th>\n",
       "      <th>PTS_RANK</th>\n",
       "      <th>PLUS_MINUS_RANK</th>\n",
       "      <th>AVAILABLE_FLAG</th>\n",
       "    </tr>\n",
       "  </thead>\n",
       "  <tbody>\n",
       "    <tr>\n",
       "      <th>0</th>\n",
       "      <td>21985</td>\n",
       "      <td>1610612737</td>\n",
       "      <td>ATL</td>\n",
       "      <td>Atlanta Hawks</td>\n",
       "      <td>0028500933</td>\n",
       "      <td>1986-04-12</td>\n",
       "      <td>ATL vs. IND</td>\n",
       "      <td>W</td>\n",
       "      <td>240.0</td>\n",
       "      <td>38</td>\n",
       "      <td>...</td>\n",
       "      <td>NaN</td>\n",
       "      <td>NaN</td>\n",
       "      <td>NaN</td>\n",
       "      <td>NaN</td>\n",
       "      <td>NaN</td>\n",
       "      <td>NaN</td>\n",
       "      <td>NaN</td>\n",
       "      <td>NaN</td>\n",
       "      <td>NaN</td>\n",
       "      <td>NaN</td>\n",
       "    </tr>\n",
       "    <tr>\n",
       "      <th>1</th>\n",
       "      <td>21985</td>\n",
       "      <td>1610612737</td>\n",
       "      <td>ATL</td>\n",
       "      <td>Atlanta Hawks</td>\n",
       "      <td>0028500921</td>\n",
       "      <td>1986-04-10</td>\n",
       "      <td>ATL vs. NJN</td>\n",
       "      <td>W</td>\n",
       "      <td>240.0</td>\n",
       "      <td>44</td>\n",
       "      <td>...</td>\n",
       "      <td>NaN</td>\n",
       "      <td>NaN</td>\n",
       "      <td>NaN</td>\n",
       "      <td>NaN</td>\n",
       "      <td>NaN</td>\n",
       "      <td>NaN</td>\n",
       "      <td>NaN</td>\n",
       "      <td>NaN</td>\n",
       "      <td>NaN</td>\n",
       "      <td>NaN</td>\n",
       "    </tr>\n",
       "    <tr>\n",
       "      <th>2</th>\n",
       "      <td>21985</td>\n",
       "      <td>1610612737</td>\n",
       "      <td>ATL</td>\n",
       "      <td>Atlanta Hawks</td>\n",
       "      <td>0028500908</td>\n",
       "      <td>1986-04-08</td>\n",
       "      <td>ATL vs. CHI</td>\n",
       "      <td>W</td>\n",
       "      <td>240.0</td>\n",
       "      <td>52</td>\n",
       "      <td>...</td>\n",
       "      <td>NaN</td>\n",
       "      <td>NaN</td>\n",
       "      <td>NaN</td>\n",
       "      <td>NaN</td>\n",
       "      <td>NaN</td>\n",
       "      <td>NaN</td>\n",
       "      <td>NaN</td>\n",
       "      <td>NaN</td>\n",
       "      <td>NaN</td>\n",
       "      <td>NaN</td>\n",
       "    </tr>\n",
       "    <tr>\n",
       "      <th>3</th>\n",
       "      <td>21985</td>\n",
       "      <td>1610612737</td>\n",
       "      <td>ATL</td>\n",
       "      <td>Atlanta Hawks</td>\n",
       "      <td>0028500891</td>\n",
       "      <td>1986-04-05</td>\n",
       "      <td>ATL @ CHI</td>\n",
       "      <td>L</td>\n",
       "      <td>240.0</td>\n",
       "      <td>40</td>\n",
       "      <td>...</td>\n",
       "      <td>NaN</td>\n",
       "      <td>NaN</td>\n",
       "      <td>NaN</td>\n",
       "      <td>NaN</td>\n",
       "      <td>NaN</td>\n",
       "      <td>NaN</td>\n",
       "      <td>NaN</td>\n",
       "      <td>NaN</td>\n",
       "      <td>NaN</td>\n",
       "      <td>NaN</td>\n",
       "    </tr>\n",
       "    <tr>\n",
       "      <th>4</th>\n",
       "      <td>21985</td>\n",
       "      <td>1610612737</td>\n",
       "      <td>ATL</td>\n",
       "      <td>Atlanta Hawks</td>\n",
       "      <td>0028500884</td>\n",
       "      <td>1986-04-04</td>\n",
       "      <td>ATL @ WAS</td>\n",
       "      <td>L</td>\n",
       "      <td>265.0</td>\n",
       "      <td>54</td>\n",
       "      <td>...</td>\n",
       "      <td>NaN</td>\n",
       "      <td>NaN</td>\n",
       "      <td>NaN</td>\n",
       "      <td>NaN</td>\n",
       "      <td>NaN</td>\n",
       "      <td>NaN</td>\n",
       "      <td>NaN</td>\n",
       "      <td>NaN</td>\n",
       "      <td>NaN</td>\n",
       "      <td>NaN</td>\n",
       "    </tr>\n",
       "  </tbody>\n",
       "</table>\n",
       "<p>5 rows × 59 columns</p>\n",
       "</div>"
      ],
      "text/plain": [
       "  SEASON_ID     TEAM_ID TEAM_ABBREVIATION      TEAM_NAME     GAME_ID  \\\n",
       "0     21985  1610612737               ATL  Atlanta Hawks  0028500933   \n",
       "1     21985  1610612737               ATL  Atlanta Hawks  0028500921   \n",
       "2     21985  1610612737               ATL  Atlanta Hawks  0028500908   \n",
       "3     21985  1610612737               ATL  Atlanta Hawks  0028500891   \n",
       "4     21985  1610612737               ATL  Atlanta Hawks  0028500884   \n",
       "\n",
       "    GAME_DATE      MATCHUP WL    MIN FGM  ... AST_RANK  TOV_RANK STL_RANK  \\\n",
       "0  1986-04-12  ATL vs. IND  W  240.0  38  ...      NaN       NaN      NaN   \n",
       "1  1986-04-10  ATL vs. NJN  W  240.0  44  ...      NaN       NaN      NaN   \n",
       "2  1986-04-08  ATL vs. CHI  W  240.0  52  ...      NaN       NaN      NaN   \n",
       "3  1986-04-05    ATL @ CHI  L  240.0  40  ...      NaN       NaN      NaN   \n",
       "4  1986-04-04    ATL @ WAS  L  265.0  54  ...      NaN       NaN      NaN   \n",
       "\n",
       "  BLK_RANK  BLKA_RANK PF_RANK PFD_RANK  PTS_RANK PLUS_MINUS_RANK  \\\n",
       "0      NaN        NaN     NaN      NaN       NaN             NaN   \n",
       "1      NaN        NaN     NaN      NaN       NaN             NaN   \n",
       "2      NaN        NaN     NaN      NaN       NaN             NaN   \n",
       "3      NaN        NaN     NaN      NaN       NaN             NaN   \n",
       "4      NaN        NaN     NaN      NaN       NaN             NaN   \n",
       "\n",
       "  AVAILABLE_FLAG  \n",
       "0            NaN  \n",
       "1            NaN  \n",
       "2            NaN  \n",
       "3            NaN  \n",
       "4            NaN  \n",
       "\n",
       "[5 rows x 59 columns]"
      ]
     },
     "execution_count": 186,
     "metadata": {},
     "output_type": "execute_result"
    }
   ],
   "source": [
    "all_stats.head()"
   ]
  },
  {
   "cell_type": "code",
   "execution_count": 187,
   "id": "1cd98dd5-193e-45f8-b984-86988c856e7a",
   "metadata": {},
   "outputs": [
    {
     "data": {
      "text/plain": [
       "23370"
      ]
     },
     "execution_count": 187,
     "metadata": {},
     "output_type": "execute_result"
    }
   ],
   "source": [
    "len(all_stats[all_stats['SEASON_YEAR'].isna()])"
   ]
  },
  {
   "cell_type": "code",
   "execution_count": 190,
   "id": "7549adc3-1da0-41ed-9b55-6e9b6e23523a",
   "metadata": {},
   "outputs": [],
   "source": [
    "# getting all the data from nba_api takes a while, exporting to csv so we can just import data\n",
    "all_stats.to_csv('all_game_stats.csv', index = False)"
   ]
  },
  {
   "cell_type": "code",
   "execution_count": 191,
   "id": "42f17e2e-851c-444d-bdb4-a1b63b594be4",
   "metadata": {},
   "outputs": [],
   "source": [
    "# all_stats = pd.read_csv('all_game_stats.csv')"
   ]
  },
  {
   "cell_type": "markdown",
   "id": "ecffac81-fe5c-4b48-80bc-3bc14c9a6552",
   "metadata": {},
   "source": [
    "### Inputting Missing Season Values"
   ]
  },
  {
   "cell_type": "code",
   "execution_count": 192,
   "id": "4448eefd-3ccd-4dbb-9046-e850c706ec73",
   "metadata": {},
   "outputs": [],
   "source": [
    "for index, row in all_stats.iterrows():\n",
    "    if pd.isna(all_stats.iloc[index]['SEASON_YEAR']):\n",
    "        year_index = all_stats.iloc[index]['GAME_DATE'].find('-')\n",
    "        year = all_stats.iloc[index]['GAME_DATE'][:year_index]\n",
    "        month = all_stats.iloc[index]['GAME_DATE'][year_index+1:year_index+3]\n",
    "        if int(month) >= 10:\n",
    "            season = str(int(year)) + \"-\" + str(int(year)+1)[2:]\n",
    "        else:\n",
    "            season = str(int(year)-1) + \"-\" + str(int(year))[2:]\n",
    "        all_stats.loc[index, 'SEASON_YEAR'] = season"
   ]
  },
  {
   "cell_type": "code",
   "execution_count": 193,
   "id": "47202e49-459f-44a7-8492-12dc42f9a055",
   "metadata": {},
   "outputs": [
    {
     "data": {
      "text/plain": [
       "0"
      ]
     },
     "execution_count": 193,
     "metadata": {},
     "output_type": "execute_result"
    }
   ],
   "source": [
    "len(all_stats[all_stats['SEASON_YEAR'].isna()])"
   ]
  },
  {
   "cell_type": "code",
   "execution_count": 194,
   "id": "90465e91-ccdf-4d0c-be3c-45034a4ed7c8",
   "metadata": {},
   "outputs": [
    {
     "data": {
      "text/plain": [
       "SEASON_ID            66172\n",
       "TEAM_ID                  0\n",
       "TEAM_ABBREVIATION        0\n",
       "TEAM_NAME                0\n",
       "GAME_ID                  0\n",
       "GAME_DATE                0\n",
       "MATCHUP                  0\n",
       "WL                       0\n",
       "MIN                      0\n",
       "FGM                      0\n",
       "FGA                      0\n",
       "FG_PCT                   0\n",
       "FG3M                     0\n",
       "FG3A                     0\n",
       "FG3_PCT                475\n",
       "FTM                      0\n",
       "FTA                      0\n",
       "FT_PCT                   0\n",
       "OREB                     0\n",
       "DREB                     0\n",
       "REB                      0\n",
       "AST                      0\n",
       "STL                      0\n",
       "BLK                      0\n",
       "TOV                      0\n",
       "PF                       0\n",
       "PTS                      0\n",
       "PLUS_MINUS               0\n",
       "VIDEO_AVAILABLE      66172\n",
       "SEASON_YEAR              0\n",
       "BLKA                 23370\n",
       "PFD                  23370\n",
       "GP_RANK              23370\n",
       "W_RANK               23370\n",
       "L_RANK               23370\n",
       "W_PCT_RANK           23370\n",
       "MIN_RANK             23370\n",
       "FGM_RANK             23370\n",
       "FGA_RANK             23370\n",
       "FG_PCT_RANK          23370\n",
       "FG3M_RANK            23370\n",
       "FG3A_RANK            23370\n",
       "FG3_PCT_RANK         23370\n",
       "FTM_RANK             23370\n",
       "FTA_RANK             23370\n",
       "FT_PCT_RANK          23370\n",
       "OREB_RANK            23370\n",
       "DREB_RANK            23370\n",
       "REB_RANK             23370\n",
       "AST_RANK             23370\n",
       "TOV_RANK             23370\n",
       "STL_RANK             23370\n",
       "BLK_RANK             23370\n",
       "BLKA_RANK            23370\n",
       "PF_RANK              23370\n",
       "PFD_RANK             23370\n",
       "PTS_RANK             23370\n",
       "PLUS_MINUS_RANK      23370\n",
       "AVAILABLE_FLAG       60680\n",
       "dtype: int64"
      ]
     },
     "execution_count": 194,
     "metadata": {},
     "output_type": "execute_result"
    }
   ],
   "source": [
    "all_stats.isna().sum()"
   ]
  },
  {
   "cell_type": "code",
   "execution_count": null,
   "id": "05376459-5279-4489-8aa8-d10189ff3ec9",
   "metadata": {},
   "outputs": [],
   "source": []
  }
 ],
 "metadata": {
  "kernelspec": {
   "display_name": "Python 3 (ipykernel)",
   "language": "python",
   "name": "python3"
  },
  "language_info": {
   "codemirror_mode": {
    "name": "ipython",
    "version": 3
   },
   "file_extension": ".py",
   "mimetype": "text/x-python",
   "name": "python",
   "nbconvert_exporter": "python",
   "pygments_lexer": "ipython3",
   "version": "3.11.5"
  }
 },
 "nbformat": 4,
 "nbformat_minor": 5
}
