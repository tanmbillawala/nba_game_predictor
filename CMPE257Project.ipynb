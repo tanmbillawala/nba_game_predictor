{
 "cells": [
  {
   "cell_type": "markdown",
   "id": "ebbd09ee-9206-4948-9ae6-e42e7d20976a",
   "metadata": {},
   "source": [
    "# NBA Game Predictor Model\n",
    "### CMPE 257 Project\n",
    "Authors: Kaushika Uppu, Miranda Billawala, Yun Ei Hlaing, Iris Cheung"
   ]
  },
  {
   "cell_type": "markdown",
   "id": "897f5cbd-6516-49cf-9271-94878f5f9d0c",
   "metadata": {},
   "source": [
    "## Imports"
   ]
  },
  {
   "cell_type": "code",
   "execution_count": 1,
   "id": "c030921a-827d-4a1f-af9b-104e618da8c8",
   "metadata": {},
   "outputs": [],
   "source": [
    "import pandas as pd\n",
    "import numpy as np\n",
    "import time"
   ]
  },
  {
   "cell_type": "markdown",
   "id": "d28abb9c-228a-49bb-9721-215d0f183617",
   "metadata": {},
   "source": [
    "## NBA Game Data"
   ]
  },
  {
   "cell_type": "markdown",
   "id": "6d2dae76-eb39-4b8e-b8c2-9c1cc8d16cca",
   "metadata": {},
   "source": [
    "First, we load in all of the NBA game data from the CSV file. Exact code for gathering data is in a separate file and use the nba_api file. Only games from the 1985-1986 season and afterward are loaded in as the seasons before that are missing a very significant portion of the game statistics' data. "
   ]
  },
  {
   "cell_type": "code",
   "execution_count": 2,
   "id": "42f17e2e-851c-444d-bdb4-a1b63b594be4",
   "metadata": {},
   "outputs": [
    {
     "data": {
      "text/html": [
       "<div>\n",
       "<style scoped>\n",
       "    .dataframe tbody tr th:only-of-type {\n",
       "        vertical-align: middle;\n",
       "    }\n",
       "\n",
       "    .dataframe tbody tr th {\n",
       "        vertical-align: top;\n",
       "    }\n",
       "\n",
       "    .dataframe thead th {\n",
       "        text-align: right;\n",
       "    }\n",
       "</style>\n",
       "<table border=\"1\" class=\"dataframe\">\n",
       "  <thead>\n",
       "    <tr style=\"text-align: right;\">\n",
       "      <th></th>\n",
       "      <th>SEASON_ID</th>\n",
       "      <th>TEAM_ID</th>\n",
       "      <th>TEAM_ABBREVIATION</th>\n",
       "      <th>TEAM_NAME</th>\n",
       "      <th>GAME_ID</th>\n",
       "      <th>GAME_DATE</th>\n",
       "      <th>MATCHUP</th>\n",
       "      <th>WL</th>\n",
       "      <th>MIN</th>\n",
       "      <th>FGM</th>\n",
       "      <th>...</th>\n",
       "      <th>AST_RANK</th>\n",
       "      <th>TOV_RANK</th>\n",
       "      <th>STL_RANK</th>\n",
       "      <th>BLK_RANK</th>\n",
       "      <th>BLKA_RANK</th>\n",
       "      <th>PF_RANK</th>\n",
       "      <th>PFD_RANK</th>\n",
       "      <th>PTS_RANK</th>\n",
       "      <th>PLUS_MINUS_RANK</th>\n",
       "      <th>AVAILABLE_FLAG</th>\n",
       "    </tr>\n",
       "  </thead>\n",
       "  <tbody>\n",
       "    <tr>\n",
       "      <th>0</th>\n",
       "      <td>21985.0</td>\n",
       "      <td>1610612737</td>\n",
       "      <td>ATL</td>\n",
       "      <td>Atlanta Hawks</td>\n",
       "      <td>28500933</td>\n",
       "      <td>1986-04-12</td>\n",
       "      <td>ATL vs. IND</td>\n",
       "      <td>W</td>\n",
       "      <td>240.0</td>\n",
       "      <td>38</td>\n",
       "      <td>...</td>\n",
       "      <td>NaN</td>\n",
       "      <td>NaN</td>\n",
       "      <td>NaN</td>\n",
       "      <td>NaN</td>\n",
       "      <td>NaN</td>\n",
       "      <td>NaN</td>\n",
       "      <td>NaN</td>\n",
       "      <td>NaN</td>\n",
       "      <td>NaN</td>\n",
       "      <td>NaN</td>\n",
       "    </tr>\n",
       "    <tr>\n",
       "      <th>1</th>\n",
       "      <td>21985.0</td>\n",
       "      <td>1610612737</td>\n",
       "      <td>ATL</td>\n",
       "      <td>Atlanta Hawks</td>\n",
       "      <td>28500921</td>\n",
       "      <td>1986-04-10</td>\n",
       "      <td>ATL vs. NJN</td>\n",
       "      <td>W</td>\n",
       "      <td>240.0</td>\n",
       "      <td>44</td>\n",
       "      <td>...</td>\n",
       "      <td>NaN</td>\n",
       "      <td>NaN</td>\n",
       "      <td>NaN</td>\n",
       "      <td>NaN</td>\n",
       "      <td>NaN</td>\n",
       "      <td>NaN</td>\n",
       "      <td>NaN</td>\n",
       "      <td>NaN</td>\n",
       "      <td>NaN</td>\n",
       "      <td>NaN</td>\n",
       "    </tr>\n",
       "    <tr>\n",
       "      <th>2</th>\n",
       "      <td>21985.0</td>\n",
       "      <td>1610612737</td>\n",
       "      <td>ATL</td>\n",
       "      <td>Atlanta Hawks</td>\n",
       "      <td>28500908</td>\n",
       "      <td>1986-04-08</td>\n",
       "      <td>ATL vs. CHI</td>\n",
       "      <td>W</td>\n",
       "      <td>240.0</td>\n",
       "      <td>52</td>\n",
       "      <td>...</td>\n",
       "      <td>NaN</td>\n",
       "      <td>NaN</td>\n",
       "      <td>NaN</td>\n",
       "      <td>NaN</td>\n",
       "      <td>NaN</td>\n",
       "      <td>NaN</td>\n",
       "      <td>NaN</td>\n",
       "      <td>NaN</td>\n",
       "      <td>NaN</td>\n",
       "      <td>NaN</td>\n",
       "    </tr>\n",
       "    <tr>\n",
       "      <th>3</th>\n",
       "      <td>21985.0</td>\n",
       "      <td>1610612737</td>\n",
       "      <td>ATL</td>\n",
       "      <td>Atlanta Hawks</td>\n",
       "      <td>28500891</td>\n",
       "      <td>1986-04-05</td>\n",
       "      <td>ATL @ CHI</td>\n",
       "      <td>L</td>\n",
       "      <td>240.0</td>\n",
       "      <td>40</td>\n",
       "      <td>...</td>\n",
       "      <td>NaN</td>\n",
       "      <td>NaN</td>\n",
       "      <td>NaN</td>\n",
       "      <td>NaN</td>\n",
       "      <td>NaN</td>\n",
       "      <td>NaN</td>\n",
       "      <td>NaN</td>\n",
       "      <td>NaN</td>\n",
       "      <td>NaN</td>\n",
       "      <td>NaN</td>\n",
       "    </tr>\n",
       "    <tr>\n",
       "      <th>4</th>\n",
       "      <td>21985.0</td>\n",
       "      <td>1610612737</td>\n",
       "      <td>ATL</td>\n",
       "      <td>Atlanta Hawks</td>\n",
       "      <td>28500884</td>\n",
       "      <td>1986-04-04</td>\n",
       "      <td>ATL @ WAS</td>\n",
       "      <td>L</td>\n",
       "      <td>265.0</td>\n",
       "      <td>54</td>\n",
       "      <td>...</td>\n",
       "      <td>NaN</td>\n",
       "      <td>NaN</td>\n",
       "      <td>NaN</td>\n",
       "      <td>NaN</td>\n",
       "      <td>NaN</td>\n",
       "      <td>NaN</td>\n",
       "      <td>NaN</td>\n",
       "      <td>NaN</td>\n",
       "      <td>NaN</td>\n",
       "      <td>NaN</td>\n",
       "    </tr>\n",
       "  </tbody>\n",
       "</table>\n",
       "<p>5 rows × 59 columns</p>\n",
       "</div>"
      ],
      "text/plain": [
       "   SEASON_ID     TEAM_ID TEAM_ABBREVIATION      TEAM_NAME   GAME_ID  \\\n",
       "0    21985.0  1610612737               ATL  Atlanta Hawks  28500933   \n",
       "1    21985.0  1610612737               ATL  Atlanta Hawks  28500921   \n",
       "2    21985.0  1610612737               ATL  Atlanta Hawks  28500908   \n",
       "3    21985.0  1610612737               ATL  Atlanta Hawks  28500891   \n",
       "4    21985.0  1610612737               ATL  Atlanta Hawks  28500884   \n",
       "\n",
       "    GAME_DATE      MATCHUP WL    MIN  FGM  ...  AST_RANK  TOV_RANK  STL_RANK  \\\n",
       "0  1986-04-12  ATL vs. IND  W  240.0   38  ...       NaN       NaN       NaN   \n",
       "1  1986-04-10  ATL vs. NJN  W  240.0   44  ...       NaN       NaN       NaN   \n",
       "2  1986-04-08  ATL vs. CHI  W  240.0   52  ...       NaN       NaN       NaN   \n",
       "3  1986-04-05    ATL @ CHI  L  240.0   40  ...       NaN       NaN       NaN   \n",
       "4  1986-04-04    ATL @ WAS  L  265.0   54  ...       NaN       NaN       NaN   \n",
       "\n",
       "   BLK_RANK  BLKA_RANK  PF_RANK  PFD_RANK  PTS_RANK  PLUS_MINUS_RANK  \\\n",
       "0       NaN        NaN      NaN       NaN       NaN              NaN   \n",
       "1       NaN        NaN      NaN       NaN       NaN              NaN   \n",
       "2       NaN        NaN      NaN       NaN       NaN              NaN   \n",
       "3       NaN        NaN      NaN       NaN       NaN              NaN   \n",
       "4       NaN        NaN      NaN       NaN       NaN              NaN   \n",
       "\n",
       "   AVAILABLE_FLAG  \n",
       "0             NaN  \n",
       "1             NaN  \n",
       "2             NaN  \n",
       "3             NaN  \n",
       "4             NaN  \n",
       "\n",
       "[5 rows x 59 columns]"
      ]
     },
     "execution_count": 2,
     "metadata": {},
     "output_type": "execute_result"
    }
   ],
   "source": [
    "all_stats = pd.read_csv('all_game_stats.csv')\n",
    "all_stats.head()"
   ]
  },
  {
   "cell_type": "code",
   "execution_count": 3,
   "id": "bd29527d-1036-4422-b002-364145da7151",
   "metadata": {},
   "outputs": [
    {
     "data": {
      "text/plain": [
       "(89542, 59)"
      ]
     },
     "execution_count": 3,
     "metadata": {},
     "output_type": "execute_result"
    }
   ],
   "source": [
    "all_stats.shape"
   ]
  },
  {
   "cell_type": "markdown",
   "id": "b668ccae-04fb-491c-8618-84aa45589ff8",
   "metadata": {},
   "source": [
    "## Data Cleaning and Pre-Processing"
   ]
  },
  {
   "cell_type": "markdown",
   "id": "ecffac81-fe5c-4b48-80bc-3bc14c9a6552",
   "metadata": {},
   "source": [
    "### Inputting Missing Values"
   ]
  },
  {
   "cell_type": "markdown",
   "id": "078309b7-720e-4495-844c-5dd484470d3c",
   "metadata": {},
   "source": [
    "As shown below, there are a number of rows with the `SEASON_YEAR` variable missing. Therefore, we will calculate the `SEASON_YEAR` based on the `GAME_DATE` variable and fill in those missing values."
   ]
  },
  {
   "cell_type": "code",
   "execution_count": 4,
   "id": "c4de4b20-f959-4d54-a803-0413f59c2f20",
   "metadata": {},
   "outputs": [
    {
     "data": {
      "text/plain": [
       "23370"
      ]
     },
     "execution_count": 4,
     "metadata": {},
     "output_type": "execute_result"
    }
   ],
   "source": [
    "all_stats['SEASON_YEAR'].isna().sum()"
   ]
  },
  {
   "cell_type": "code",
   "execution_count": 5,
   "id": "4448eefd-3ccd-4dbb-9046-e850c706ec73",
   "metadata": {},
   "outputs": [],
   "source": [
    "for index, row in all_stats.iterrows():\n",
    "    if pd.isna(all_stats.iloc[index]['SEASON_YEAR']):\n",
    "        year_index = all_stats.iloc[index]['GAME_DATE'].find('-')\n",
    "        year = all_stats.iloc[index]['GAME_DATE'][:year_index]\n",
    "        month = all_stats.iloc[index]['GAME_DATE'][year_index+1:year_index+3]\n",
    "        if int(month) >= 10:\n",
    "            season = str(int(year)) + \"-\" + str(int(year)+1)[2:]\n",
    "        else:\n",
    "            season = str(int(year)-1) + \"-\" + str(int(year))[2:]\n",
    "        all_stats.loc[index, 'SEASON_YEAR'] = season"
   ]
  },
  {
   "cell_type": "code",
   "execution_count": 6,
   "id": "47202e49-459f-44a7-8492-12dc42f9a055",
   "metadata": {},
   "outputs": [
    {
     "data": {
      "text/plain": [
       "0"
      ]
     },
     "execution_count": 6,
     "metadata": {},
     "output_type": "execute_result"
    }
   ],
   "source": [
    "len(all_stats[all_stats['SEASON_YEAR'].isna()])"
   ]
  },
  {
   "cell_type": "markdown",
   "id": "0ef866a2-f702-44fd-a06a-f18be34384ba",
   "metadata": {},
   "source": [
    "Then, we convert the `SEASON_YEAR` variable into an integer variable of just the year that the season started (e.g., 1985 for '1985-86')."
   ]
  },
  {
   "cell_type": "code",
   "execution_count": 7,
   "id": "f1c687dd-20e4-4b8c-a13d-1c72a4954cfa",
   "metadata": {},
   "outputs": [],
   "source": [
    "all_stats['SEASON_YEAR'] = all_stats['SEASON_YEAR'].str.split('-').str[0].astype(int)"
   ]
  },
  {
   "cell_type": "markdown",
   "id": "3e6f615d-4836-4323-9e4d-31184a1c8ad6",
   "metadata": {},
   "source": [
    "A look at the new `SEASON_YEAR` column:"
   ]
  },
  {
   "cell_type": "code",
   "execution_count": 8,
   "id": "94e3f233-5d36-4683-a220-2437463c3c26",
   "metadata": {},
   "outputs": [
    {
     "data": {
      "text/html": [
       "<div>\n",
       "<style scoped>\n",
       "    .dataframe tbody tr th:only-of-type {\n",
       "        vertical-align: middle;\n",
       "    }\n",
       "\n",
       "    .dataframe tbody tr th {\n",
       "        vertical-align: top;\n",
       "    }\n",
       "\n",
       "    .dataframe thead th {\n",
       "        text-align: right;\n",
       "    }\n",
       "</style>\n",
       "<table border=\"1\" class=\"dataframe\">\n",
       "  <thead>\n",
       "    <tr style=\"text-align: right;\">\n",
       "      <th></th>\n",
       "      <th>SEASON_YEAR</th>\n",
       "    </tr>\n",
       "  </thead>\n",
       "  <tbody>\n",
       "    <tr>\n",
       "      <th>5120</th>\n",
       "      <td>2009</td>\n",
       "    </tr>\n",
       "    <tr>\n",
       "      <th>43310</th>\n",
       "      <td>2003</td>\n",
       "    </tr>\n",
       "    <tr>\n",
       "      <th>80210</th>\n",
       "      <td>2019</td>\n",
       "    </tr>\n",
       "    <tr>\n",
       "      <th>39003</th>\n",
       "      <td>2023</td>\n",
       "    </tr>\n",
       "    <tr>\n",
       "      <th>59930</th>\n",
       "      <td>2019</td>\n",
       "    </tr>\n",
       "    <tr>\n",
       "      <th>46755</th>\n",
       "      <td>2006</td>\n",
       "    </tr>\n",
       "    <tr>\n",
       "      <th>78505</th>\n",
       "      <td>1997</td>\n",
       "    </tr>\n",
       "    <tr>\n",
       "      <th>67682</th>\n",
       "      <td>1999</td>\n",
       "    </tr>\n",
       "    <tr>\n",
       "      <th>68603</th>\n",
       "      <td>2010</td>\n",
       "    </tr>\n",
       "    <tr>\n",
       "      <th>27952</th>\n",
       "      <td>1999</td>\n",
       "    </tr>\n",
       "  </tbody>\n",
       "</table>\n",
       "</div>"
      ],
      "text/plain": [
       "       SEASON_YEAR\n",
       "5120          2009\n",
       "43310         2003\n",
       "80210         2019\n",
       "39003         2023\n",
       "59930         2019\n",
       "46755         2006\n",
       "78505         1997\n",
       "67682         1999\n",
       "68603         2010\n",
       "27952         1999"
      ]
     },
     "execution_count": 8,
     "metadata": {},
     "output_type": "execute_result"
    }
   ],
   "source": [
    "all_stats[['SEASON_YEAR']].sample(10)"
   ]
  },
  {
   "cell_type": "code",
   "execution_count": 9,
   "id": "90465e91-ccdf-4d0c-be3c-45034a4ed7c8",
   "metadata": {
    "scrolled": true
   },
   "outputs": [
    {
     "data": {
      "text/plain": [
       "SEASON_ID            66172\n",
       "TEAM_ID                  0\n",
       "TEAM_ABBREVIATION        0\n",
       "TEAM_NAME                0\n",
       "GAME_ID                  0\n",
       "GAME_DATE                0\n",
       "MATCHUP                  0\n",
       "WL                       0\n",
       "MIN                      0\n",
       "FGM                      0\n",
       "FGA                      0\n",
       "FG_PCT                   0\n",
       "FG3M                     0\n",
       "FG3A                     0\n",
       "FG3_PCT                475\n",
       "FTM                      0\n",
       "FTA                      0\n",
       "FT_PCT                   0\n",
       "OREB                     0\n",
       "DREB                     0\n",
       "REB                      0\n",
       "AST                      0\n",
       "STL                      0\n",
       "BLK                      0\n",
       "TOV                      0\n",
       "PF                       0\n",
       "PTS                      0\n",
       "PLUS_MINUS               0\n",
       "VIDEO_AVAILABLE      66172\n",
       "SEASON_YEAR              0\n",
       "BLKA                 23370\n",
       "PFD                  23370\n",
       "GP_RANK              23370\n",
       "W_RANK               23370\n",
       "L_RANK               23370\n",
       "W_PCT_RANK           23370\n",
       "MIN_RANK             23370\n",
       "FGM_RANK             23370\n",
       "FGA_RANK             23370\n",
       "FG_PCT_RANK          23370\n",
       "FG3M_RANK            23370\n",
       "FG3A_RANK            23370\n",
       "FG3_PCT_RANK         23370\n",
       "FTM_RANK             23370\n",
       "FTA_RANK             23370\n",
       "FT_PCT_RANK          23370\n",
       "OREB_RANK            23370\n",
       "DREB_RANK            23370\n",
       "REB_RANK             23370\n",
       "AST_RANK             23370\n",
       "TOV_RANK             23370\n",
       "STL_RANK             23370\n",
       "BLK_RANK             23370\n",
       "BLKA_RANK            23370\n",
       "PF_RANK              23370\n",
       "PFD_RANK             23370\n",
       "PTS_RANK             23370\n",
       "PLUS_MINUS_RANK      23370\n",
       "AVAILABLE_FLAG       60680\n",
       "dtype: int64"
      ]
     },
     "execution_count": 9,
     "metadata": {},
     "output_type": "execute_result"
    }
   ],
   "source": [
    "all_stats.isna().sum()"
   ]
  },
  {
   "cell_type": "markdown",
   "id": "41f99f6d-4b06-43fb-8cd1-f0143907a212",
   "metadata": {},
   "source": [
    "As seen above, there are also 475 missing values in the `FG3_PCT` column. Taking a look at the `FG3A` column for the rows with missing values, we can see that they are all 0, hence why the `FG3_PCT` column has NaN values for these rows. Therefore, we filled the missing values with 0."
   ]
  },
  {
   "cell_type": "code",
   "execution_count": 10,
   "id": "24aeda24-ddfd-4e93-aa08-098d498be239",
   "metadata": {},
   "outputs": [
    {
     "data": {
      "text/plain": [
       "array([0])"
      ]
     },
     "execution_count": 10,
     "metadata": {},
     "output_type": "execute_result"
    }
   ],
   "source": [
    "all_stats[all_stats['FG3_PCT'].isna()]['FG3A'].unique()"
   ]
  },
  {
   "cell_type": "code",
   "execution_count": 11,
   "id": "1066d260-cd41-426f-bdbb-2d5e42c286f6",
   "metadata": {},
   "outputs": [],
   "source": [
    "missing_indicies = all_stats[all_stats['FG3_PCT'].isna()].index"
   ]
  },
  {
   "cell_type": "code",
   "execution_count": 12,
   "id": "3ef8b708-b9dd-4238-8609-974ab4eae720",
   "metadata": {
    "scrolled": true
   },
   "outputs": [],
   "source": [
    "for i in missing_indicies:\n",
    "    all_stats.loc[i, 'FG3_PCT'] = 0"
   ]
  },
  {
   "cell_type": "markdown",
   "id": "3f2a2a7d-9cef-473e-a156-72f6d87567d0",
   "metadata": {},
   "source": [
    "### Dropping Irrelevant Columns"
   ]
  },
  {
   "cell_type": "markdown",
   "id": "bfbcc31a-833e-4283-a410-19539aee8777",
   "metadata": {},
   "source": [
    "There are a lot of other columns in the dataset that have a significant number of missing values. We will drop these columns, as most of them are also rankings for stats that are already in the dataset."
   ]
  },
  {
   "cell_type": "code",
   "execution_count": 13,
   "id": "6f4261ec-120d-4d70-b179-da7ef47220ff",
   "metadata": {},
   "outputs": [],
   "source": [
    "to_drop = ['SEASON_ID', 'GAME_ID', 'VIDEO_AVAILABLE', 'GP_RANK', 'W_RANK', 'L_RANK', 'W_PCT_RANK', 'MIN_RANK', 'FGM_RANK', 'FGA_RANK',\n",
    "           'FG_PCT_RANK', 'FG3M_RANK', 'FG3A_RANK', 'FG3_PCT_RANK', 'FTM_RANK', 'FTA_RANK', 'FT_PCT_RANK', 'OREB_RANK',\n",
    "           'DREB_RANK', 'REB_RANK', 'AST_RANK', 'TOV_RANK', 'STL_RANK', 'BLK_RANK', 'BLKA_RANK', 'PF_RANK', 'PFD_RANK',\n",
    "           'PTS_RANK', 'PLUS_MINUS_RANK', 'AVAILABLE_FLAG', 'BLKA', 'PFD' ]"
   ]
  },
  {
   "cell_type": "code",
   "execution_count": 14,
   "id": "f2a8a959-e603-4256-a178-53a071b2a09d",
   "metadata": {},
   "outputs": [],
   "source": [
    "all_stats_cleaned = all_stats.drop(columns = to_drop)"
   ]
  },
  {
   "cell_type": "code",
   "execution_count": 15,
   "id": "863158e7-45ba-4e46-bbdc-05be2f1b440f",
   "metadata": {},
   "outputs": [
    {
     "data": {
      "text/html": [
       "<div>\n",
       "<style scoped>\n",
       "    .dataframe tbody tr th:only-of-type {\n",
       "        vertical-align: middle;\n",
       "    }\n",
       "\n",
       "    .dataframe tbody tr th {\n",
       "        vertical-align: top;\n",
       "    }\n",
       "\n",
       "    .dataframe thead th {\n",
       "        text-align: right;\n",
       "    }\n",
       "</style>\n",
       "<table border=\"1\" class=\"dataframe\">\n",
       "  <thead>\n",
       "    <tr style=\"text-align: right;\">\n",
       "      <th></th>\n",
       "      <th>TEAM_ID</th>\n",
       "      <th>TEAM_ABBREVIATION</th>\n",
       "      <th>TEAM_NAME</th>\n",
       "      <th>GAME_DATE</th>\n",
       "      <th>MATCHUP</th>\n",
       "      <th>WL</th>\n",
       "      <th>MIN</th>\n",
       "      <th>FGM</th>\n",
       "      <th>FGA</th>\n",
       "      <th>FG_PCT</th>\n",
       "      <th>...</th>\n",
       "      <th>DREB</th>\n",
       "      <th>REB</th>\n",
       "      <th>AST</th>\n",
       "      <th>STL</th>\n",
       "      <th>BLK</th>\n",
       "      <th>TOV</th>\n",
       "      <th>PF</th>\n",
       "      <th>PTS</th>\n",
       "      <th>PLUS_MINUS</th>\n",
       "      <th>SEASON_YEAR</th>\n",
       "    </tr>\n",
       "  </thead>\n",
       "  <tbody>\n",
       "    <tr>\n",
       "      <th>0</th>\n",
       "      <td>1610612737</td>\n",
       "      <td>ATL</td>\n",
       "      <td>Atlanta Hawks</td>\n",
       "      <td>1986-04-12</td>\n",
       "      <td>ATL vs. IND</td>\n",
       "      <td>W</td>\n",
       "      <td>240.0</td>\n",
       "      <td>38</td>\n",
       "      <td>88</td>\n",
       "      <td>0.432</td>\n",
       "      <td>...</td>\n",
       "      <td>39</td>\n",
       "      <td>59</td>\n",
       "      <td>22</td>\n",
       "      <td>6</td>\n",
       "      <td>3</td>\n",
       "      <td>12.0</td>\n",
       "      <td>21</td>\n",
       "      <td>108</td>\n",
       "      <td>17.0</td>\n",
       "      <td>1985</td>\n",
       "    </tr>\n",
       "    <tr>\n",
       "      <th>1</th>\n",
       "      <td>1610612737</td>\n",
       "      <td>ATL</td>\n",
       "      <td>Atlanta Hawks</td>\n",
       "      <td>1986-04-10</td>\n",
       "      <td>ATL vs. NJN</td>\n",
       "      <td>W</td>\n",
       "      <td>240.0</td>\n",
       "      <td>44</td>\n",
       "      <td>87</td>\n",
       "      <td>0.506</td>\n",
       "      <td>...</td>\n",
       "      <td>27</td>\n",
       "      <td>42</td>\n",
       "      <td>30</td>\n",
       "      <td>15</td>\n",
       "      <td>5</td>\n",
       "      <td>22.0</td>\n",
       "      <td>26</td>\n",
       "      <td>126</td>\n",
       "      <td>9.0</td>\n",
       "      <td>1985</td>\n",
       "    </tr>\n",
       "    <tr>\n",
       "      <th>2</th>\n",
       "      <td>1610612737</td>\n",
       "      <td>ATL</td>\n",
       "      <td>Atlanta Hawks</td>\n",
       "      <td>1986-04-08</td>\n",
       "      <td>ATL vs. CHI</td>\n",
       "      <td>W</td>\n",
       "      <td>240.0</td>\n",
       "      <td>52</td>\n",
       "      <td>98</td>\n",
       "      <td>0.531</td>\n",
       "      <td>...</td>\n",
       "      <td>25</td>\n",
       "      <td>42</td>\n",
       "      <td>33</td>\n",
       "      <td>13</td>\n",
       "      <td>6</td>\n",
       "      <td>10.0</td>\n",
       "      <td>22</td>\n",
       "      <td>131</td>\n",
       "      <td>13.0</td>\n",
       "      <td>1985</td>\n",
       "    </tr>\n",
       "    <tr>\n",
       "      <th>3</th>\n",
       "      <td>1610612737</td>\n",
       "      <td>ATL</td>\n",
       "      <td>Atlanta Hawks</td>\n",
       "      <td>1986-04-05</td>\n",
       "      <td>ATL @ CHI</td>\n",
       "      <td>L</td>\n",
       "      <td>240.0</td>\n",
       "      <td>40</td>\n",
       "      <td>76</td>\n",
       "      <td>0.526</td>\n",
       "      <td>...</td>\n",
       "      <td>25</td>\n",
       "      <td>38</td>\n",
       "      <td>17</td>\n",
       "      <td>7</td>\n",
       "      <td>7</td>\n",
       "      <td>21.0</td>\n",
       "      <td>28</td>\n",
       "      <td>97</td>\n",
       "      <td>-5.0</td>\n",
       "      <td>1985</td>\n",
       "    </tr>\n",
       "    <tr>\n",
       "      <th>4</th>\n",
       "      <td>1610612737</td>\n",
       "      <td>ATL</td>\n",
       "      <td>Atlanta Hawks</td>\n",
       "      <td>1986-04-04</td>\n",
       "      <td>ATL @ WAS</td>\n",
       "      <td>L</td>\n",
       "      <td>265.0</td>\n",
       "      <td>54</td>\n",
       "      <td>100</td>\n",
       "      <td>0.540</td>\n",
       "      <td>...</td>\n",
       "      <td>28</td>\n",
       "      <td>45</td>\n",
       "      <td>24</td>\n",
       "      <td>6</td>\n",
       "      <td>7</td>\n",
       "      <td>14.0</td>\n",
       "      <td>37</td>\n",
       "      <td>129</td>\n",
       "      <td>-6.0</td>\n",
       "      <td>1985</td>\n",
       "    </tr>\n",
       "  </tbody>\n",
       "</table>\n",
       "<p>5 rows × 27 columns</p>\n",
       "</div>"
      ],
      "text/plain": [
       "      TEAM_ID TEAM_ABBREVIATION      TEAM_NAME   GAME_DATE      MATCHUP WL  \\\n",
       "0  1610612737               ATL  Atlanta Hawks  1986-04-12  ATL vs. IND  W   \n",
       "1  1610612737               ATL  Atlanta Hawks  1986-04-10  ATL vs. NJN  W   \n",
       "2  1610612737               ATL  Atlanta Hawks  1986-04-08  ATL vs. CHI  W   \n",
       "3  1610612737               ATL  Atlanta Hawks  1986-04-05    ATL @ CHI  L   \n",
       "4  1610612737               ATL  Atlanta Hawks  1986-04-04    ATL @ WAS  L   \n",
       "\n",
       "     MIN  FGM  FGA  FG_PCT  ...  DREB  REB  AST  STL  BLK   TOV  PF  PTS  \\\n",
       "0  240.0   38   88   0.432  ...    39   59   22    6    3  12.0  21  108   \n",
       "1  240.0   44   87   0.506  ...    27   42   30   15    5  22.0  26  126   \n",
       "2  240.0   52   98   0.531  ...    25   42   33   13    6  10.0  22  131   \n",
       "3  240.0   40   76   0.526  ...    25   38   17    7    7  21.0  28   97   \n",
       "4  265.0   54  100   0.540  ...    28   45   24    6    7  14.0  37  129   \n",
       "\n",
       "   PLUS_MINUS  SEASON_YEAR  \n",
       "0        17.0         1985  \n",
       "1         9.0         1985  \n",
       "2        13.0         1985  \n",
       "3        -5.0         1985  \n",
       "4        -6.0         1985  \n",
       "\n",
       "[5 rows x 27 columns]"
      ]
     },
     "execution_count": 15,
     "metadata": {},
     "output_type": "execute_result"
    }
   ],
   "source": [
    "all_stats_cleaned.head()"
   ]
  },
  {
   "cell_type": "markdown",
   "id": "c7022359-af17-492e-bc78-2730de8b7c4c",
   "metadata": {},
   "source": [
    "### Cleaning Matchup Column"
   ]
  },
  {
   "cell_type": "markdown",
   "id": "14b27ab2-10e4-467a-aab4-a5ae96afffb2",
   "metadata": {},
   "source": [
    "Next, the `MATCHUP` column contains information on the opponent as well as if it was a home or away game. To make sure these features are clear for the model, we split this information into two separate columns: `OPPONENT` and `HOME`. `HOME` is a binary variable where a value of 1 indicates a home game and a value of 0 indicates an away game. `OPPONENT` contains the team abbreviation of the other team."
   ]
  },
  {
   "cell_type": "markdown",
   "id": "80fbfa16-5ccf-4e2a-bcf4-2db092046bc6",
   "metadata": {},
   "source": [
    "Creating `HOME` variable:"
   ]
  },
  {
   "cell_type": "code",
   "execution_count": 16,
   "id": "3db73d64-1359-47ce-bcc2-51a4d868cb9b",
   "metadata": {},
   "outputs": [],
   "source": [
    "home_away = [0 if '@' in all_stats_cleaned['MATCHUP'].iloc[i] else 1 for i in range(len(all_stats_cleaned))]"
   ]
  },
  {
   "cell_type": "code",
   "execution_count": 17,
   "id": "021a0064-b978-468e-bd90-82d495e66428",
   "metadata": {
    "scrolled": true
   },
   "outputs": [],
   "source": [
    "all_stats_cleaned.insert(5, 'HOME', home_away)"
   ]
  },
  {
   "cell_type": "markdown",
   "id": "c47c9b55-bc54-4ac9-af47-4689b7b33f3c",
   "metadata": {},
   "source": [
    "Creating `OPPONENT` variable:"
   ]
  },
  {
   "cell_type": "code",
   "execution_count": 18,
   "id": "f9f08650-34db-421c-9e13-a06c5db83bb6",
   "metadata": {},
   "outputs": [],
   "source": [
    "opp = [all_stats_cleaned['MATCHUP'].iloc[i][-3:] for i in range(len(all_stats_cleaned))]"
   ]
  },
  {
   "cell_type": "code",
   "execution_count": 19,
   "id": "d7e9c80b-87b6-4a6f-9a05-c0aa2c19985c",
   "metadata": {
    "scrolled": true
   },
   "outputs": [],
   "source": [
    "all_stats_cleaned.insert(6, 'OPPONENT', opp)"
   ]
  },
  {
   "cell_type": "markdown",
   "id": "09ea1ea2-81dc-4cea-b4a4-2e2ac4c6e9ca",
   "metadata": {},
   "source": [
    "Finally, we got rid of the `MATCHUP` column as it now contains redundant information"
   ]
  },
  {
   "cell_type": "code",
   "execution_count": 20,
   "id": "2dc133b3-96e8-46ca-8da4-87798bf1e6ce",
   "metadata": {},
   "outputs": [],
   "source": [
    "all_stats_cleaned = all_stats_cleaned.drop(columns = ['MATCHUP'])"
   ]
  },
  {
   "cell_type": "code",
   "execution_count": 21,
   "id": "01e5c63a-fcbd-452a-94a7-c0327223d79d",
   "metadata": {},
   "outputs": [
    {
     "data": {
      "text/html": [
       "<div>\n",
       "<style scoped>\n",
       "    .dataframe tbody tr th:only-of-type {\n",
       "        vertical-align: middle;\n",
       "    }\n",
       "\n",
       "    .dataframe tbody tr th {\n",
       "        vertical-align: top;\n",
       "    }\n",
       "\n",
       "    .dataframe thead th {\n",
       "        text-align: right;\n",
       "    }\n",
       "</style>\n",
       "<table border=\"1\" class=\"dataframe\">\n",
       "  <thead>\n",
       "    <tr style=\"text-align: right;\">\n",
       "      <th></th>\n",
       "      <th>TEAM_ID</th>\n",
       "      <th>TEAM_ABBREVIATION</th>\n",
       "      <th>TEAM_NAME</th>\n",
       "      <th>GAME_DATE</th>\n",
       "      <th>HOME</th>\n",
       "      <th>OPPONENT</th>\n",
       "      <th>WL</th>\n",
       "      <th>MIN</th>\n",
       "      <th>FGM</th>\n",
       "      <th>FGA</th>\n",
       "      <th>...</th>\n",
       "      <th>DREB</th>\n",
       "      <th>REB</th>\n",
       "      <th>AST</th>\n",
       "      <th>STL</th>\n",
       "      <th>BLK</th>\n",
       "      <th>TOV</th>\n",
       "      <th>PF</th>\n",
       "      <th>PTS</th>\n",
       "      <th>PLUS_MINUS</th>\n",
       "      <th>SEASON_YEAR</th>\n",
       "    </tr>\n",
       "  </thead>\n",
       "  <tbody>\n",
       "    <tr>\n",
       "      <th>0</th>\n",
       "      <td>1610612737</td>\n",
       "      <td>ATL</td>\n",
       "      <td>Atlanta Hawks</td>\n",
       "      <td>1986-04-12</td>\n",
       "      <td>1</td>\n",
       "      <td>IND</td>\n",
       "      <td>W</td>\n",
       "      <td>240.0</td>\n",
       "      <td>38</td>\n",
       "      <td>88</td>\n",
       "      <td>...</td>\n",
       "      <td>39</td>\n",
       "      <td>59</td>\n",
       "      <td>22</td>\n",
       "      <td>6</td>\n",
       "      <td>3</td>\n",
       "      <td>12.0</td>\n",
       "      <td>21</td>\n",
       "      <td>108</td>\n",
       "      <td>17.0</td>\n",
       "      <td>1985</td>\n",
       "    </tr>\n",
       "    <tr>\n",
       "      <th>1</th>\n",
       "      <td>1610612737</td>\n",
       "      <td>ATL</td>\n",
       "      <td>Atlanta Hawks</td>\n",
       "      <td>1986-04-10</td>\n",
       "      <td>1</td>\n",
       "      <td>NJN</td>\n",
       "      <td>W</td>\n",
       "      <td>240.0</td>\n",
       "      <td>44</td>\n",
       "      <td>87</td>\n",
       "      <td>...</td>\n",
       "      <td>27</td>\n",
       "      <td>42</td>\n",
       "      <td>30</td>\n",
       "      <td>15</td>\n",
       "      <td>5</td>\n",
       "      <td>22.0</td>\n",
       "      <td>26</td>\n",
       "      <td>126</td>\n",
       "      <td>9.0</td>\n",
       "      <td>1985</td>\n",
       "    </tr>\n",
       "    <tr>\n",
       "      <th>2</th>\n",
       "      <td>1610612737</td>\n",
       "      <td>ATL</td>\n",
       "      <td>Atlanta Hawks</td>\n",
       "      <td>1986-04-08</td>\n",
       "      <td>1</td>\n",
       "      <td>CHI</td>\n",
       "      <td>W</td>\n",
       "      <td>240.0</td>\n",
       "      <td>52</td>\n",
       "      <td>98</td>\n",
       "      <td>...</td>\n",
       "      <td>25</td>\n",
       "      <td>42</td>\n",
       "      <td>33</td>\n",
       "      <td>13</td>\n",
       "      <td>6</td>\n",
       "      <td>10.0</td>\n",
       "      <td>22</td>\n",
       "      <td>131</td>\n",
       "      <td>13.0</td>\n",
       "      <td>1985</td>\n",
       "    </tr>\n",
       "    <tr>\n",
       "      <th>3</th>\n",
       "      <td>1610612737</td>\n",
       "      <td>ATL</td>\n",
       "      <td>Atlanta Hawks</td>\n",
       "      <td>1986-04-05</td>\n",
       "      <td>0</td>\n",
       "      <td>CHI</td>\n",
       "      <td>L</td>\n",
       "      <td>240.0</td>\n",
       "      <td>40</td>\n",
       "      <td>76</td>\n",
       "      <td>...</td>\n",
       "      <td>25</td>\n",
       "      <td>38</td>\n",
       "      <td>17</td>\n",
       "      <td>7</td>\n",
       "      <td>7</td>\n",
       "      <td>21.0</td>\n",
       "      <td>28</td>\n",
       "      <td>97</td>\n",
       "      <td>-5.0</td>\n",
       "      <td>1985</td>\n",
       "    </tr>\n",
       "    <tr>\n",
       "      <th>4</th>\n",
       "      <td>1610612737</td>\n",
       "      <td>ATL</td>\n",
       "      <td>Atlanta Hawks</td>\n",
       "      <td>1986-04-04</td>\n",
       "      <td>0</td>\n",
       "      <td>WAS</td>\n",
       "      <td>L</td>\n",
       "      <td>265.0</td>\n",
       "      <td>54</td>\n",
       "      <td>100</td>\n",
       "      <td>...</td>\n",
       "      <td>28</td>\n",
       "      <td>45</td>\n",
       "      <td>24</td>\n",
       "      <td>6</td>\n",
       "      <td>7</td>\n",
       "      <td>14.0</td>\n",
       "      <td>37</td>\n",
       "      <td>129</td>\n",
       "      <td>-6.0</td>\n",
       "      <td>1985</td>\n",
       "    </tr>\n",
       "  </tbody>\n",
       "</table>\n",
       "<p>5 rows × 28 columns</p>\n",
       "</div>"
      ],
      "text/plain": [
       "      TEAM_ID TEAM_ABBREVIATION      TEAM_NAME   GAME_DATE  HOME OPPONENT WL  \\\n",
       "0  1610612737               ATL  Atlanta Hawks  1986-04-12     1      IND  W   \n",
       "1  1610612737               ATL  Atlanta Hawks  1986-04-10     1      NJN  W   \n",
       "2  1610612737               ATL  Atlanta Hawks  1986-04-08     1      CHI  W   \n",
       "3  1610612737               ATL  Atlanta Hawks  1986-04-05     0      CHI  L   \n",
       "4  1610612737               ATL  Atlanta Hawks  1986-04-04     0      WAS  L   \n",
       "\n",
       "     MIN  FGM  FGA  ...  DREB  REB  AST  STL  BLK   TOV  PF  PTS  PLUS_MINUS  \\\n",
       "0  240.0   38   88  ...    39   59   22    6    3  12.0  21  108        17.0   \n",
       "1  240.0   44   87  ...    27   42   30   15    5  22.0  26  126         9.0   \n",
       "2  240.0   52   98  ...    25   42   33   13    6  10.0  22  131        13.0   \n",
       "3  240.0   40   76  ...    25   38   17    7    7  21.0  28   97        -5.0   \n",
       "4  265.0   54  100  ...    28   45   24    6    7  14.0  37  129        -6.0   \n",
       "\n",
       "   SEASON_YEAR  \n",
       "0         1985  \n",
       "1         1985  \n",
       "2         1985  \n",
       "3         1985  \n",
       "4         1985  \n",
       "\n",
       "[5 rows x 28 columns]"
      ]
     },
     "execution_count": 21,
     "metadata": {},
     "output_type": "execute_result"
    }
   ],
   "source": [
    "all_stats_cleaned.head()"
   ]
  },
  {
   "cell_type": "markdown",
   "id": "2218cd84-1cbe-4156-93f8-b806c2a3f774",
   "metadata": {},
   "source": [
    "### Cleaning up Game Date Column"
   ]
  },
  {
   "cell_type": "markdown",
   "id": "810e215e-b008-4d06-82f7-810167113e49",
   "metadata": {},
   "source": [
    "In order for the model to interpret the date of the games, we decided to change the `GAME_DATE` column into datetime objects rather than keeping them as strings."
   ]
  },
  {
   "cell_type": "code",
   "execution_count": 22,
   "id": "7301ecc5-f0f9-4cb4-918d-da18b78e5d05",
   "metadata": {},
   "outputs": [],
   "source": [
    "all_stats_cleaned['GAME_DATE'] = pd.to_datetime(all_stats_cleaned['GAME_DATE'], yearfirst=True, format='ISO8601')"
   ]
  },
  {
   "cell_type": "markdown",
   "id": "f0b16ee8-0a4c-4dff-9d01-b3116eb1368b",
   "metadata": {},
   "source": [
    "A look at the new `GAME_DATE` column:"
   ]
  },
  {
   "cell_type": "code",
   "execution_count": 23,
   "id": "c70422f5-be8d-4c81-9cda-abe0b8e38f34",
   "metadata": {},
   "outputs": [
    {
     "data": {
      "text/html": [
       "<div>\n",
       "<style scoped>\n",
       "    .dataframe tbody tr th:only-of-type {\n",
       "        vertical-align: middle;\n",
       "    }\n",
       "\n",
       "    .dataframe tbody tr th {\n",
       "        vertical-align: top;\n",
       "    }\n",
       "\n",
       "    .dataframe thead th {\n",
       "        text-align: right;\n",
       "    }\n",
       "</style>\n",
       "<table border=\"1\" class=\"dataframe\">\n",
       "  <thead>\n",
       "    <tr style=\"text-align: right;\">\n",
       "      <th></th>\n",
       "      <th>GAME_DATE</th>\n",
       "    </tr>\n",
       "  </thead>\n",
       "  <tbody>\n",
       "    <tr>\n",
       "      <th>18475</th>\n",
       "      <td>1999-04-18</td>\n",
       "    </tr>\n",
       "    <tr>\n",
       "      <th>77104</th>\n",
       "      <td>2010-02-03</td>\n",
       "    </tr>\n",
       "    <tr>\n",
       "      <th>17908</th>\n",
       "      <td>1992-03-21</td>\n",
       "    </tr>\n",
       "    <tr>\n",
       "      <th>18643</th>\n",
       "      <td>2001-01-15</td>\n",
       "    </tr>\n",
       "    <tr>\n",
       "      <th>41058</th>\n",
       "      <td>2013-11-04</td>\n",
       "    </tr>\n",
       "    <tr>\n",
       "      <th>68285</th>\n",
       "      <td>2007-02-13</td>\n",
       "    </tr>\n",
       "    <tr>\n",
       "      <th>15826</th>\n",
       "      <td>2005-02-15</td>\n",
       "    </tr>\n",
       "    <tr>\n",
       "      <th>50965</th>\n",
       "      <td>1985-12-26</td>\n",
       "    </tr>\n",
       "    <tr>\n",
       "      <th>55220</th>\n",
       "      <td>1999-12-04</td>\n",
       "    </tr>\n",
       "    <tr>\n",
       "      <th>88878</th>\n",
       "      <td>2016-01-06</td>\n",
       "    </tr>\n",
       "  </tbody>\n",
       "</table>\n",
       "</div>"
      ],
      "text/plain": [
       "       GAME_DATE\n",
       "18475 1999-04-18\n",
       "77104 2010-02-03\n",
       "17908 1992-03-21\n",
       "18643 2001-01-15\n",
       "41058 2013-11-04\n",
       "68285 2007-02-13\n",
       "15826 2005-02-15\n",
       "50965 1985-12-26\n",
       "55220 1999-12-04\n",
       "88878 2016-01-06"
      ]
     },
     "execution_count": 23,
     "metadata": {},
     "output_type": "execute_result"
    }
   ],
   "source": [
    "all_stats_cleaned[['GAME_DATE']].sample(10)"
   ]
  },
  {
   "cell_type": "markdown",
   "id": "e085246d-a895-46b1-8310-be1cab13cced",
   "metadata": {},
   "source": [
    "### Cleaning up WL Column"
   ]
  },
  {
   "cell_type": "markdown",
   "id": "22ed2454-2d74-4678-a101-76fac858665e",
   "metadata": {},
   "source": [
    "The `WL` column states whether the team won or lost that specific game. However, we decided to convert this information into a binary variable `WIN`, which holds 1 for a win and 0 for a loss."
   ]
  },
  {
   "cell_type": "code",
   "execution_count": 24,
   "id": "8cb9a1bc-03c0-4a75-80f1-099860d3d27a",
   "metadata": {},
   "outputs": [],
   "source": [
    "win = [1 if all_stats_cleaned.iloc[i]['WL'] == 'W' else 0 for i in range(len(all_stats_cleaned))]"
   ]
  },
  {
   "cell_type": "code",
   "execution_count": 25,
   "id": "1f108db3-9844-4c54-b789-3feea70f0f8c",
   "metadata": {
    "scrolled": true
   },
   "outputs": [],
   "source": [
    "all_stats_cleaned.insert(6, 'WIN', win)"
   ]
  },
  {
   "cell_type": "markdown",
   "id": "ffd81499-411c-4f3a-836b-828feecf3d19",
   "metadata": {},
   "source": [
    "Dropping `WL` column:"
   ]
  },
  {
   "cell_type": "code",
   "execution_count": 26,
   "id": "3a3212e6-4dd9-46e0-8f13-6cbaeaad77c5",
   "metadata": {},
   "outputs": [],
   "source": [
    "all_stats_cleaned = all_stats_cleaned.drop(columns = ['WL'])"
   ]
  },
  {
   "cell_type": "code",
   "execution_count": 27,
   "id": "131c2440-0fc3-44ea-babe-f25b484d2abe",
   "metadata": {},
   "outputs": [
    {
     "data": {
      "text/html": [
       "<div>\n",
       "<style scoped>\n",
       "    .dataframe tbody tr th:only-of-type {\n",
       "        vertical-align: middle;\n",
       "    }\n",
       "\n",
       "    .dataframe tbody tr th {\n",
       "        vertical-align: top;\n",
       "    }\n",
       "\n",
       "    .dataframe thead th {\n",
       "        text-align: right;\n",
       "    }\n",
       "</style>\n",
       "<table border=\"1\" class=\"dataframe\">\n",
       "  <thead>\n",
       "    <tr style=\"text-align: right;\">\n",
       "      <th></th>\n",
       "      <th>TEAM_ID</th>\n",
       "      <th>TEAM_ABBREVIATION</th>\n",
       "      <th>TEAM_NAME</th>\n",
       "      <th>GAME_DATE</th>\n",
       "      <th>HOME</th>\n",
       "      <th>OPPONENT</th>\n",
       "      <th>WIN</th>\n",
       "      <th>MIN</th>\n",
       "      <th>FGM</th>\n",
       "      <th>FGA</th>\n",
       "      <th>...</th>\n",
       "      <th>DREB</th>\n",
       "      <th>REB</th>\n",
       "      <th>AST</th>\n",
       "      <th>STL</th>\n",
       "      <th>BLK</th>\n",
       "      <th>TOV</th>\n",
       "      <th>PF</th>\n",
       "      <th>PTS</th>\n",
       "      <th>PLUS_MINUS</th>\n",
       "      <th>SEASON_YEAR</th>\n",
       "    </tr>\n",
       "  </thead>\n",
       "  <tbody>\n",
       "    <tr>\n",
       "      <th>0</th>\n",
       "      <td>1610612737</td>\n",
       "      <td>ATL</td>\n",
       "      <td>Atlanta Hawks</td>\n",
       "      <td>1986-04-12</td>\n",
       "      <td>1</td>\n",
       "      <td>IND</td>\n",
       "      <td>1</td>\n",
       "      <td>240.0</td>\n",
       "      <td>38</td>\n",
       "      <td>88</td>\n",
       "      <td>...</td>\n",
       "      <td>39</td>\n",
       "      <td>59</td>\n",
       "      <td>22</td>\n",
       "      <td>6</td>\n",
       "      <td>3</td>\n",
       "      <td>12.0</td>\n",
       "      <td>21</td>\n",
       "      <td>108</td>\n",
       "      <td>17.0</td>\n",
       "      <td>1985</td>\n",
       "    </tr>\n",
       "    <tr>\n",
       "      <th>1</th>\n",
       "      <td>1610612737</td>\n",
       "      <td>ATL</td>\n",
       "      <td>Atlanta Hawks</td>\n",
       "      <td>1986-04-10</td>\n",
       "      <td>1</td>\n",
       "      <td>NJN</td>\n",
       "      <td>1</td>\n",
       "      <td>240.0</td>\n",
       "      <td>44</td>\n",
       "      <td>87</td>\n",
       "      <td>...</td>\n",
       "      <td>27</td>\n",
       "      <td>42</td>\n",
       "      <td>30</td>\n",
       "      <td>15</td>\n",
       "      <td>5</td>\n",
       "      <td>22.0</td>\n",
       "      <td>26</td>\n",
       "      <td>126</td>\n",
       "      <td>9.0</td>\n",
       "      <td>1985</td>\n",
       "    </tr>\n",
       "    <tr>\n",
       "      <th>2</th>\n",
       "      <td>1610612737</td>\n",
       "      <td>ATL</td>\n",
       "      <td>Atlanta Hawks</td>\n",
       "      <td>1986-04-08</td>\n",
       "      <td>1</td>\n",
       "      <td>CHI</td>\n",
       "      <td>1</td>\n",
       "      <td>240.0</td>\n",
       "      <td>52</td>\n",
       "      <td>98</td>\n",
       "      <td>...</td>\n",
       "      <td>25</td>\n",
       "      <td>42</td>\n",
       "      <td>33</td>\n",
       "      <td>13</td>\n",
       "      <td>6</td>\n",
       "      <td>10.0</td>\n",
       "      <td>22</td>\n",
       "      <td>131</td>\n",
       "      <td>13.0</td>\n",
       "      <td>1985</td>\n",
       "    </tr>\n",
       "    <tr>\n",
       "      <th>3</th>\n",
       "      <td>1610612737</td>\n",
       "      <td>ATL</td>\n",
       "      <td>Atlanta Hawks</td>\n",
       "      <td>1986-04-05</td>\n",
       "      <td>0</td>\n",
       "      <td>CHI</td>\n",
       "      <td>0</td>\n",
       "      <td>240.0</td>\n",
       "      <td>40</td>\n",
       "      <td>76</td>\n",
       "      <td>...</td>\n",
       "      <td>25</td>\n",
       "      <td>38</td>\n",
       "      <td>17</td>\n",
       "      <td>7</td>\n",
       "      <td>7</td>\n",
       "      <td>21.0</td>\n",
       "      <td>28</td>\n",
       "      <td>97</td>\n",
       "      <td>-5.0</td>\n",
       "      <td>1985</td>\n",
       "    </tr>\n",
       "    <tr>\n",
       "      <th>4</th>\n",
       "      <td>1610612737</td>\n",
       "      <td>ATL</td>\n",
       "      <td>Atlanta Hawks</td>\n",
       "      <td>1986-04-04</td>\n",
       "      <td>0</td>\n",
       "      <td>WAS</td>\n",
       "      <td>0</td>\n",
       "      <td>265.0</td>\n",
       "      <td>54</td>\n",
       "      <td>100</td>\n",
       "      <td>...</td>\n",
       "      <td>28</td>\n",
       "      <td>45</td>\n",
       "      <td>24</td>\n",
       "      <td>6</td>\n",
       "      <td>7</td>\n",
       "      <td>14.0</td>\n",
       "      <td>37</td>\n",
       "      <td>129</td>\n",
       "      <td>-6.0</td>\n",
       "      <td>1985</td>\n",
       "    </tr>\n",
       "  </tbody>\n",
       "</table>\n",
       "<p>5 rows × 28 columns</p>\n",
       "</div>"
      ],
      "text/plain": [
       "      TEAM_ID TEAM_ABBREVIATION      TEAM_NAME  GAME_DATE  HOME OPPONENT  WIN  \\\n",
       "0  1610612737               ATL  Atlanta Hawks 1986-04-12     1      IND    1   \n",
       "1  1610612737               ATL  Atlanta Hawks 1986-04-10     1      NJN    1   \n",
       "2  1610612737               ATL  Atlanta Hawks 1986-04-08     1      CHI    1   \n",
       "3  1610612737               ATL  Atlanta Hawks 1986-04-05     0      CHI    0   \n",
       "4  1610612737               ATL  Atlanta Hawks 1986-04-04     0      WAS    0   \n",
       "\n",
       "     MIN  FGM  FGA  ...  DREB  REB  AST  STL  BLK   TOV  PF  PTS  PLUS_MINUS  \\\n",
       "0  240.0   38   88  ...    39   59   22    6    3  12.0  21  108        17.0   \n",
       "1  240.0   44   87  ...    27   42   30   15    5  22.0  26  126         9.0   \n",
       "2  240.0   52   98  ...    25   42   33   13    6  10.0  22  131        13.0   \n",
       "3  240.0   40   76  ...    25   38   17    7    7  21.0  28   97        -5.0   \n",
       "4  265.0   54  100  ...    28   45   24    6    7  14.0  37  129        -6.0   \n",
       "\n",
       "   SEASON_YEAR  \n",
       "0         1985  \n",
       "1         1985  \n",
       "2         1985  \n",
       "3         1985  \n",
       "4         1985  \n",
       "\n",
       "[5 rows x 28 columns]"
      ]
     },
     "execution_count": 27,
     "metadata": {},
     "output_type": "execute_result"
    }
   ],
   "source": [
    "all_stats_cleaned.head()"
   ]
  },
  {
   "cell_type": "markdown",
   "id": "024aff9e-3860-4f85-a5af-a9abffa1d597",
   "metadata": {},
   "source": [
    "## Exploratory Data Analysis\n",
    "In this section, we take a look at the data to better understand the different features as well as any possible trends."
   ]
  },
  {
   "cell_type": "code",
   "execution_count": null,
   "id": "9b333d4b-4cc6-49f9-8bc5-744e4549caa4",
   "metadata": {},
   "outputs": [],
   "source": []
  }
 ],
 "metadata": {
  "kernelspec": {
   "display_name": "Python 3 (ipykernel)",
   "language": "python",
   "name": "python3"
  },
  "language_info": {
   "codemirror_mode": {
    "name": "ipython",
    "version": 3
   },
   "file_extension": ".py",
   "mimetype": "text/x-python",
   "name": "python",
   "nbconvert_exporter": "python",
   "pygments_lexer": "ipython3",
   "version": "3.11.5"
  }
 },
 "nbformat": 4,
 "nbformat_minor": 5
}
