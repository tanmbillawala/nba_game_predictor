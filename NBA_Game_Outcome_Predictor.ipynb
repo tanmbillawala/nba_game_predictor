{
 "cells": [
  {
   "cell_type": "markdown",
   "id": "2b48c1fc-2b46-45a4-a11a-c0bc812dc423",
   "metadata": {},
   "source": [
    "# NBA Game Outcome Predictor \n",
    "### CMPE 257 Project\n",
    "Authors: Kaushika Uppu, Miranda Billawala, Yun Ei Hlaing, Iris Cheung"
   ]
  },
  {
   "cell_type": "markdown",
   "id": "ec780fff-8e9b-4cdb-8f53-67d3fc5af6ee",
   "metadata": {},
   "source": [
    "## Imports"
   ]
  },
  {
   "cell_type": "code",
   "execution_count": 1,
   "id": "b577252f-e460-4d47-ae5e-00e7da3d1be0",
   "metadata": {},
   "outputs": [],
   "source": [
    "import pandas as pd\n",
    "import numpy as np\n",
    "import time\n",
    "import matplotlib.pyplot as plt\n",
    "import seaborn as sns\n",
    "\n",
    "import random\n",
    "from datetime import datetime, timedelta\n",
    "from sklearn.linear_model import LogisticRegression\n",
    "from sklearn.ensemble import RandomForestClassifier\n",
    "from xgboost import XGBClassifier, XGBRegressor\n",
    "from sklearn.metrics import mean_squared_error, accuracy_score, roc_auc_score, f1_score, r2_score, precision_score, recall_score\n",
    "import itertools"
   ]
  },
  {
   "cell_type": "markdown",
   "id": "496bcbab-1a20-4f9a-b96e-f0f9c45d638e",
   "metadata": {},
   "source": [
    "## Training Data\n",
    "We load in the save statistics predictions for each game using our two methods: rolling window and a XGBoost model. Due to computational costs of predicting statistics with the model, the model data only spans 2014-2025."
   ]
  },
  {
   "cell_type": "code",
   "execution_count": 2,
   "id": "085d13f3-093b-4bfe-a124-f6d9ad277a3e",
   "metadata": {},
   "outputs": [
    {
     "data": {
      "text/html": [
       "<div>\n",
       "<style scoped>\n",
       "    .dataframe tbody tr th:only-of-type {\n",
       "        vertical-align: middle;\n",
       "    }\n",
       "\n",
       "    .dataframe tbody tr th {\n",
       "        vertical-align: top;\n",
       "    }\n",
       "\n",
       "    .dataframe thead th {\n",
       "        text-align: right;\n",
       "    }\n",
       "</style>\n",
       "<table border=\"1\" class=\"dataframe\">\n",
       "  <thead>\n",
       "    <tr style=\"text-align: right;\">\n",
       "      <th></th>\n",
       "      <th>TEAM_ID</th>\n",
       "      <th>TEAM_ABBREVIATION</th>\n",
       "      <th>TEAM_NAME</th>\n",
       "      <th>GAME_DATE</th>\n",
       "      <th>HOME</th>\n",
       "      <th>OPPONENT</th>\n",
       "      <th>WIN</th>\n",
       "      <th>MIN</th>\n",
       "      <th>FGM</th>\n",
       "      <th>FGA</th>\n",
       "      <th>...</th>\n",
       "      <th>DREB</th>\n",
       "      <th>REB</th>\n",
       "      <th>AST</th>\n",
       "      <th>STL</th>\n",
       "      <th>BLK</th>\n",
       "      <th>TOV</th>\n",
       "      <th>PF</th>\n",
       "      <th>PTS</th>\n",
       "      <th>PLUS_MINUS</th>\n",
       "      <th>SEASON_YEAR</th>\n",
       "    </tr>\n",
       "  </thead>\n",
       "  <tbody>\n",
       "    <tr>\n",
       "      <th>0</th>\n",
       "      <td>0</td>\n",
       "      <td>ATL</td>\n",
       "      <td>Atlanta Hawks</td>\n",
       "      <td>1986-04-12</td>\n",
       "      <td>1</td>\n",
       "      <td>IND</td>\n",
       "      <td>1</td>\n",
       "      <td>240.0</td>\n",
       "      <td>38</td>\n",
       "      <td>88</td>\n",
       "      <td>...</td>\n",
       "      <td>39</td>\n",
       "      <td>59</td>\n",
       "      <td>22</td>\n",
       "      <td>6</td>\n",
       "      <td>3</td>\n",
       "      <td>12.0</td>\n",
       "      <td>21</td>\n",
       "      <td>108</td>\n",
       "      <td>17.0</td>\n",
       "      <td>1985</td>\n",
       "    </tr>\n",
       "    <tr>\n",
       "      <th>1</th>\n",
       "      <td>0</td>\n",
       "      <td>ATL</td>\n",
       "      <td>Atlanta Hawks</td>\n",
       "      <td>1986-04-10</td>\n",
       "      <td>1</td>\n",
       "      <td>NJN</td>\n",
       "      <td>1</td>\n",
       "      <td>240.0</td>\n",
       "      <td>44</td>\n",
       "      <td>87</td>\n",
       "      <td>...</td>\n",
       "      <td>27</td>\n",
       "      <td>42</td>\n",
       "      <td>30</td>\n",
       "      <td>15</td>\n",
       "      <td>5</td>\n",
       "      <td>22.0</td>\n",
       "      <td>26</td>\n",
       "      <td>126</td>\n",
       "      <td>9.0</td>\n",
       "      <td>1985</td>\n",
       "    </tr>\n",
       "    <tr>\n",
       "      <th>2</th>\n",
       "      <td>0</td>\n",
       "      <td>ATL</td>\n",
       "      <td>Atlanta Hawks</td>\n",
       "      <td>1986-04-08</td>\n",
       "      <td>1</td>\n",
       "      <td>CHI</td>\n",
       "      <td>1</td>\n",
       "      <td>240.0</td>\n",
       "      <td>52</td>\n",
       "      <td>98</td>\n",
       "      <td>...</td>\n",
       "      <td>25</td>\n",
       "      <td>42</td>\n",
       "      <td>33</td>\n",
       "      <td>13</td>\n",
       "      <td>6</td>\n",
       "      <td>10.0</td>\n",
       "      <td>22</td>\n",
       "      <td>131</td>\n",
       "      <td>13.0</td>\n",
       "      <td>1985</td>\n",
       "    </tr>\n",
       "    <tr>\n",
       "      <th>3</th>\n",
       "      <td>0</td>\n",
       "      <td>ATL</td>\n",
       "      <td>Atlanta Hawks</td>\n",
       "      <td>1986-04-05</td>\n",
       "      <td>0</td>\n",
       "      <td>CHI</td>\n",
       "      <td>0</td>\n",
       "      <td>240.0</td>\n",
       "      <td>40</td>\n",
       "      <td>76</td>\n",
       "      <td>...</td>\n",
       "      <td>25</td>\n",
       "      <td>38</td>\n",
       "      <td>17</td>\n",
       "      <td>7</td>\n",
       "      <td>7</td>\n",
       "      <td>21.0</td>\n",
       "      <td>28</td>\n",
       "      <td>97</td>\n",
       "      <td>-5.0</td>\n",
       "      <td>1985</td>\n",
       "    </tr>\n",
       "    <tr>\n",
       "      <th>4</th>\n",
       "      <td>0</td>\n",
       "      <td>ATL</td>\n",
       "      <td>Atlanta Hawks</td>\n",
       "      <td>1986-04-04</td>\n",
       "      <td>0</td>\n",
       "      <td>WAS</td>\n",
       "      <td>0</td>\n",
       "      <td>265.0</td>\n",
       "      <td>54</td>\n",
       "      <td>100</td>\n",
       "      <td>...</td>\n",
       "      <td>28</td>\n",
       "      <td>45</td>\n",
       "      <td>24</td>\n",
       "      <td>6</td>\n",
       "      <td>7</td>\n",
       "      <td>14.0</td>\n",
       "      <td>37</td>\n",
       "      <td>129</td>\n",
       "      <td>-6.0</td>\n",
       "      <td>1985</td>\n",
       "    </tr>\n",
       "  </tbody>\n",
       "</table>\n",
       "<p>5 rows × 28 columns</p>\n",
       "</div>"
      ],
      "text/plain": [
       "   TEAM_ID TEAM_ABBREVIATION      TEAM_NAME  GAME_DATE  HOME OPPONENT  WIN  \\\n",
       "0        0               ATL  Atlanta Hawks 1986-04-12     1      IND    1   \n",
       "1        0               ATL  Atlanta Hawks 1986-04-10     1      NJN    1   \n",
       "2        0               ATL  Atlanta Hawks 1986-04-08     1      CHI    1   \n",
       "3        0               ATL  Atlanta Hawks 1986-04-05     0      CHI    0   \n",
       "4        0               ATL  Atlanta Hawks 1986-04-04     0      WAS    0   \n",
       "\n",
       "     MIN  FGM  FGA  ...  DREB  REB  AST  STL  BLK   TOV  PF  PTS  PLUS_MINUS  \\\n",
       "0  240.0   38   88  ...    39   59   22    6    3  12.0  21  108        17.0   \n",
       "1  240.0   44   87  ...    27   42   30   15    5  22.0  26  126         9.0   \n",
       "2  240.0   52   98  ...    25   42   33   13    6  10.0  22  131        13.0   \n",
       "3  240.0   40   76  ...    25   38   17    7    7  21.0  28   97        -5.0   \n",
       "4  265.0   54  100  ...    28   45   24    6    7  14.0  37  129        -6.0   \n",
       "\n",
       "   SEASON_YEAR  \n",
       "0         1985  \n",
       "1         1985  \n",
       "2         1985  \n",
       "3         1985  \n",
       "4         1985  \n",
       "\n",
       "[5 rows x 28 columns]"
      ]
     },
     "execution_count": 2,
     "metadata": {},
     "output_type": "execute_result"
    }
   ],
   "source": [
    "all_stats_cleaned = pd.read_csv('all_stats_cleaned.csv')\n",
    "all_stats_cleaned['GAME_DATE'] = pd.to_datetime(all_stats_cleaned['GAME_DATE'], format='ISO8601') # convert date to datetime object\n",
    "\n",
    "all_stats_cleaned.head()"
   ]
  },
  {
   "cell_type": "code",
   "execution_count": 3,
   "id": "41c109fa-a50b-47ba-aa6d-737212f51eb6",
   "metadata": {},
   "outputs": [
    {
     "data": {
      "text/html": [
       "<div>\n",
       "<style scoped>\n",
       "    .dataframe tbody tr th:only-of-type {\n",
       "        vertical-align: middle;\n",
       "    }\n",
       "\n",
       "    .dataframe tbody tr th {\n",
       "        vertical-align: top;\n",
       "    }\n",
       "\n",
       "    .dataframe thead th {\n",
       "        text-align: right;\n",
       "    }\n",
       "</style>\n",
       "<table border=\"1\" class=\"dataframe\">\n",
       "  <thead>\n",
       "    <tr style=\"text-align: right;\">\n",
       "      <th></th>\n",
       "      <th>TEAM_ID_ONE</th>\n",
       "      <th>GAME_DATE</th>\n",
       "      <th>HOME_ONE</th>\n",
       "      <th>WIN_ONE</th>\n",
       "      <th>FG_PCT_ONE</th>\n",
       "      <th>FG3_PCT_ONE</th>\n",
       "      <th>FT_PCT_ONE</th>\n",
       "      <th>OREB_ONE</th>\n",
       "      <th>DREB_ONE</th>\n",
       "      <th>REB_ONE</th>\n",
       "      <th>...</th>\n",
       "      <th>BLK_TWO</th>\n",
       "      <th>TOV_TWO</th>\n",
       "      <th>PF_TWO</th>\n",
       "      <th>SEASON_YEAR</th>\n",
       "      <th>EFG%_TWO</th>\n",
       "      <th>TS%_TWO</th>\n",
       "      <th>WIN_STREAK_TWO</th>\n",
       "      <th>WIN_PERCENTAGE_TWO</th>\n",
       "      <th>ELO_TWO</th>\n",
       "      <th>WIN_LAST_TWO</th>\n",
       "    </tr>\n",
       "  </thead>\n",
       "  <tbody>\n",
       "    <tr>\n",
       "      <th>0</th>\n",
       "      <td>28</td>\n",
       "      <td>1985-11-06</td>\n",
       "      <td>1</td>\n",
       "      <td>1</td>\n",
       "      <td>0.4818</td>\n",
       "      <td>0.1334</td>\n",
       "      <td>0.7716</td>\n",
       "      <td>18.6</td>\n",
       "      <td>33.0</td>\n",
       "      <td>51.6</td>\n",
       "      <td>...</td>\n",
       "      <td>7.2</td>\n",
       "      <td>18.0</td>\n",
       "      <td>30.2</td>\n",
       "      <td>1985</td>\n",
       "      <td>0.467987</td>\n",
       "      <td>0.526725</td>\n",
       "      <td>0</td>\n",
       "      <td>0.600000</td>\n",
       "      <td>1502.231272</td>\n",
       "      <td>1.0</td>\n",
       "    </tr>\n",
       "    <tr>\n",
       "      <th>1</th>\n",
       "      <td>28</td>\n",
       "      <td>1985-11-12</td>\n",
       "      <td>1</td>\n",
       "      <td>1</td>\n",
       "      <td>0.4934</td>\n",
       "      <td>0.2000</td>\n",
       "      <td>0.7922</td>\n",
       "      <td>14.6</td>\n",
       "      <td>29.4</td>\n",
       "      <td>44.0</td>\n",
       "      <td>...</td>\n",
       "      <td>5.0</td>\n",
       "      <td>19.4</td>\n",
       "      <td>20.8</td>\n",
       "      <td>1985</td>\n",
       "      <td>0.472332</td>\n",
       "      <td>0.496543</td>\n",
       "      <td>0</td>\n",
       "      <td>0.285714</td>\n",
       "      <td>1478.667210</td>\n",
       "      <td>0.0</td>\n",
       "    </tr>\n",
       "    <tr>\n",
       "      <th>2</th>\n",
       "      <td>28</td>\n",
       "      <td>1985-11-29</td>\n",
       "      <td>1</td>\n",
       "      <td>1</td>\n",
       "      <td>0.5110</td>\n",
       "      <td>0.1000</td>\n",
       "      <td>0.8744</td>\n",
       "      <td>13.6</td>\n",
       "      <td>30.8</td>\n",
       "      <td>44.4</td>\n",
       "      <td>...</td>\n",
       "      <td>6.2</td>\n",
       "      <td>18.4</td>\n",
       "      <td>31.6</td>\n",
       "      <td>1985</td>\n",
       "      <td>0.562264</td>\n",
       "      <td>0.586669</td>\n",
       "      <td>2</td>\n",
       "      <td>0.736842</td>\n",
       "      <td>1630.861942</td>\n",
       "      <td>1.0</td>\n",
       "    </tr>\n",
       "    <tr>\n",
       "      <th>3</th>\n",
       "      <td>28</td>\n",
       "      <td>1985-12-03</td>\n",
       "      <td>1</td>\n",
       "      <td>0</td>\n",
       "      <td>0.4938</td>\n",
       "      <td>0.1334</td>\n",
       "      <td>0.8700</td>\n",
       "      <td>13.4</td>\n",
       "      <td>29.4</td>\n",
       "      <td>42.8</td>\n",
       "      <td>...</td>\n",
       "      <td>4.6</td>\n",
       "      <td>16.6</td>\n",
       "      <td>20.4</td>\n",
       "      <td>1985</td>\n",
       "      <td>0.505386</td>\n",
       "      <td>0.548772</td>\n",
       "      <td>3</td>\n",
       "      <td>0.529412</td>\n",
       "      <td>1526.169207</td>\n",
       "      <td>0.0</td>\n",
       "    </tr>\n",
       "    <tr>\n",
       "      <th>4</th>\n",
       "      <td>28</td>\n",
       "      <td>1985-12-05</td>\n",
       "      <td>1</td>\n",
       "      <td>1</td>\n",
       "      <td>0.4752</td>\n",
       "      <td>0.2334</td>\n",
       "      <td>0.8146</td>\n",
       "      <td>13.0</td>\n",
       "      <td>30.8</td>\n",
       "      <td>43.8</td>\n",
       "      <td>...</td>\n",
       "      <td>5.0</td>\n",
       "      <td>21.4</td>\n",
       "      <td>25.4</td>\n",
       "      <td>1985</td>\n",
       "      <td>0.514892</td>\n",
       "      <td>0.548520</td>\n",
       "      <td>0</td>\n",
       "      <td>0.500000</td>\n",
       "      <td>1472.405125</td>\n",
       "      <td>0.0</td>\n",
       "    </tr>\n",
       "  </tbody>\n",
       "</table>\n",
       "<p>5 rows × 40 columns</p>\n",
       "</div>"
      ],
      "text/plain": [
       "   TEAM_ID_ONE  GAME_DATE  HOME_ONE  WIN_ONE  FG_PCT_ONE  FG3_PCT_ONE  \\\n",
       "0           28 1985-11-06         1        1      0.4818       0.1334   \n",
       "1           28 1985-11-12         1        1      0.4934       0.2000   \n",
       "2           28 1985-11-29         1        1      0.5110       0.1000   \n",
       "3           28 1985-12-03         1        0      0.4938       0.1334   \n",
       "4           28 1985-12-05         1        1      0.4752       0.2334   \n",
       "\n",
       "   FT_PCT_ONE  OREB_ONE  DREB_ONE  REB_ONE  ...  BLK_TWO  TOV_TWO  PF_TWO  \\\n",
       "0      0.7716      18.6      33.0     51.6  ...      7.2     18.0    30.2   \n",
       "1      0.7922      14.6      29.4     44.0  ...      5.0     19.4    20.8   \n",
       "2      0.8744      13.6      30.8     44.4  ...      6.2     18.4    31.6   \n",
       "3      0.8700      13.4      29.4     42.8  ...      4.6     16.6    20.4   \n",
       "4      0.8146      13.0      30.8     43.8  ...      5.0     21.4    25.4   \n",
       "\n",
       "   SEASON_YEAR  EFG%_TWO   TS%_TWO  WIN_STREAK_TWO  WIN_PERCENTAGE_TWO  \\\n",
       "0         1985  0.467987  0.526725               0            0.600000   \n",
       "1         1985  0.472332  0.496543               0            0.285714   \n",
       "2         1985  0.562264  0.586669               2            0.736842   \n",
       "3         1985  0.505386  0.548772               3            0.529412   \n",
       "4         1985  0.514892  0.548520               0            0.500000   \n",
       "\n",
       "       ELO_TWO  WIN_LAST_TWO  \n",
       "0  1502.231272           1.0  \n",
       "1  1478.667210           0.0  \n",
       "2  1630.861942           1.0  \n",
       "3  1526.169207           0.0  \n",
       "4  1472.405125           0.0  \n",
       "\n",
       "[5 rows x 40 columns]"
      ]
     },
     "execution_count": 3,
     "metadata": {},
     "output_type": "execute_result"
    }
   ],
   "source": [
    "df_rolling = pd.read_csv('df_rolling.csv')\n",
    "df_rolling['GAME_DATE'] = pd.to_datetime(df_rolling['GAME_DATE'])\n",
    "df_rolling.head()"
   ]
  },
  {
   "cell_type": "code",
   "execution_count": 4,
   "id": "95448e1c-0703-4d80-895b-1eda69d5a07a",
   "metadata": {},
   "outputs": [
    {
     "data": {
      "text/html": [
       "<div>\n",
       "<style scoped>\n",
       "    .dataframe tbody tr th:only-of-type {\n",
       "        vertical-align: middle;\n",
       "    }\n",
       "\n",
       "    .dataframe tbody tr th {\n",
       "        vertical-align: top;\n",
       "    }\n",
       "\n",
       "    .dataframe thead th {\n",
       "        text-align: right;\n",
       "    }\n",
       "</style>\n",
       "<table border=\"1\" class=\"dataframe\">\n",
       "  <thead>\n",
       "    <tr style=\"text-align: right;\">\n",
       "      <th></th>\n",
       "      <th>TEAM_ID_ONE</th>\n",
       "      <th>GAME_DATE</th>\n",
       "      <th>HOME_ONE</th>\n",
       "      <th>WIN_ONE</th>\n",
       "      <th>FG_PCT_ONE</th>\n",
       "      <th>FG3_PCT_ONE</th>\n",
       "      <th>FT_PCT_ONE</th>\n",
       "      <th>OREB_ONE</th>\n",
       "      <th>DREB_ONE</th>\n",
       "      <th>REB_ONE</th>\n",
       "      <th>...</th>\n",
       "      <th>BLK_TWO</th>\n",
       "      <th>TOV_TWO</th>\n",
       "      <th>PF_TWO</th>\n",
       "      <th>SEASON_YEAR</th>\n",
       "      <th>EFG%_TWO</th>\n",
       "      <th>TS%_TWO</th>\n",
       "      <th>WIN_STREAK_TWO</th>\n",
       "      <th>WIN_PERCENTAGE_TWO</th>\n",
       "      <th>ELO_TWO</th>\n",
       "      <th>WIN_LAST_TWO</th>\n",
       "    </tr>\n",
       "  </thead>\n",
       "  <tbody>\n",
       "    <tr>\n",
       "      <th>0</th>\n",
       "      <td>10</td>\n",
       "      <td>2014-10-28</td>\n",
       "      <td>1</td>\n",
       "      <td>0</td>\n",
       "      <td>0.444152</td>\n",
       "      <td>0.356890</td>\n",
       "      <td>0.768085</td>\n",
       "      <td>7.817335</td>\n",
       "      <td>34.557854</td>\n",
       "      <td>44.871178</td>\n",
       "      <td>...</td>\n",
       "      <td>3.824581</td>\n",
       "      <td>15.420383</td>\n",
       "      <td>19.087170</td>\n",
       "      <td>2014</td>\n",
       "      <td>0.677708</td>\n",
       "      <td>0.565640</td>\n",
       "      <td>0</td>\n",
       "      <td>0.563948</td>\n",
       "      <td>1626.867122</td>\n",
       "      <td>1.0</td>\n",
       "    </tr>\n",
       "    <tr>\n",
       "      <th>1</th>\n",
       "      <td>22</td>\n",
       "      <td>2014-10-28</td>\n",
       "      <td>1</td>\n",
       "      <td>1</td>\n",
       "      <td>0.489515</td>\n",
       "      <td>0.384762</td>\n",
       "      <td>0.839081</td>\n",
       "      <td>9.745007</td>\n",
       "      <td>34.656540</td>\n",
       "      <td>39.966927</td>\n",
       "      <td>...</td>\n",
       "      <td>5.242719</td>\n",
       "      <td>11.993127</td>\n",
       "      <td>18.130919</td>\n",
       "      <td>2014</td>\n",
       "      <td>0.586378</td>\n",
       "      <td>0.556815</td>\n",
       "      <td>0</td>\n",
       "      <td>0.524464</td>\n",
       "      <td>1585.475243</td>\n",
       "      <td>0.0</td>\n",
       "    </tr>\n",
       "    <tr>\n",
       "      <th>2</th>\n",
       "      <td>3</td>\n",
       "      <td>2014-10-28</td>\n",
       "      <td>1</td>\n",
       "      <td>1</td>\n",
       "      <td>0.457504</td>\n",
       "      <td>0.341280</td>\n",
       "      <td>0.732926</td>\n",
       "      <td>13.244682</td>\n",
       "      <td>31.746922</td>\n",
       "      <td>41.162700</td>\n",
       "      <td>...</td>\n",
       "      <td>4.202436</td>\n",
       "      <td>15.582109</td>\n",
       "      <td>21.155241</td>\n",
       "      <td>2014</td>\n",
       "      <td>0.593310</td>\n",
       "      <td>0.537249</td>\n",
       "      <td>0</td>\n",
       "      <td>0.500500</td>\n",
       "      <td>1336.913853</td>\n",
       "      <td>0.0</td>\n",
       "    </tr>\n",
       "    <tr>\n",
       "      <th>3</th>\n",
       "      <td>19</td>\n",
       "      <td>2014-10-29</td>\n",
       "      <td>1</td>\n",
       "      <td>1</td>\n",
       "      <td>0.475021</td>\n",
       "      <td>0.381624</td>\n",
       "      <td>0.785072</td>\n",
       "      <td>10.271174</td>\n",
       "      <td>34.188620</td>\n",
       "      <td>44.218640</td>\n",
       "      <td>...</td>\n",
       "      <td>5.554900</td>\n",
       "      <td>14.851370</td>\n",
       "      <td>19.247747</td>\n",
       "      <td>2014</td>\n",
       "      <td>0.608978</td>\n",
       "      <td>0.524657</td>\n",
       "      <td>0</td>\n",
       "      <td>0.638353</td>\n",
       "      <td>1387.342422</td>\n",
       "      <td>1.0</td>\n",
       "    </tr>\n",
       "    <tr>\n",
       "      <th>4</th>\n",
       "      <td>1</td>\n",
       "      <td>2014-10-29</td>\n",
       "      <td>1</td>\n",
       "      <td>1</td>\n",
       "      <td>0.469322</td>\n",
       "      <td>0.372256</td>\n",
       "      <td>0.732027</td>\n",
       "      <td>12.267653</td>\n",
       "      <td>30.908613</td>\n",
       "      <td>44.791588</td>\n",
       "      <td>...</td>\n",
       "      <td>4.572797</td>\n",
       "      <td>16.491095</td>\n",
       "      <td>22.705935</td>\n",
       "      <td>2014</td>\n",
       "      <td>0.603948</td>\n",
       "      <td>0.554034</td>\n",
       "      <td>0</td>\n",
       "      <td>0.420601</td>\n",
       "      <td>1505.633151</td>\n",
       "      <td>1.0</td>\n",
       "    </tr>\n",
       "  </tbody>\n",
       "</table>\n",
       "<p>5 rows × 40 columns</p>\n",
       "</div>"
      ],
      "text/plain": [
       "   TEAM_ID_ONE  GAME_DATE  HOME_ONE  WIN_ONE  FG_PCT_ONE  FG3_PCT_ONE  \\\n",
       "0           10 2014-10-28         1        0    0.444152     0.356890   \n",
       "1           22 2014-10-28         1        1    0.489515     0.384762   \n",
       "2            3 2014-10-28         1        1    0.457504     0.341280   \n",
       "3           19 2014-10-29         1        1    0.475021     0.381624   \n",
       "4            1 2014-10-29         1        1    0.469322     0.372256   \n",
       "\n",
       "   FT_PCT_ONE   OREB_ONE   DREB_ONE    REB_ONE  ...   BLK_TWO    TOV_TWO  \\\n",
       "0    0.768085   7.817335  34.557854  44.871178  ...  3.824581  15.420383   \n",
       "1    0.839081   9.745007  34.656540  39.966927  ...  5.242719  11.993127   \n",
       "2    0.732926  13.244682  31.746922  41.162700  ...  4.202436  15.582109   \n",
       "3    0.785072  10.271174  34.188620  44.218640  ...  5.554900  14.851370   \n",
       "4    0.732027  12.267653  30.908613  44.791588  ...  4.572797  16.491095   \n",
       "\n",
       "      PF_TWO  SEASON_YEAR  EFG%_TWO   TS%_TWO  WIN_STREAK_TWO  \\\n",
       "0  19.087170         2014  0.677708  0.565640               0   \n",
       "1  18.130919         2014  0.586378  0.556815               0   \n",
       "2  21.155241         2014  0.593310  0.537249               0   \n",
       "3  19.247747         2014  0.608978  0.524657               0   \n",
       "4  22.705935         2014  0.603948  0.554034               0   \n",
       "\n",
       "   WIN_PERCENTAGE_TWO      ELO_TWO  WIN_LAST_TWO  \n",
       "0            0.563948  1626.867122           1.0  \n",
       "1            0.524464  1585.475243           0.0  \n",
       "2            0.500500  1336.913853           0.0  \n",
       "3            0.638353  1387.342422           1.0  \n",
       "4            0.420601  1505.633151           1.0  \n",
       "\n",
       "[5 rows x 40 columns]"
      ]
     },
     "execution_count": 4,
     "metadata": {},
     "output_type": "execute_result"
    }
   ],
   "source": [
    "df_model = pd.read_csv('df_model_tuned.csv')\n",
    "df_model['GAME_DATE'] = pd.to_datetime(df_model['GAME_DATE'])\n",
    "df_model.head()"
   ]
  },
  {
   "cell_type": "markdown",
   "id": "0d27317c-944e-4f1c-ba71-51df95bcce1a",
   "metadata": {},
   "source": [
    "## Test Set"
   ]
  },
  {
   "cell_type": "code",
   "execution_count": 5,
   "id": "fa8708fd-58d7-4065-8648-ceb1ff9250e3",
   "metadata": {},
   "outputs": [],
   "source": [
    "def get_val_set (first_season, last_season, n = 1) :\n",
    "    dates = []\n",
    "    for season in range(first_season, last_season) :\n",
    "        season_data = all_stats_cleaned[all_stats_cleaned['SEASON_YEAR'] == season]\n",
    "        start_date = season_data['GAME_DATE'].min()\n",
    "        end_date = season_data['GAME_DATE'].max()\n",
    "\n",
    "        # day around the beginning of the season\n",
    "        beg = season_data[season_data['GAME_DATE'].between(start_date, start_date + timedelta(weeks = 4))]\n",
    "\n",
    "        # day around trade deadline (after about 2/3 of the season)\n",
    "        delta = round((2/3)*(end_date-start_date).days)\n",
    "        approx_deadline = start_date + timedelta(days = delta)\n",
    "        mid = season_data[season_data['GAME_DATE'].between(approx_deadline, approx_deadline + timedelta(weeks = 4))]\n",
    "        \n",
    "        # day around the end of the season\n",
    "        end = season_data[season_data['GAME_DATE'].between(end_date - timedelta(weeks = 4), end_date)]\n",
    "\n",
    "        dates.extend(list(pd.concat([beg.sample(n)['GAME_DATE'], mid.sample(n)['GAME_DATE'], end.sample(n)['GAME_DATE']])))\n",
    "\n",
    "    return dates"
   ]
  },
  {
   "cell_type": "code",
   "execution_count": 6,
   "id": "0bb720bf-8372-43ea-80d1-ea35ea06857d",
   "metadata": {},
   "outputs": [],
   "source": [
    "first_season = all_stats_cleaned['SEASON_YEAR'].min() + 1\n",
    "last_season = all_stats_cleaned['SEASON_YEAR'].max() - 5\n",
    "val_set = get_val_set(first_season, last_season)"
   ]
  },
  {
   "cell_type": "markdown",
   "id": "bc7feb9d-de95-447b-ad2b-7ea69b5a40e3",
   "metadata": {},
   "source": [
    "## Model Building"
   ]
  },
  {
   "cell_type": "code",
   "execution_count": 7,
   "id": "8828ecc7-4475-4d94-891c-9c5a35aeab0d",
   "metadata": {},
   "outputs": [],
   "source": [
    "time_horizon = 5"
   ]
  },
  {
   "cell_type": "code",
   "execution_count": 7,
   "id": "e2af7542-134c-4fe9-8ed8-2528ad3708d3",
   "metadata": {},
   "outputs": [],
   "source": [
    "def get_training_set (df, date, num_seasons) :\n",
    "    \"\"\"\n",
    "    Input: Date of games and number of seasons to include in dataset\n",
    "    Output: All rows from the last num_seasons and all games in the current season up till the given date\n",
    "    \"\"\"\n",
    "    # determine season of the game\n",
    "    season = date.year if date.month >= 10 else date.year - 1\n",
    "    \n",
    "    # get games for training\n",
    "    data = df[df['SEASON_YEAR'].between(season - num_seasons, season)].copy()\n",
    "    data['DAYS_SINCE_GAME'] = [(date-game_day).days for game_day in data['GAME_DATE']]\n",
    "    data = data[data['DAYS_SINCE_GAME'] > 0]\n",
    "\n",
    "    data = data.sort_values(by = 'DAYS_SINCE_GAME')\n",
    "\n",
    "    # split into X and y and only look at relevant columns\n",
    "    X = data.drop(columns = ['WIN_ONE', 'GAME_DATE'])\n",
    "    y = data['WIN_ONE']\n",
    "\n",
    "    return (X,y)\n",
    "\n",
    "def pred_by_date (df, model, date) :\n",
    "    \"\"\"\n",
    "    Predict the outcome of all games on the given date. \n",
    "    \"\"\"\n",
    "    n = time_horizon # how many years in the past for training\n",
    "    \n",
    "    # determine season of the game\n",
    "    season = date.year if date.month >= 10 else date.year - 1\n",
    "\n",
    "    # get data in relevant time frame\n",
    "    X, y = get_training_set(df, date, n)\n",
    "\n",
    "    games_on_day = df[df['GAME_DATE'] == date].copy()\n",
    "    games_on_day['DAYS_SINCE_GAME'] = np.zeros(len(games_on_day))\n",
    "\n",
    "    test = games_on_day.drop(columns = ['WIN_ONE', 'GAME_DATE'])\n",
    "\n",
    "    model.fit(X,y)\n",
    "    pred = model.predict(test)\n",
    "\n",
    "    #get y_score, predicted probability of positive \n",
    "    probs = model.predict_proba(test)\n",
    "    pos_prob = probs[:,1]\n",
    "    \n",
    "    return pred, games_on_day['WIN_ONE'], pos_prob\n",
    "\n",
    "def test_model(df, model, dates) :\n",
    "    total_pred = total_pos_prob = []\n",
    "    total_act = pd.DataFrame()\n",
    "    \n",
    "    for d in dates:\n",
    "        pred, act, pos_prob = pred_by_date(df, model, d)\n",
    "        total_pred = np.concatenate((total_pred, pred))\n",
    "        total_act = pd.concat([total_act, act], axis=0)\n",
    "        total_pos_prob = np.concatenate((total_pos_prob, pos_prob))\n",
    "    \n",
    "    return total_pred, total_act, total_pos_prob\n",
    "\n",
    "def print_class_metrics(pred, act, pos_prob):\n",
    "    print(\"Accuracy:\", accuracy_score(act, pred))\n",
    "    print(\"Precision:\", precision_score(act, pred))\n",
    "    print(\"Recall:\", recall_score(act, pred))\n",
    "    print(\"F1:\", f1_score(act, pred))\n",
    "    print(\"ROC AUC:\", roc_auc_score(act, pos_prob))"
   ]
  },
  {
   "cell_type": "markdown",
   "id": "f4d2c251-0908-484c-8165-47cc361f8c24",
   "metadata": {},
   "source": [
    "### Random Forests (baseline)"
   ]
  },
  {
   "cell_type": "code",
   "execution_count": 11,
   "id": "a2857252-8ecd-4df3-85eb-46500a9f9fe1",
   "metadata": {},
   "outputs": [
    {
     "name": "stdout",
     "output_type": "stream",
     "text": [
      "Accuracy: 0.6720368239355581\n",
      "Precision: 0.6744457409568262\n",
      "Recall: 0.6651323360184119\n",
      "F1: 0.6697566628041715\n",
      "ROC AUC: 0.7221314395208438\n"
     ]
    }
   ],
   "source": [
    "model = RandomForestClassifier(random_state=33)\n",
    "pred, act, pos_prob = test_model(df_rolling, model, val_set)\n",
    "print_class_metrics(pred, act, pos_prob)\n",
    "\n",
    "#Accuracy: 0.6720368239355581\n",
    "#Precision: 0.6744457409568262\n",
    "#Recall: 0.6651323360184119\n",
    "#F1: 0.6697566628041715\n",
    "#ROC AUC: 0.7221314395208438"
   ]
  },
  {
   "cell_type": "markdown",
   "id": "c70858ab-94c0-476f-bd56-9a381060d257",
   "metadata": {},
   "source": [
    "### XGBoost"
   ]
  },
  {
   "cell_type": "code",
   "execution_count": 12,
   "id": "7a461cf6-5e1a-46ac-a6f7-11adfcfc5b5c",
   "metadata": {},
   "outputs": [
    {
     "name": "stdout",
     "output_type": "stream",
     "text": [
      "Accuracy: 0.6547756041426928\n",
      "Precision: 0.6584216725559482\n",
      "Recall: 0.6432681242807825\n",
      "F1: 0.6507566938300349\n",
      "ROC AUC: 0.7148952342613032\n"
     ]
    }
   ],
   "source": [
    "model = XGBClassifier(objective='binary:logistic', base_score = 0.5, random_state = 33)\n",
    "pred, act, pos_prob = test_model(df_rolling, model, val_set)\n",
    "print_class_metrics(pred, act, pos_prob)\n",
    "\n",
    "#Accuracy: 0.6547756041426928\n",
    "#Precision: 0.6584216725559482\n",
    "#Recall: 0.6432681242807825\n",
    "#F1: 0.6507566938300349\n",
    "#ROC AUC: 0.7148952342613032"
   ]
  },
  {
   "cell_type": "markdown",
   "id": "a1070b3c-d1e1-4fb7-9285-47d04daf211c",
   "metadata": {},
   "source": [
    "## Feature Selection\n",
    "The average feature importance scores is calculated for the three games for each season using XG Boost built-in feature importance."
   ]
  },
  {
   "cell_type": "code",
   "execution_count": 17,
   "id": "4a2bd0c5-052e-4d3a-8ebf-70fc97c876fe",
   "metadata": {},
   "outputs": [],
   "source": [
    "def pred_by_date_with_importance(df, model, date):\n",
    "    n = 5 \n",
    "    season = date.year if date.month >= 10 else date.year - 1\n",
    "    X, y = get_training_set(df, date, n)\n",
    "    # one hot encoding on the Home feature \n",
    "    games_on_day = df[df['GAME_DATE'] == date].copy()\n",
    "    games_on_day['DAYS_SINCE_GAME'] = np.zeros(len(games_on_day))\n",
    "\n",
    "    test = games_on_day.drop(columns = ['WIN_ONE', 'GAME_DATE'])\n",
    "\n",
    "    model.fit(X,y)\n",
    "    pred = model.predict(test)\n",
    "    correct = np.sum(pred == games_on_day['WIN_ONE'])\n",
    "    games = len(pred)\n",
    "    importance_scores = model.get_booster().get_score(importance_type='gain')\n",
    "    return correct, games, importance_scores"
   ]
  },
  {
   "cell_type": "code",
   "execution_count": 18,
   "id": "b02a3e70-de25-4e76-afef-155c3e45d839",
   "metadata": {},
   "outputs": [],
   "source": [
    "def test_model_with_importance(df, model, test) :\n",
    "    \"\"\"\n",
    "    Outputs the average feature importance scores of game predictions\n",
    "    \"\"\"\n",
    "    total_correct = total_games = 0\n",
    "    feature_scores = {}\n",
    "    for t in test:\n",
    "        correct, games, importance_scores = pred_by_date_with_importance(df, model, t)\n",
    "        \n",
    "        for feature, score in importance_scores.items():\n",
    "            if feature not in feature_scores:\n",
    "                feature_scores[feature] = []\n",
    "            feature_scores[feature].append(score)\n",
    "            \n",
    "\n",
    "        total_correct += correct\n",
    "        total_games += games\n",
    "\n",
    "    average_importance = {features: sum(scores)/len(scores) for features, scores in feature_scores.items()}  \n",
    "    sorted_features = sorted(average_importance.items(), key=lambda x: x[1], reverse=True)\n",
    "    \n",
    "    return sorted_features"
   ]
  },
  {
   "cell_type": "code",
   "execution_count": 19,
   "id": "c00f63e7-1bfe-44df-8a1f-0a15cf17d752",
   "metadata": {},
   "outputs": [
    {
     "name": "stdout",
     "output_type": "stream",
     "text": [
      "[('HOME_ONE', 30.042636596795283), ('ELO_TWO', 12.774800866541236), ('ELO_ONE', 12.72723547497181), ('WIN_LAST_TWO', 5.377202563815647), ('DAYS_SINCE_GAME', 3.8290192671496457), ('TS%_ONE', 3.81653810871972), ('WIN_PERCENTAGE_TWO', 3.7969241720257383), ('TS%_TWO', 3.7965164738472064), ('WIN_PERCENTAGE_ONE', 3.7957291892080596), ('EFG%_ONE', 3.7222740276895387), ('EFG%_TWO', 3.71307538133679), ('FG_PCT_ONE', 3.695310910542806), ('FT_PCT_ONE', 3.6802050092003564), ('FG_PCT_TWO', 3.675352485492976), ('FT_PCT_TWO', 3.6634049656415226), ('REB_TWO', 3.6245810479828804), ('STL_ONE', 3.6223480316123577), ('OREB_TWO', 3.621642545016125), ('REB_ONE', 3.618171974866077), ('FG3_PCT_TWO', 3.6128498520513976), ('STL_TWO', 3.6113566364904846), ('OREB_ONE', 3.60653886409721), ('TOV_ONE', 3.6021888785892062), ('FG3_PCT_ONE', 3.60125114701011), ('AST_ONE', 3.594588037693139), ('AST_TWO', 3.5941335287961094), ('TOV_TWO', 3.5869254331396085), ('TEAM_ID_ONE', 3.582940436372853), ('TEAM_ID_TWO', 3.5481279883721863), ('DREB_TWO', 3.546812973841272), ('BLK_TWO', 3.538116768153027), ('BLK_ONE', 3.5313011106818615), ('PF_TWO', 3.528666362015888), ('WIN_LAST_ONE', 3.5068247956458967), ('PF_ONE', 3.5020498645426046), ('DREB_ONE', 3.4894491428076617), ('WIN_STREAK_TWO', 3.405060311760565), ('WIN_STREAK_ONE', 3.3749738197134), ('SEASON_YEAR', 2.6359615408036174)]\n"
     ]
    }
   ],
   "source": [
    "model = XGBClassifier(objective='binary:logistic')\n",
    "importance_scores = test_model_with_importance(df_rolling, model, val_set)\n",
    "print(importance_scores)"
   ]
  },
  {
   "cell_type": "markdown",
   "id": "95ea6ebd-3457-4e9c-ba72-315660c22b55",
   "metadata": {},
   "source": [
    "Testing the model with the feature importance scores by iteratively removing the least important features and comparing the accuracy:"
   ]
  },
  {
   "cell_type": "code",
   "execution_count": 20,
   "id": "3735050e-52fc-40bc-890f-dcc0d03028a2",
   "metadata": {},
   "outputs": [],
   "source": [
    "def get_training_set_with_features (df, date, num_seasons, features) :\n",
    "    \"\"\"\n",
    "    Input: Date of games, number of seasons and feature subset to include in dataset\n",
    "    Output: All rows from the last num_seasons and all games in the current season up till the given date\n",
    "    \"\"\"\n",
    "    season = date.year if date.month >= 10 else date.year - 1\n",
    "    data = df[df['SEASON_YEAR'].between(season - num_seasons, season)].copy()\n",
    "    data['DAYS_SINCE_GAME'] = [(date-game_day).days for game_day in data['GAME_DATE']]\n",
    "    data = data[data['DAYS_SINCE_GAME'] > 0]\n",
    "\n",
    "    data = data.sort_values(by = 'DAYS_SINCE_GAME')\n",
    "\n",
    "    X = data[features]\n",
    "    y = data['WIN_ONE']\n",
    "\n",
    "    return (X,y)\n",
    "\n",
    "def pred_by_date_with_features (df, model, date, features) :\n",
    "    n = 5 \n",
    "    season = date.year if date.month >= 10 else date.year - 1\n",
    "\n",
    "    X, y = get_training_set_with_features(df, date, n, features)\n",
    "\n",
    "    games_on_day = df[df['GAME_DATE'] == date].copy()\n",
    "    games_on_day['DAYS_SINCE_GAME'] = np.zeros(len(games_on_day))\n",
    "\n",
    "    test = games_on_day[features]\n",
    "    model.fit(X,y)\n",
    "    pred = model.predict(test)\n",
    "    \n",
    "    probs = model.predict_proba(test)\n",
    "    pos_prob = probs[:,1]\n",
    "    return pred, games_on_day['WIN_ONE'], pos_prob"
   ]
  },
  {
   "cell_type": "code",
   "execution_count": 24,
   "id": "21968670-2a1a-4d82-b3fc-d0c3dfda816f",
   "metadata": {},
   "outputs": [],
   "source": [
    "def feature_selection_with_importance(df, model, current_features, min_subset_size, top_n, test) :\n",
    "    \"\"\"\n",
    "    Iterates through the feature importance scores and iteratively remove the least importance features\n",
    "    \"\"\"\n",
    "    results = []\n",
    "    # current_features = [f[0] for f in feature_importance]\n",
    "    \n",
    "    while len(current_features) >= min_subset_size:\n",
    "        total_pred = total_pos_prob = []\n",
    "        total_act = pd.DataFrame()\n",
    "        print(f\"Evaluating with {len(current_features)} features...\")\n",
    "        for t in test:    \n",
    "            pred, act, pos_prob = pred_by_date_with_features(df, model, t, features = current_features)\n",
    "        \n",
    "            total_pred = np.concatenate((total_pred, pred))\n",
    "            total_act = pd.concat([total_act, act], axis=0)\n",
    "            total_pos_prob = np.concatenate((total_pos_prob, pos_prob))\n",
    "        \n",
    "        acc = accuracy_score(total_act, total_pred)\n",
    "        roc_auc = roc_auc_score(total_act, total_pos_prob)\n",
    "        metrics = [acc, roc_auc]\n",
    "\n",
    "        print(current_features, ': Accuracy = ', acc, ', ROC AUC = ', roc_auc)\n",
    "        results.append((current_features.copy(), metrics))\n",
    "        current_features.pop(-1)\n",
    "    \n",
    "    results.sort(key=lambda x: x[1], reverse=True)\n",
    "    return results[:top_n]"
   ]
  },
  {
   "cell_type": "code",
   "execution_count": 37,
   "id": "50d94b5f-a213-44eb-91b2-4b9ff246973a",
   "metadata": {},
   "outputs": [
    {
     "name": "stdout",
     "output_type": "stream",
     "text": [
      "['HOME_ONE', 'ELO_TWO', 'ELO_ONE', 'WIN_LAST_TWO', 'DAYS_SINCE_GAME', 'TS%_ONE', 'WIN_PERCENTAGE_TWO', 'TS%_TWO', 'WIN_PERCENTAGE_ONE', 'EFG%_ONE', 'EFG%_TWO', 'FG_PCT_ONE', 'FT_PCT_ONE', 'FG_PCT_TWO', 'FT_PCT_TWO', 'REB_TWO', 'STL_ONE', 'OREB_TWO', 'REB_ONE', 'FG3_PCT_TWO', 'STL_TWO', 'OREB_ONE', 'TOV_ONE', 'FG3_PCT_ONE', 'AST_ONE', 'AST_TWO', 'TOV_TWO', 'TEAM_ID_ONE', 'TEAM_ID_TWO', 'DREB_TWO', 'BLK_TWO', 'BLK_ONE', 'PF_TWO', 'WIN_LAST_ONE', 'PF_ONE', 'DREB_ONE', 'WIN_STREAK_TWO', 'WIN_STREAK_ONE', 'SEASON_YEAR']\n",
      "Evaluating with 39 features...\n",
      "['HOME_ONE', 'ELO_TWO', 'ELO_ONE', 'WIN_LAST_TWO', 'DAYS_SINCE_GAME', 'TS%_ONE', 'WIN_PERCENTAGE_TWO', 'TS%_TWO', 'WIN_PERCENTAGE_ONE', 'EFG%_ONE', 'EFG%_TWO', 'FG_PCT_ONE', 'FT_PCT_ONE', 'FG_PCT_TWO', 'FT_PCT_TWO', 'REB_TWO', 'STL_ONE', 'OREB_TWO', 'REB_ONE', 'FG3_PCT_TWO', 'STL_TWO', 'OREB_ONE', 'TOV_ONE', 'FG3_PCT_ONE', 'AST_ONE', 'AST_TWO', 'TOV_TWO', 'TEAM_ID_ONE', 'TEAM_ID_TWO', 'DREB_TWO', 'BLK_TWO', 'BLK_ONE', 'PF_TWO', 'WIN_LAST_ONE', 'PF_ONE', 'DREB_ONE', 'WIN_STREAK_TWO', 'WIN_STREAK_ONE', 'SEASON_YEAR'] : Accuracy =  0.6415420023014959 , ROC AUC =  0.7061288917197789\n",
      "Evaluating with 38 features...\n",
      "['HOME_ONE', 'ELO_TWO', 'ELO_ONE', 'WIN_LAST_TWO', 'DAYS_SINCE_GAME', 'TS%_ONE', 'WIN_PERCENTAGE_TWO', 'TS%_TWO', 'WIN_PERCENTAGE_ONE', 'EFG%_ONE', 'EFG%_TWO', 'FG_PCT_ONE', 'FT_PCT_ONE', 'FG_PCT_TWO', 'FT_PCT_TWO', 'REB_TWO', 'STL_ONE', 'OREB_TWO', 'REB_ONE', 'FG3_PCT_TWO', 'STL_TWO', 'OREB_ONE', 'TOV_ONE', 'FG3_PCT_ONE', 'AST_ONE', 'AST_TWO', 'TOV_TWO', 'TEAM_ID_ONE', 'TEAM_ID_TWO', 'DREB_TWO', 'BLK_TWO', 'BLK_ONE', 'PF_TWO', 'WIN_LAST_ONE', 'PF_ONE', 'DREB_ONE', 'WIN_STREAK_TWO', 'WIN_STREAK_ONE'] : Accuracy =  0.6467203682393556 , ROC AUC =  0.7075842105193462\n",
      "Evaluating with 37 features...\n",
      "['HOME_ONE', 'ELO_TWO', 'ELO_ONE', 'WIN_LAST_TWO', 'DAYS_SINCE_GAME', 'TS%_ONE', 'WIN_PERCENTAGE_TWO', 'TS%_TWO', 'WIN_PERCENTAGE_ONE', 'EFG%_ONE', 'EFG%_TWO', 'FG_PCT_ONE', 'FT_PCT_ONE', 'FG_PCT_TWO', 'FT_PCT_TWO', 'REB_TWO', 'STL_ONE', 'OREB_TWO', 'REB_ONE', 'FG3_PCT_TWO', 'STL_TWO', 'OREB_ONE', 'TOV_ONE', 'FG3_PCT_ONE', 'AST_ONE', 'AST_TWO', 'TOV_TWO', 'TEAM_ID_ONE', 'TEAM_ID_TWO', 'DREB_TWO', 'BLK_TWO', 'BLK_ONE', 'PF_TWO', 'WIN_LAST_ONE', 'PF_ONE', 'DREB_ONE', 'WIN_STREAK_TWO'] : Accuracy =  0.6593785960874569 , ROC AUC =  0.7194571753573079\n",
      "Evaluating with 36 features...\n",
      "['HOME_ONE', 'ELO_TWO', 'ELO_ONE', 'WIN_LAST_TWO', 'DAYS_SINCE_GAME', 'TS%_ONE', 'WIN_PERCENTAGE_TWO', 'TS%_TWO', 'WIN_PERCENTAGE_ONE', 'EFG%_ONE', 'EFG%_TWO', 'FG_PCT_ONE', 'FT_PCT_ONE', 'FG_PCT_TWO', 'FT_PCT_TWO', 'REB_TWO', 'STL_ONE', 'OREB_TWO', 'REB_ONE', 'FG3_PCT_TWO', 'STL_TWO', 'OREB_ONE', 'TOV_ONE', 'FG3_PCT_ONE', 'AST_ONE', 'AST_TWO', 'TOV_TWO', 'TEAM_ID_ONE', 'TEAM_ID_TWO', 'DREB_TWO', 'BLK_TWO', 'BLK_ONE', 'PF_TWO', 'WIN_LAST_ONE', 'PF_ONE', 'DREB_ONE'] : Accuracy =  0.6467203682393556 , ROC AUC =  0.7082622116343401\n",
      "Evaluating with 35 features...\n",
      "['HOME_ONE', 'ELO_TWO', 'ELO_ONE', 'WIN_LAST_TWO', 'DAYS_SINCE_GAME', 'TS%_ONE', 'WIN_PERCENTAGE_TWO', 'TS%_TWO', 'WIN_PERCENTAGE_ONE', 'EFG%_ONE', 'EFG%_TWO', 'FG_PCT_ONE', 'FT_PCT_ONE', 'FG_PCT_TWO', 'FT_PCT_TWO', 'REB_TWO', 'STL_ONE', 'OREB_TWO', 'REB_ONE', 'FG3_PCT_TWO', 'STL_TWO', 'OREB_ONE', 'TOV_ONE', 'FG3_PCT_ONE', 'AST_ONE', 'AST_TWO', 'TOV_TWO', 'TEAM_ID_ONE', 'TEAM_ID_TWO', 'DREB_TWO', 'BLK_TWO', 'BLK_ONE', 'PF_TWO', 'WIN_LAST_ONE', 'PF_ONE'] : Accuracy =  0.6455696202531646 , ROC AUC =  0.711281435349548\n",
      "Evaluating with 34 features...\n",
      "['HOME_ONE', 'ELO_TWO', 'ELO_ONE', 'WIN_LAST_TWO', 'DAYS_SINCE_GAME', 'TS%_ONE', 'WIN_PERCENTAGE_TWO', 'TS%_TWO', 'WIN_PERCENTAGE_ONE', 'EFG%_ONE', 'EFG%_TWO', 'FG_PCT_ONE', 'FT_PCT_ONE', 'FG_PCT_TWO', 'FT_PCT_TWO', 'REB_TWO', 'STL_ONE', 'OREB_TWO', 'REB_ONE', 'FG3_PCT_TWO', 'STL_TWO', 'OREB_ONE', 'TOV_ONE', 'FG3_PCT_ONE', 'AST_ONE', 'AST_TWO', 'TOV_TWO', 'TEAM_ID_ONE', 'TEAM_ID_TWO', 'DREB_TWO', 'BLK_TWO', 'BLK_ONE', 'PF_TWO', 'WIN_LAST_ONE'] : Accuracy =  0.6495972382048332 , ROC AUC =  0.702222439982997\n",
      "Evaluating with 33 features...\n",
      "['HOME_ONE', 'ELO_TWO', 'ELO_ONE', 'WIN_LAST_TWO', 'DAYS_SINCE_GAME', 'TS%_ONE', 'WIN_PERCENTAGE_TWO', 'TS%_TWO', 'WIN_PERCENTAGE_ONE', 'EFG%_ONE', 'EFG%_TWO', 'FG_PCT_ONE', 'FT_PCT_ONE', 'FG_PCT_TWO', 'FT_PCT_TWO', 'REB_TWO', 'STL_ONE', 'OREB_TWO', 'REB_ONE', 'FG3_PCT_TWO', 'STL_TWO', 'OREB_ONE', 'TOV_ONE', 'FG3_PCT_ONE', 'AST_ONE', 'AST_TWO', 'TOV_TWO', 'TEAM_ID_ONE', 'TEAM_ID_TWO', 'DREB_TWO', 'BLK_TWO', 'BLK_ONE', 'PF_TWO'] : Accuracy =  0.6444188722669736 , ROC AUC =  0.7008267111251772\n",
      "Evaluating with 32 features...\n",
      "['HOME_ONE', 'ELO_TWO', 'ELO_ONE', 'WIN_LAST_TWO', 'DAYS_SINCE_GAME', 'TS%_ONE', 'WIN_PERCENTAGE_TWO', 'TS%_TWO', 'WIN_PERCENTAGE_ONE', 'EFG%_ONE', 'EFG%_TWO', 'FG_PCT_ONE', 'FT_PCT_ONE', 'FG_PCT_TWO', 'FT_PCT_TWO', 'REB_TWO', 'STL_ONE', 'OREB_TWO', 'REB_ONE', 'FG3_PCT_TWO', 'STL_TWO', 'OREB_ONE', 'TOV_ONE', 'FG3_PCT_ONE', 'AST_ONE', 'AST_TWO', 'TOV_TWO', 'TEAM_ID_ONE', 'TEAM_ID_TWO', 'DREB_TWO', 'BLK_TWO', 'BLK_ONE'] : Accuracy =  0.6616800920598389 , ROC AUC =  0.7201656335536395\n",
      "Evaluating with 31 features...\n",
      "['HOME_ONE', 'ELO_TWO', 'ELO_ONE', 'WIN_LAST_TWO', 'DAYS_SINCE_GAME', 'TS%_ONE', 'WIN_PERCENTAGE_TWO', 'TS%_TWO', 'WIN_PERCENTAGE_ONE', 'EFG%_ONE', 'EFG%_TWO', 'FG_PCT_ONE', 'FT_PCT_ONE', 'FG_PCT_TWO', 'FT_PCT_TWO', 'REB_TWO', 'STL_ONE', 'OREB_TWO', 'REB_ONE', 'FG3_PCT_TWO', 'STL_TWO', 'OREB_ONE', 'TOV_ONE', 'FG3_PCT_ONE', 'AST_ONE', 'AST_TWO', 'TOV_TWO', 'TEAM_ID_ONE', 'TEAM_ID_TWO', 'DREB_TWO', 'BLK_TWO'] : Accuracy =  0.6616800920598389 , ROC AUC =  0.7191539287648594\n",
      "Evaluating with 30 features...\n",
      "['HOME_ONE', 'ELO_TWO', 'ELO_ONE', 'WIN_LAST_TWO', 'DAYS_SINCE_GAME', 'TS%_ONE', 'WIN_PERCENTAGE_TWO', 'TS%_TWO', 'WIN_PERCENTAGE_ONE', 'EFG%_ONE', 'EFG%_TWO', 'FG_PCT_ONE', 'FT_PCT_ONE', 'FG_PCT_TWO', 'FT_PCT_TWO', 'REB_TWO', 'STL_ONE', 'OREB_TWO', 'REB_ONE', 'FG3_PCT_TWO', 'STL_TWO', 'OREB_ONE', 'TOV_ONE', 'FG3_PCT_ONE', 'AST_ONE', 'AST_TWO', 'TOV_TWO', 'TEAM_ID_ONE', 'TEAM_ID_TWO', 'DREB_TWO'] : Accuracy =  0.6478711162255466 , ROC AUC =  0.7106511061879519\n",
      "Evaluating with 29 features...\n",
      "['HOME_ONE', 'ELO_TWO', 'ELO_ONE', 'WIN_LAST_TWO', 'DAYS_SINCE_GAME', 'TS%_ONE', 'WIN_PERCENTAGE_TWO', 'TS%_TWO', 'WIN_PERCENTAGE_ONE', 'EFG%_ONE', 'EFG%_TWO', 'FG_PCT_ONE', 'FT_PCT_ONE', 'FG_PCT_TWO', 'FT_PCT_TWO', 'REB_TWO', 'STL_ONE', 'OREB_TWO', 'REB_ONE', 'FG3_PCT_TWO', 'STL_TWO', 'OREB_ONE', 'TOV_ONE', 'FG3_PCT_ONE', 'AST_ONE', 'AST_TWO', 'TOV_TWO', 'TEAM_ID_ONE', 'TEAM_ID_TWO'] : Accuracy =  0.6513233601841196 , ROC AUC =  0.7077563592399502\n",
      "Evaluating with 28 features...\n",
      "['HOME_ONE', 'ELO_TWO', 'ELO_ONE', 'WIN_LAST_TWO', 'DAYS_SINCE_GAME', 'TS%_ONE', 'WIN_PERCENTAGE_TWO', 'TS%_TWO', 'WIN_PERCENTAGE_ONE', 'EFG%_ONE', 'EFG%_TWO', 'FG_PCT_ONE', 'FT_PCT_ONE', 'FG_PCT_TWO', 'FT_PCT_TWO', 'REB_TWO', 'STL_ONE', 'OREB_TWO', 'REB_ONE', 'FG3_PCT_TWO', 'STL_TWO', 'OREB_ONE', 'TOV_ONE', 'FG3_PCT_ONE', 'AST_ONE', 'AST_TWO', 'TOV_TWO', 'TEAM_ID_ONE'] : Accuracy =  0.6501726121979287 , ROC AUC =  0.7135418804731706\n",
      "Evaluating with 27 features...\n",
      "['HOME_ONE', 'ELO_TWO', 'ELO_ONE', 'WIN_LAST_TWO', 'DAYS_SINCE_GAME', 'TS%_ONE', 'WIN_PERCENTAGE_TWO', 'TS%_TWO', 'WIN_PERCENTAGE_ONE', 'EFG%_ONE', 'EFG%_TWO', 'FG_PCT_ONE', 'FT_PCT_ONE', 'FG_PCT_TWO', 'FT_PCT_TWO', 'REB_TWO', 'STL_ONE', 'OREB_TWO', 'REB_ONE', 'FG3_PCT_TWO', 'STL_TWO', 'OREB_ONE', 'TOV_ONE', 'FG3_PCT_ONE', 'AST_ONE', 'AST_TWO', 'TOV_TWO'] : Accuracy =  0.6513233601841196 , ROC AUC =  0.7180746887087655\n",
      "Evaluating with 26 features...\n",
      "['HOME_ONE', 'ELO_TWO', 'ELO_ONE', 'WIN_LAST_TWO', 'DAYS_SINCE_GAME', 'TS%_ONE', 'WIN_PERCENTAGE_TWO', 'TS%_TWO', 'WIN_PERCENTAGE_ONE', 'EFG%_ONE', 'EFG%_TWO', 'FG_PCT_ONE', 'FT_PCT_ONE', 'FG_PCT_TWO', 'FT_PCT_TWO', 'REB_TWO', 'STL_ONE', 'OREB_TWO', 'REB_ONE', 'FG3_PCT_TWO', 'STL_TWO', 'OREB_ONE', 'TOV_ONE', 'FG3_PCT_ONE', 'AST_ONE', 'AST_TWO'] : Accuracy =  0.64614499424626 , ROC AUC =  0.7080231897568863\n",
      "Evaluating with 25 features...\n",
      "['HOME_ONE', 'ELO_TWO', 'ELO_ONE', 'WIN_LAST_TWO', 'DAYS_SINCE_GAME', 'TS%_ONE', 'WIN_PERCENTAGE_TWO', 'TS%_TWO', 'WIN_PERCENTAGE_ONE', 'EFG%_ONE', 'EFG%_TWO', 'FG_PCT_ONE', 'FT_PCT_ONE', 'FG_PCT_TWO', 'FT_PCT_TWO', 'REB_TWO', 'STL_ONE', 'OREB_TWO', 'REB_ONE', 'FG3_PCT_TWO', 'STL_TWO', 'OREB_ONE', 'TOV_ONE', 'FG3_PCT_ONE', 'AST_ONE'] : Accuracy =  0.6547756041426928 , ROC AUC =  0.7106497819670242\n",
      "Evaluating with 24 features...\n",
      "['HOME_ONE', 'ELO_TWO', 'ELO_ONE', 'WIN_LAST_TWO', 'DAYS_SINCE_GAME', 'TS%_ONE', 'WIN_PERCENTAGE_TWO', 'TS%_TWO', 'WIN_PERCENTAGE_ONE', 'EFG%_ONE', 'EFG%_TWO', 'FG_PCT_ONE', 'FT_PCT_ONE', 'FG_PCT_TWO', 'FT_PCT_TWO', 'REB_TWO', 'STL_ONE', 'OREB_TWO', 'REB_ONE', 'FG3_PCT_TWO', 'STL_TWO', 'OREB_ONE', 'TOV_ONE', 'FG3_PCT_ONE'] : Accuracy =  0.6478711162255466 , ROC AUC =  0.7108431182224717\n",
      "Evaluating with 23 features...\n",
      "['HOME_ONE', 'ELO_TWO', 'ELO_ONE', 'WIN_LAST_TWO', 'DAYS_SINCE_GAME', 'TS%_ONE', 'WIN_PERCENTAGE_TWO', 'TS%_TWO', 'WIN_PERCENTAGE_ONE', 'EFG%_ONE', 'EFG%_TWO', 'FG_PCT_ONE', 'FT_PCT_ONE', 'FG_PCT_TWO', 'FT_PCT_TWO', 'REB_TWO', 'STL_ONE', 'OREB_TWO', 'REB_ONE', 'FG3_PCT_TWO', 'STL_TWO', 'OREB_ONE', 'TOV_ONE'] : Accuracy =  0.6588032220943614 , ROC AUC =  0.7213852410280721\n",
      "Evaluating with 22 features...\n",
      "['HOME_ONE', 'ELO_TWO', 'ELO_ONE', 'WIN_LAST_TWO', 'DAYS_SINCE_GAME', 'TS%_ONE', 'WIN_PERCENTAGE_TWO', 'TS%_TWO', 'WIN_PERCENTAGE_ONE', 'EFG%_ONE', 'EFG%_TWO', 'FG_PCT_ONE', 'FT_PCT_ONE', 'FG_PCT_TWO', 'FT_PCT_TWO', 'REB_TWO', 'STL_ONE', 'OREB_TWO', 'REB_ONE', 'FG3_PCT_TWO', 'STL_TWO', 'OREB_ONE'] : Accuracy =  0.6582278481012658 , ROC AUC =  0.7214805849348682\n",
      "Evaluating with 21 features...\n",
      "['HOME_ONE', 'ELO_TWO', 'ELO_ONE', 'WIN_LAST_TWO', 'DAYS_SINCE_GAME', 'TS%_ONE', 'WIN_PERCENTAGE_TWO', 'TS%_TWO', 'WIN_PERCENTAGE_ONE', 'EFG%_ONE', 'EFG%_TWO', 'FG_PCT_ONE', 'FT_PCT_ONE', 'FG_PCT_TWO', 'FT_PCT_TWO', 'REB_TWO', 'STL_ONE', 'OREB_TWO', 'REB_ONE', 'FG3_PCT_TWO', 'STL_TWO'] : Accuracy =  0.6588032220943614 , ROC AUC =  0.7247580317309819\n",
      "Evaluating with 20 features...\n",
      "['HOME_ONE', 'ELO_TWO', 'ELO_ONE', 'WIN_LAST_TWO', 'DAYS_SINCE_GAME', 'TS%_ONE', 'WIN_PERCENTAGE_TWO', 'TS%_TWO', 'WIN_PERCENTAGE_ONE', 'EFG%_ONE', 'EFG%_TWO', 'FG_PCT_ONE', 'FT_PCT_ONE', 'FG_PCT_TWO', 'FT_PCT_TWO', 'REB_TWO', 'STL_ONE', 'OREB_TWO', 'REB_ONE', 'FG3_PCT_TWO'] : Accuracy =  0.6599539700805523 , ROC AUC =  0.7144595655760825\n",
      "#1: Features = ['HOME_ONE', 'ELO_TWO', 'ELO_ONE', 'WIN_LAST_TWO', 'DAYS_SINCE_GAME', 'TS%_ONE', 'WIN_PERCENTAGE_TWO', 'TS%_TWO', 'WIN_PERCENTAGE_ONE', 'EFG%_ONE', 'EFG%_TWO', 'FG_PCT_ONE', 'FT_PCT_ONE', 'FG_PCT_TWO', 'FT_PCT_TWO', 'REB_TWO', 'STL_ONE', 'OREB_TWO', 'REB_ONE', 'FG3_PCT_TWO', 'STL_TWO', 'OREB_ONE', 'TOV_ONE', 'FG3_PCT_ONE', 'AST_ONE', 'AST_TWO', 'TOV_TWO', 'TEAM_ID_ONE', 'TEAM_ID_TWO', 'DREB_TWO', 'BLK_TWO', 'BLK_ONE'], Accuracy = 0.6617, ROC AUC = 0.7202\n",
      "#2: Features = ['HOME_ONE', 'ELO_TWO', 'ELO_ONE', 'WIN_LAST_TWO', 'DAYS_SINCE_GAME', 'TS%_ONE', 'WIN_PERCENTAGE_TWO', 'TS%_TWO', 'WIN_PERCENTAGE_ONE', 'EFG%_ONE', 'EFG%_TWO', 'FG_PCT_ONE', 'FT_PCT_ONE', 'FG_PCT_TWO', 'FT_PCT_TWO', 'REB_TWO', 'STL_ONE', 'OREB_TWO', 'REB_ONE', 'FG3_PCT_TWO', 'STL_TWO', 'OREB_ONE', 'TOV_ONE', 'FG3_PCT_ONE', 'AST_ONE', 'AST_TWO', 'TOV_TWO', 'TEAM_ID_ONE', 'TEAM_ID_TWO', 'DREB_TWO', 'BLK_TWO'], Accuracy = 0.6617, ROC AUC = 0.7192\n",
      "#3: Features = ['HOME_ONE', 'ELO_TWO', 'ELO_ONE', 'WIN_LAST_TWO', 'DAYS_SINCE_GAME', 'TS%_ONE', 'WIN_PERCENTAGE_TWO', 'TS%_TWO', 'WIN_PERCENTAGE_ONE', 'EFG%_ONE', 'EFG%_TWO', 'FG_PCT_ONE', 'FT_PCT_ONE', 'FG_PCT_TWO', 'FT_PCT_TWO', 'REB_TWO', 'STL_ONE', 'OREB_TWO', 'REB_ONE', 'FG3_PCT_TWO'], Accuracy = 0.6600, ROC AUC = 0.7145\n",
      "#4: Features = ['HOME_ONE', 'ELO_TWO', 'ELO_ONE', 'WIN_LAST_TWO', 'DAYS_SINCE_GAME', 'TS%_ONE', 'WIN_PERCENTAGE_TWO', 'TS%_TWO', 'WIN_PERCENTAGE_ONE', 'EFG%_ONE', 'EFG%_TWO', 'FG_PCT_ONE', 'FT_PCT_ONE', 'FG_PCT_TWO', 'FT_PCT_TWO', 'REB_TWO', 'STL_ONE', 'OREB_TWO', 'REB_ONE', 'FG3_PCT_TWO', 'STL_TWO', 'OREB_ONE', 'TOV_ONE', 'FG3_PCT_ONE', 'AST_ONE', 'AST_TWO', 'TOV_TWO', 'TEAM_ID_ONE', 'TEAM_ID_TWO', 'DREB_TWO', 'BLK_TWO', 'BLK_ONE', 'PF_TWO', 'WIN_LAST_ONE', 'PF_ONE', 'DREB_ONE', 'WIN_STREAK_TWO'], Accuracy = 0.6594, ROC AUC = 0.7195\n",
      "#5: Features = ['HOME_ONE', 'ELO_TWO', 'ELO_ONE', 'WIN_LAST_TWO', 'DAYS_SINCE_GAME', 'TS%_ONE', 'WIN_PERCENTAGE_TWO', 'TS%_TWO', 'WIN_PERCENTAGE_ONE', 'EFG%_ONE', 'EFG%_TWO', 'FG_PCT_ONE', 'FT_PCT_ONE', 'FG_PCT_TWO', 'FT_PCT_TWO', 'REB_TWO', 'STL_ONE', 'OREB_TWO', 'REB_ONE', 'FG3_PCT_TWO', 'STL_TWO'], Accuracy = 0.6588, ROC AUC = 0.7248\n",
      "#6: Features = ['HOME_ONE', 'ELO_TWO', 'ELO_ONE', 'WIN_LAST_TWO', 'DAYS_SINCE_GAME', 'TS%_ONE', 'WIN_PERCENTAGE_TWO', 'TS%_TWO', 'WIN_PERCENTAGE_ONE', 'EFG%_ONE', 'EFG%_TWO', 'FG_PCT_ONE', 'FT_PCT_ONE', 'FG_PCT_TWO', 'FT_PCT_TWO', 'REB_TWO', 'STL_ONE', 'OREB_TWO', 'REB_ONE', 'FG3_PCT_TWO', 'STL_TWO', 'OREB_ONE', 'TOV_ONE'], Accuracy = 0.6588, ROC AUC = 0.7214\n",
      "#7: Features = ['HOME_ONE', 'ELO_TWO', 'ELO_ONE', 'WIN_LAST_TWO', 'DAYS_SINCE_GAME', 'TS%_ONE', 'WIN_PERCENTAGE_TWO', 'TS%_TWO', 'WIN_PERCENTAGE_ONE', 'EFG%_ONE', 'EFG%_TWO', 'FG_PCT_ONE', 'FT_PCT_ONE', 'FG_PCT_TWO', 'FT_PCT_TWO', 'REB_TWO', 'STL_ONE', 'OREB_TWO', 'REB_ONE', 'FG3_PCT_TWO', 'STL_TWO', 'OREB_ONE'], Accuracy = 0.6582, ROC AUC = 0.7215\n",
      "#8: Features = ['HOME_ONE', 'ELO_TWO', 'ELO_ONE', 'WIN_LAST_TWO', 'DAYS_SINCE_GAME', 'TS%_ONE', 'WIN_PERCENTAGE_TWO', 'TS%_TWO', 'WIN_PERCENTAGE_ONE', 'EFG%_ONE', 'EFG%_TWO', 'FG_PCT_ONE', 'FT_PCT_ONE', 'FG_PCT_TWO', 'FT_PCT_TWO', 'REB_TWO', 'STL_ONE', 'OREB_TWO', 'REB_ONE', 'FG3_PCT_TWO', 'STL_TWO', 'OREB_ONE', 'TOV_ONE', 'FG3_PCT_ONE', 'AST_ONE'], Accuracy = 0.6548, ROC AUC = 0.7106\n",
      "#9: Features = ['HOME_ONE', 'ELO_TWO', 'ELO_ONE', 'WIN_LAST_TWO', 'DAYS_SINCE_GAME', 'TS%_ONE', 'WIN_PERCENTAGE_TWO', 'TS%_TWO', 'WIN_PERCENTAGE_ONE', 'EFG%_ONE', 'EFG%_TWO', 'FG_PCT_ONE', 'FT_PCT_ONE', 'FG_PCT_TWO', 'FT_PCT_TWO', 'REB_TWO', 'STL_ONE', 'OREB_TWO', 'REB_ONE', 'FG3_PCT_TWO', 'STL_TWO', 'OREB_ONE', 'TOV_ONE', 'FG3_PCT_ONE', 'AST_ONE', 'AST_TWO', 'TOV_TWO'], Accuracy = 0.6513, ROC AUC = 0.7181\n",
      "#10: Features = ['HOME_ONE', 'ELO_TWO', 'ELO_ONE', 'WIN_LAST_TWO', 'DAYS_SINCE_GAME', 'TS%_ONE', 'WIN_PERCENTAGE_TWO', 'TS%_TWO', 'WIN_PERCENTAGE_ONE', 'EFG%_ONE', 'EFG%_TWO', 'FG_PCT_ONE', 'FT_PCT_ONE', 'FG_PCT_TWO', 'FT_PCT_TWO', 'REB_TWO', 'STL_ONE', 'OREB_TWO', 'REB_ONE', 'FG3_PCT_TWO', 'STL_TWO', 'OREB_ONE', 'TOV_ONE', 'FG3_PCT_ONE', 'AST_ONE', 'AST_TWO', 'TOV_TWO', 'TEAM_ID_ONE', 'TEAM_ID_TWO'], Accuracy = 0.6513, ROC AUC = 0.7078\n"
     ]
    }
   ],
   "source": [
    "model = XGBClassifier(objective='binary:logistic', random_state = 33)\n",
    "sorted_features = [f[0] for f in importance_scores]\n",
    "print(sorted_features)\n",
    "top_subsets = feature_selection_with_importance(df_rolling, model, sorted_features, min_subset_size=20, top_n=10, test=val_set)\n",
    "\n",
    "for i, (subset, metrics) in enumerate(top_subsets, 1):\n",
    "    print(f\"#{i}: Features = {subset}, Accuracy = {metrics[0]:.4f}, ROC AUC = {metrics[1]:.4f}\")"
   ]
  },
  {
   "cell_type": "code",
   "execution_count": 38,
   "id": "4d0a8eef-9e47-454d-a7da-cafbf5e60bdb",
   "metadata": {},
   "outputs": [
    {
     "name": "stdout",
     "output_type": "stream",
     "text": [
      "Best feature subset:  ['HOME_ONE', 'ELO_TWO', 'ELO_ONE', 'WIN_LAST_TWO', 'DAYS_SINCE_GAME', 'TS%_ONE', 'WIN_PERCENTAGE_TWO', 'TS%_TWO', 'WIN_PERCENTAGE_ONE', 'EFG%_ONE', 'EFG%_TWO', 'FG_PCT_ONE', 'FT_PCT_ONE', 'FG_PCT_TWO', 'FT_PCT_TWO', 'REB_TWO', 'STL_ONE', 'OREB_TWO', 'REB_ONE', 'FG3_PCT_TWO', 'STL_TWO', 'OREB_ONE', 'TOV_ONE', 'FG3_PCT_ONE', 'AST_ONE', 'AST_TWO', 'TOV_TWO', 'TEAM_ID_ONE', 'TEAM_ID_TWO', 'DREB_TWO', 'BLK_TWO', 'BLK_ONE']\n",
      "Accuracy: 0.6616800920598389\n",
      "Precision: 0.6624277456647398\n",
      "Recall: 0.6593785960874569\n",
      "F1: 0.6608996539792388\n",
      "ROC AUC: 0.7201656335536395\n"
     ]
    }
   ],
   "source": [
    "# best performing feature subset\n",
    "best_feature_subset = top_subsets[0][0]\n",
    "print('Best feature subset: ', best_feature_subset)\n",
    "\n",
    "total_pred = total_pos_prob = []\n",
    "total_act = pd.DataFrame()\n",
    "for t in val_set:\n",
    "    pred, act, pos_prob = pred_by_date_with_features(df_rolling, model, t, features = best_feature_subset)\n",
    "        \n",
    "    total_pred = np.concatenate((total_pred, pred))\n",
    "    total_act = pd.concat([total_act, act], axis=0)\n",
    "    total_pos_prob = np.concatenate((total_pos_prob, pos_prob))\n",
    "\n",
    "print_class_metrics(total_pred, total_act, total_pos_prob)\n",
    "\n",
    "#Accuracy: 0.6616800920598389\n",
    "#Precision: 0.6624277456647398\n",
    "#Recall: 0.6593785960874569\n",
    "#F1: 0.6608996539792388\n",
    "#ROC AUC: 0.7201656335536395"
   ]
  },
  {
   "cell_type": "code",
   "execution_count": null,
   "id": "4e6b2574-0410-47ce-9951-4ce02954da82",
   "metadata": {},
   "outputs": [],
   "source": [
    "# uncomment to avoid rerunning\n",
    "#best_feature_subset = ['HOME_ONE', 'ELO_TWO', 'ELO_ONE', 'WIN_LAST_TWO', 'DAYS_SINCE_GAME', 'TS%_ONE', 'WIN_PERCENTAGE_TWO', 'TS%_TWO', 'WIN_PERCENTAGE_ONE', 'EFG%_ONE', \n",
    "#                       'EFG%_TWO', 'FG_PCT_ONE', 'FT_PCT_ONE', 'FG_PCT_TWO', 'FT_PCT_TWO', 'REB_TWO', 'STL_ONE', 'OREB_TWO', 'REB_ONE', 'FG3_PCT_TWO', 'STL_TWO', 'OREB_ONE', \n",
    "#                       'TOV_ONE', 'FG3_PCT_ONE', 'AST_ONE', 'AST_TWO', 'TOV_TWO', 'TEAM_ID_ONE', 'TEAM_ID_TWO', 'DREB_TWO', 'BLK_TWO', 'BLK_ONE']"
   ]
  },
  {
   "cell_type": "code",
   "execution_count": 13,
   "id": "4f480ecf-54a1-417b-aee0-ae6eb2de9cef",
   "metadata": {},
   "outputs": [],
   "source": [
    "best_feature_subset.remove('DAYS_SINCE_GAME') # we drop this because it will be calculated when we get the training set\n",
    "base_features = ['GAME_DATE', 'WIN_ONE', 'SEASON_YEAR']\n",
    "df_model_subset = df_model[base_features + best_feature_subset]\n",
    "df_rolling_subset = df_rolling[base_features + best_feature_subset]"
   ]
  },
  {
   "cell_type": "markdown",
   "id": "d6406898-423e-4ece-85d0-3a6a702cb128",
   "metadata": {},
   "source": [
    "## Hyperparameter Tuning"
   ]
  },
  {
   "cell_type": "code",
   "execution_count": 65,
   "id": "bc4c59a2-4376-4623-89bc-789c85d76b64",
   "metadata": {},
   "outputs": [],
   "source": [
    "def pred_by_date_multiple_models (df, models_dict, date) :\n",
    "    \"\"\"\n",
    "    Predict the outcome of all games on the given date for all models given. Used specifically to make\n",
    "    cross validation more efficient\n",
    "    \"\"\"\n",
    "    n = 5 # how many years in the past for training\n",
    "    \n",
    "    # determine season of the game\n",
    "    season = date.year if date.month >= 10 else date.year - 1\n",
    "\n",
    "    # get data in relevant time frame\n",
    "    X, y = get_training_set(df, date, n)\n",
    "\n",
    "    games_on_day = df[df['GAME_DATE'] == date].copy()\n",
    "    games_on_day['DAYS_SINCE_GAME'] = np.zeros(len(games_on_day))\n",
    "\n",
    "    test = games_on_day.drop(columns = ['WIN_ONE', 'GAME_DATE'])\n",
    "\n",
    "    preds = [0]* len(models_dict)\n",
    "    pos_probs = [0]* len(models_dict)\n",
    "    \n",
    "    for k, v in models_dict.items() :\n",
    "        v.fit(X,y)\n",
    "        pred = v.predict(test)\n",
    "        preds[k] = list(pred)\n",
    "        probs = v.predict_proba(test)\n",
    "        pos_prob = probs[:,1]\n",
    "        pos_probs[k] = list(pos_prob)\n",
    "    return preds, list(games_on_day['WIN_ONE']), pos_probs"
   ]
  },
  {
   "cell_type": "code",
   "execution_count": 96,
   "id": "1268d1b6-c323-4d87-aa32-daabb089c500",
   "metadata": {
    "scrolled": true
   },
   "outputs": [
    {
     "name": "stdout",
     "output_type": "stream",
     "text": [
      "Predicting day 1 / 17\n",
      "Predicting day 2 / 17\n",
      "Predicting day 3 / 17\n",
      "Predicting day 4 / 17\n",
      "Predicting day 5 / 17\n",
      "Predicting day 6 / 17\n",
      "Predicting day 7 / 17\n",
      "Predicting day 8 / 17\n",
      "Predicting day 9 / 17\n",
      "Predicting day 10 / 17\n",
      "Predicting day 11 / 17\n",
      "Predicting day 12 / 17\n",
      "Predicting day 13 / 17\n",
      "Predicting day 14 / 17\n",
      "Predicting day 15 / 17\n",
      "Predicting day 16 / 17\n",
      "Predicting day 17 / 17\n"
     ]
    }
   ],
   "source": [
    "# XGBoost parameters\n",
    "param_grid = {\n",
    "    \"n_estimators\": [50, 100, 200],\n",
    "    \"eta\": [0.01, 0.05, 0.1, 0.2], # learning_rate\n",
    "    \"max_depth\": [4, 6, 8, 10], # maximum depth of a tree\n",
    "    \"subsample\": [0.5, 0.7, 1], # fraction of observation to be randomly sampled for each tree\n",
    "    \"colsample_bytree\": [0.5, 0.7, 1], # fraction of columns to be random samples for each tree\n",
    "    \"alpha\": [0.5, 1, 2, 5] # lasso regression\n",
    "}\n",
    "\n",
    "param_dict = {} # store params with key corresponding to index of score in np.array\n",
    "index = 0\n",
    "\n",
    "# Iterate over all combinations of hyperparameters\n",
    "for values in itertools.product(*param_grid.values()):\n",
    "    param_dict[index] = XGBClassifier(objective='binary:logistic', random_state = 33, **dict(zip(param_grid.keys(), values)))\n",
    "    index += 1\n",
    "\n",
    "total_pred = total_pos_prob = total_act = None\n",
    "\n",
    "day = 1\n",
    "total_days = len(param_test_set) \n",
    "param_test_set = [d for d in val_set if d.year >= 2014]\n",
    "for t in param_test_set:\n",
    "    print(f\"Predicting day {day} / {total_days}\")\n",
    "    preds, act, pos_probs = pred_by_date_multiple_models(df_rolling_subset, param_dict, t)\n",
    "    if total_pred is None :\n",
    "        total_pred = preds\n",
    "        total_pos_prob = pos_probs\n",
    "        total_act = act\n",
    "    else :\n",
    "        total_pred = [total_pred[i] + preds[i] for i in range(len(preds))]\n",
    "        total_pos_prob = [total_pos_prob[i] + pos_probs[i] for i in range(len(pos_probs))]\n",
    "        total_act += act\n",
    "    day += 1\n",
    "\n",
    "scores = pd.DataFrame(columns = ['MODEL', 'ACCURACY', 'PRECISION', 'RECALL', 'F1', 'ROC-AUC'])\n",
    "for i in range(len(total_pred)) :\n",
    "    accuracy = accuracy_score(total_act, total_pred[i])\n",
    "    precision = precision_score( total_act, total_pred[i])\n",
    "    recall = recall_score(total_act, total_pred[i])\n",
    "    f1 = f1_score(total_act, total_pred[i])\n",
    "    roc_auc = roc_auc_score(total_act, total_pos_prob[i])\n",
    "    scores.loc[i] = [param_dict[0], accuracy, precision, recall, f1, roc_auc]"
   ]
  },
  {
   "cell_type": "code",
   "execution_count": 98,
   "id": "754e2dda-d5a6-4171-be3e-1d4197ec083b",
   "metadata": {},
   "outputs": [
    {
     "data": {
      "text/html": [
       "<div>\n",
       "<style scoped>\n",
       "    .dataframe tbody tr th:only-of-type {\n",
       "        vertical-align: middle;\n",
       "    }\n",
       "\n",
       "    .dataframe tbody tr th {\n",
       "        vertical-align: top;\n",
       "    }\n",
       "\n",
       "    .dataframe thead th {\n",
       "        text-align: right;\n",
       "    }\n",
       "</style>\n",
       "<table border=\"1\" class=\"dataframe\">\n",
       "  <thead>\n",
       "    <tr style=\"text-align: right;\">\n",
       "      <th></th>\n",
       "      <th>MODEL</th>\n",
       "      <th>ACCURACY</th>\n",
       "      <th>PRECISION</th>\n",
       "      <th>RECALL</th>\n",
       "      <th>F1</th>\n",
       "      <th>ROC-AUC</th>\n",
       "    </tr>\n",
       "  </thead>\n",
       "  <tbody>\n",
       "    <tr>\n",
       "      <th>32</th>\n",
       "      <td>XGBClassifier(alpha=0.5, base_score=None, boos...</td>\n",
       "      <td>0.718543</td>\n",
       "      <td>0.720000</td>\n",
       "      <td>0.715232</td>\n",
       "      <td>0.717608</td>\n",
       "      <td>0.793934</td>\n",
       "    </tr>\n",
       "    <tr>\n",
       "      <th>33</th>\n",
       "      <td>XGBClassifier(alpha=0.5, base_score=None, boos...</td>\n",
       "      <td>0.718543</td>\n",
       "      <td>0.720000</td>\n",
       "      <td>0.715232</td>\n",
       "      <td>0.717608</td>\n",
       "      <td>0.793737</td>\n",
       "    </tr>\n",
       "    <tr>\n",
       "      <th>34</th>\n",
       "      <td>XGBClassifier(alpha=0.5, base_score=None, boos...</td>\n",
       "      <td>0.708609</td>\n",
       "      <td>0.708609</td>\n",
       "      <td>0.708609</td>\n",
       "      <td>0.708609</td>\n",
       "      <td>0.793693</td>\n",
       "    </tr>\n",
       "    <tr>\n",
       "      <th>608</th>\n",
       "      <td>XGBClassifier(alpha=0.5, base_score=None, boos...</td>\n",
       "      <td>0.725166</td>\n",
       "      <td>0.726667</td>\n",
       "      <td>0.721854</td>\n",
       "      <td>0.724252</td>\n",
       "      <td>0.793693</td>\n",
       "    </tr>\n",
       "    <tr>\n",
       "      <th>610</th>\n",
       "      <td>XGBClassifier(alpha=0.5, base_score=None, boos...</td>\n",
       "      <td>0.725166</td>\n",
       "      <td>0.723684</td>\n",
       "      <td>0.728477</td>\n",
       "      <td>0.726073</td>\n",
       "      <td>0.792992</td>\n",
       "    </tr>\n",
       "    <tr>\n",
       "      <th>609</th>\n",
       "      <td>XGBClassifier(alpha=0.5, base_score=None, boos...</td>\n",
       "      <td>0.725166</td>\n",
       "      <td>0.726667</td>\n",
       "      <td>0.721854</td>\n",
       "      <td>0.724252</td>\n",
       "      <td>0.792926</td>\n",
       "    </tr>\n",
       "    <tr>\n",
       "      <th>35</th>\n",
       "      <td>XGBClassifier(alpha=0.5, base_score=None, boos...</td>\n",
       "      <td>0.705298</td>\n",
       "      <td>0.706667</td>\n",
       "      <td>0.701987</td>\n",
       "      <td>0.704319</td>\n",
       "      <td>0.792071</td>\n",
       "    </tr>\n",
       "    <tr>\n",
       "      <th>20</th>\n",
       "      <td>XGBClassifier(alpha=0.5, base_score=None, boos...</td>\n",
       "      <td>0.721854</td>\n",
       "      <td>0.721854</td>\n",
       "      <td>0.721854</td>\n",
       "      <td>0.721854</td>\n",
       "      <td>0.792049</td>\n",
       "    </tr>\n",
       "    <tr>\n",
       "      <th>21</th>\n",
       "      <td>XGBClassifier(alpha=0.5, base_score=None, boos...</td>\n",
       "      <td>0.718543</td>\n",
       "      <td>0.720000</td>\n",
       "      <td>0.715232</td>\n",
       "      <td>0.717608</td>\n",
       "      <td>0.791917</td>\n",
       "    </tr>\n",
       "    <tr>\n",
       "      <th>22</th>\n",
       "      <td>XGBClassifier(alpha=0.5, base_score=None, boos...</td>\n",
       "      <td>0.711921</td>\n",
       "      <td>0.713333</td>\n",
       "      <td>0.708609</td>\n",
       "      <td>0.710963</td>\n",
       "      <td>0.791654</td>\n",
       "    </tr>\n",
       "  </tbody>\n",
       "</table>\n",
       "</div>"
      ],
      "text/plain": [
       "                                                 MODEL  ACCURACY  PRECISION  \\\n",
       "32   XGBClassifier(alpha=0.5, base_score=None, boos...  0.718543   0.720000   \n",
       "33   XGBClassifier(alpha=0.5, base_score=None, boos...  0.718543   0.720000   \n",
       "34   XGBClassifier(alpha=0.5, base_score=None, boos...  0.708609   0.708609   \n",
       "608  XGBClassifier(alpha=0.5, base_score=None, boos...  0.725166   0.726667   \n",
       "610  XGBClassifier(alpha=0.5, base_score=None, boos...  0.725166   0.723684   \n",
       "609  XGBClassifier(alpha=0.5, base_score=None, boos...  0.725166   0.726667   \n",
       "35   XGBClassifier(alpha=0.5, base_score=None, boos...  0.705298   0.706667   \n",
       "20   XGBClassifier(alpha=0.5, base_score=None, boos...  0.721854   0.721854   \n",
       "21   XGBClassifier(alpha=0.5, base_score=None, boos...  0.718543   0.720000   \n",
       "22   XGBClassifier(alpha=0.5, base_score=None, boos...  0.711921   0.713333   \n",
       "\n",
       "       RECALL        F1   ROC-AUC  \n",
       "32   0.715232  0.717608  0.793934  \n",
       "33   0.715232  0.717608  0.793737  \n",
       "34   0.708609  0.708609  0.793693  \n",
       "608  0.721854  0.724252  0.793693  \n",
       "610  0.728477  0.726073  0.792992  \n",
       "609  0.721854  0.724252  0.792926  \n",
       "35   0.701987  0.704319  0.792071  \n",
       "20   0.721854  0.721854  0.792049  \n",
       "21   0.715232  0.717608  0.791917  \n",
       "22   0.708609  0.710963  0.791654  "
      ]
     },
     "execution_count": 98,
     "metadata": {},
     "output_type": "execute_result"
    }
   ],
   "source": [
    "scores = scores.sort_values(by = 'ROC-AUC', ascending = False)\n",
    "scores.head(10)"
   ]
  },
  {
   "cell_type": "markdown",
   "id": "88c32160-1c95-4e6a-b51f-282934127a76",
   "metadata": {},
   "source": [
    "Looking at these scores, we see that the highest ROC-ACU score sacrifices some points in accuracy and in F1-score. But, row 608 seems to have very comparable ROC-AUC scores while having strong scores in all five metrics. For this reason, we ultimately choose these parameters."
   ]
  },
  {
   "cell_type": "code",
   "execution_count": 101,
   "id": "28faf90c-889c-488f-b672-26365de2f2e0",
   "metadata": {},
   "outputs": [
    {
     "data": {
      "text/plain": [
       "{'objective': 'binary:logistic',\n",
       " 'base_score': None,\n",
       " 'booster': None,\n",
       " 'callbacks': None,\n",
       " 'colsample_bylevel': None,\n",
       " 'colsample_bynode': None,\n",
       " 'colsample_bytree': 0.5,\n",
       " 'device': None,\n",
       " 'early_stopping_rounds': None,\n",
       " 'enable_categorical': False,\n",
       " 'eval_metric': None,\n",
       " 'feature_types': None,\n",
       " 'feature_weights': None,\n",
       " 'gamma': None,\n",
       " 'grow_policy': None,\n",
       " 'importance_type': None,\n",
       " 'interaction_constraints': None,\n",
       " 'learning_rate': None,\n",
       " 'max_bin': None,\n",
       " 'max_cat_threshold': None,\n",
       " 'max_cat_to_onehot': None,\n",
       " 'max_delta_step': None,\n",
       " 'max_depth': 4,\n",
       " 'max_leaves': None,\n",
       " 'min_child_weight': None,\n",
       " 'missing': nan,\n",
       " 'monotone_constraints': None,\n",
       " 'multi_strategy': None,\n",
       " 'n_estimators': 50,\n",
       " 'n_jobs': None,\n",
       " 'num_parallel_tree': None,\n",
       " 'random_state': 33,\n",
       " 'reg_alpha': None,\n",
       " 'reg_lambda': None,\n",
       " 'sampling_method': None,\n",
       " 'scale_pos_weight': None,\n",
       " 'subsample': 0.5,\n",
       " 'tree_method': None,\n",
       " 'validate_parameters': None,\n",
       " 'verbosity': None,\n",
       " 'eta': 0.01,\n",
       " 'alpha': 0.5}"
      ]
     },
     "execution_count": 101,
     "metadata": {},
     "output_type": "execute_result"
    }
   ],
   "source": [
    "best_model = scores.iloc[610]['MODEL']\n",
    "best_params = best_model.get_params()\n",
    "best_params # {'objective': 'binary:logistic', 'colsample_bytree': 0.5, 'max_depth': 4, 'n_estimators': 50, 'subsample': 0.5, 'eta': 0.01, 'alpha': 0.5, 'random_state': 33}"
   ]
  },
  {
   "cell_type": "code",
   "execution_count": null,
   "id": "b9c378ea",
   "metadata": {},
   "outputs": [],
   "source": [
    "# uncomment so you don't have to rerun\n",
    "#best_params = {'objective': 'binary:logistic', 'colsample_bytree': 0.5, 'max_depth': 4, 'n_estimators': 50, 'subsample': 0.5, 'eta': 0.01, 'alpha': 0.5, 'random_state': 33}"
   ]
  },
  {
   "cell_type": "code",
   "execution_count": null,
   "id": "715edb0a-63dc-4715-a942-f997a94d1835",
   "metadata": {},
   "outputs": [
    {
     "name": "stdout",
     "output_type": "stream",
     "text": [
      "Accuracy: 0.6846950517836594\n",
      "Precision: 0.6825938566552902\n",
      "Recall: 0.6904487917146145\n",
      "F1: 0.6864988558352403\n",
      "ROC AUC: 0.7442015676127343\n"
     ]
    }
   ],
   "source": [
    "model = XGBClassifier(**best_params)\n",
    "pred, act, pos_prob = test_model(df_rolling_subset, model, val_set)\n",
    "print_class_metrics(pred, act, pos_prob)\n",
    "\n",
    "#Accuracy: 0.6846950517836594\n",
    "#Precision: 0.6825938566552902\n",
    "#Recall: 0.6904487917146145\n",
    "#F1: 0.6864988558352403\n",
    "#ROC AUC: 0.7442015676127343"
   ]
  },
  {
   "cell_type": "markdown",
   "id": "0312c50e-f713-4b42-bd9c-39f24078b902",
   "metadata": {},
   "source": [
    "## Test Models\n",
    "We want to test the model trained on rolling averages and the predicted statistics from the second model. We will predict every game in the last 4 seasons. This means we need to predict all the statistics for the games in the last 9 seasons using the second model. We have these predictions stored in the csv files imported at the beginning."
   ]
  },
  {
   "cell_type": "code",
   "execution_count": 9,
   "id": "3eec2b46-faef-4e52-a665-444fc0c5e289",
   "metadata": {},
   "outputs": [],
   "source": [
    "# get all dates in the test set\n",
    "time_horizon = 5 # can change here\n",
    "first_test_season = df_rolling['SEASON_YEAR'].max() - 5\n",
    "test_set = df_rolling[df_rolling['SEASON_YEAR'] >= first_test_season]['GAME_DATE'].sort_values().unique()"
   ]
  },
  {
   "cell_type": "code",
   "execution_count": 10,
   "id": "b7e1bb10-f1dc-4d96-b4f7-a765bfd017de",
   "metadata": {},
   "outputs": [],
   "source": [
    "rf = RandomForestClassifier(random_state = 33)\n",
    "final_model = XGBClassifier(**best_params)"
   ]
  },
  {
   "cell_type": "markdown",
   "id": "1f549dfc-be56-4813-b333-3eb63186dfd8",
   "metadata": {},
   "source": [
    "### Rolling Window "
   ]
  },
  {
   "cell_type": "code",
   "execution_count": null,
   "id": "84703bdb-04b0-4080-ae57-9ed09c0e19ae",
   "metadata": {},
   "outputs": [
    {
     "name": "stdout",
     "output_type": "stream",
     "text": [
      "Accuracy: 0.6314856818826198\n",
      "Precision: 0.6353816961027587\n",
      "Recall: 0.6170966827332011\n",
      "F1: 0.6261057173678533\n",
      "ROC AUC: 0.6804085724053957\n"
     ]
    }
   ],
   "source": [
    "pred, act, pos_prob = test_model(df_rolling_subset, rf, test_set)\n",
    "print_class_metrics(pred, act, pos_prob)\n",
    "\n",
    "#Accuracy: 0.6314856818826198\n",
    "#Precision: 0.6353816961027587\n",
    "#Recall: 0.6170966827332011\n",
    "#F1: 0.6261057173678533\n",
    "#ROC AUC: 0.6804085724053957"
   ]
  },
  {
   "cell_type": "code",
   "execution_count": 14,
   "id": "9944378a-8a49-424c-8cee-e767caf3d4ff",
   "metadata": {},
   "outputs": [
    {
     "name": "stdout",
     "output_type": "stream",
     "text": [
      "Accuracy: 0.6424014743407995\n",
      "Precision: 0.6420591146938198\n",
      "Recall: 0.6436064644173518\n",
      "F1: 0.6428318584070797\n",
      "ROC AUC: 0.6956831816834594\n"
     ]
    }
   ],
   "source": [
    "pred, act, pos_prob = test_model(df_rolling_subset, final_model, test_set)\n",
    "print_class_metrics(pred, act, pos_prob)\n",
    "\n",
    "#Accuracy: 0.6424014743407995\n",
    "#Precision: 0.6420591146938198\n",
    "#Recall: 0.6436064644173518\n",
    "#F1: 0.6428318584070797\n",
    "#ROC AUC: 0.6956831816834594"
   ]
  },
  {
   "cell_type": "markdown",
   "id": "8d9c5e3c-80e2-4fda-95d0-2d4603d3f0c8",
   "metadata": {},
   "source": [
    "### ML Model Predictions"
   ]
  },
  {
   "cell_type": "code",
   "execution_count": null,
   "id": "c3804a89-5148-4648-bcb7-5859b5c72ee0",
   "metadata": {},
   "outputs": [
    {
     "name": "stdout",
     "output_type": "stream",
     "text": [
      "Accuracy: 0.6270910121916643\n",
      "Precision: 0.6303241750254397\n",
      "Recall: 0.6146867025800964\n",
      "F1: 0.6224072346228379\n",
      "ROC AUC: 0.675179901427113\n"
     ]
    }
   ],
   "source": [
    "pred, act, pos_prob = test_model(df_model_subset, rf, test_set)\n",
    "print_class_metrics(pred, act, pos_prob)\n",
    "\n",
    "#Accuracy: 0.6270910121916643\n",
    "#Precision: 0.6303241750254397\n",
    "#Recall: 0.6146867025800964\n",
    "#F1: 0.6224072346228379\n",
    "#ROC AUC: 0.675179901427113"
   ]
  },
  {
   "cell_type": "code",
   "execution_count": 15,
   "id": "0d733b81-26ea-4474-890b-500abd5c55e5",
   "metadata": {},
   "outputs": [
    {
     "name": "stdout",
     "output_type": "stream",
     "text": [
      "Accuracy: 0.6376523958037993\n",
      "Precision: 0.6389127324749643\n",
      "Recall: 0.6331159625744258\n",
      "F1: 0.6360011392765594\n",
      "ROC AUC: 0.6919508053591843\n"
     ]
    }
   ],
   "source": [
    "pred, act, pos_prob = test_model(df_model_subset, final_model, test_set)\n",
    "print_class_metrics(pred, act, pos_prob)\n",
    "\n",
    "#Accuracy: 0.6376523958037993\n",
    "#Precision: 0.6389127324749643\n",
    "#Recall: 0.6331159625744258\n",
    "#F1: 0.6360011392765594\n",
    "#ROC AUC: 0.6919508053591843"
   ]
  },
  {
   "cell_type": "markdown",
   "id": "1ff31ebb-5d4c-43c6-9fe6-9ec9d8ac3a38",
   "metadata": {},
   "source": [
    "## Playoff Prediction\n",
    "First Round:\n",
    "\n",
    "Eastern\n",
    "1. Cleveland (C) vs. Miami (H): 4/20 C, 4/23 C, 4/26 H, 4/28 H, 4/30 C, 5/2 H, 5/4 C\n",
    "2. Boston (C) vs. Orlando (M): 4/20 C, 4/23 C, 4/25 M, 4/27 M, 4/29 C, 5/1 M, 5/3 C\n",
    "3. New York (K) vs. Detroit (P): 4/19 K, 4/21 K, 4/24 P, 4/27 P, 4/29 K, 5/1 P, 5/3 K\n",
    "4. Indiana (P) vs. Milwaukee (B): 4/19 P, 4/22 P, 4/25 B, 4/27 B, 4/29 P, 5/2 B, 5/4 P\n",
    "\n",
    "Western\n",
    "1. Oklahoma City (T) vs. Memphis (G): 4/20 T, 4/22 T, 4/24 G, 4/26 G, 4/28 T, 5/1 G, 5/3 T\n",
    "2. Houston (R) vs Golden State (W): 4/20 R, 4/23 R, 4/26 W, 4/28 W, 4/30 R, 5/2 W, 5/4 R\n",
    "3. LA Lakers (L) vs. Minnesota (T): 4/19 L, 4/22 L, 4/25 T, 4/27 T, 4/30 L, 5/2 T, 5/4 L\n",
    "4. Denver (N) vs. LA Clippers (C): 4/19 N, 4/21 N, 4/24 C, 4/26 C, 4/29 N, 5/1 C, 5/3 N\n",
    "\n",
    "Semifinals begin May 5-6\n",
    "\n",
    "Conference Finals begin May 20-21\n",
    "\n",
    "Western: 5/20, 5/22, 5/24, 5/26, 5/28, 5/30, 6/1\n",
    "\n",
    "Eastern: 5/21, 5/23, 5/25, 5/27, 5/29, 5/31, 6/2\n",
    "\n",
    "Finals begin June 5: 6/5, 6/8, 6/11, 6/13, 6/16, 6/19, 6/22\n"
   ]
  },
  {
   "cell_type": "code",
   "execution_count": 172,
   "id": "da525383-775c-404e-a4d7-0dedd5aef5d2",
   "metadata": {},
   "outputs": [],
   "source": [
    "df_model = pd.read_csv('df_model_tuned.csv')\n",
    "df_model['GAME_DATE'] = pd.to_datetime(df_model['GAME_DATE'])"
   ]
  },
  {
   "cell_type": "code",
   "execution_count": 119,
   "id": "2a9a4061-b378-4ef4-aaf5-f0e3d7c74934",
   "metadata": {},
   "outputs": [],
   "source": [
    "features = base_features + best_feature_subset"
   ]
  },
  {
   "cell_type": "code",
   "execution_count": 122,
   "id": "a88ffea3-b5d8-4a76-a363-96678972316f",
   "metadata": {},
   "outputs": [],
   "source": [
    "final_model = XGBClassifier(**best_params)"
   ]
  },
  {
   "cell_type": "code",
   "execution_count": 150,
   "id": "ffc01251-0e15-4d1d-b0f2-20e0e0dfc7ad",
   "metadata": {},
   "outputs": [],
   "source": [
    "def predict_outcomes(file_path, df) :\n",
    "    game = pd.read_csv(file_path)\n",
    "    game['GAME_DATE'] = pd.to_datetime(game['GAME_DATE'])\n",
    "\n",
    "    test_set = game['GAME_DATE'].unique()\n",
    "    outcomes = None\n",
    "    for t in test_set :\n",
    "        df_upd = pd.concat([df, game[game['GAME_DATE'] == t]], ignore_index = True)\n",
    "        df_upd_subset = df_upd[features]\n",
    "        pred, act, pos_prob = pred_by_date(df_upd_subset, final_model, t)\n",
    "        game_outcomes = df_upd[df_upd['GAME_DATE'] == t][['TEAM_ID_ONE', 'TEAM_ID_TWO']]\n",
    "        game_outcomes['OUTCOME'] = pred\n",
    "        outcomes = game_outcomes if outcomes is None else pd.concat([outcomes, game_outcomes], ignore_index = True)\n",
    "\n",
    "    winners = np.array([outcomes.iloc[i]['TEAM_ID_ONE'] if outcomes.iloc[i]['OUTCOME'] == 1 else outcomes.iloc[i]['TEAM_ID_TWO']\n",
    "              for i in range(len(outcomes))])\n",
    "    game.loc[:, 'WIN_ONE'] = [1 if team in winners else 0 for team in game['TEAM_ID_ONE']]\n",
    "    print(\"Outcomes: \", outcomes)\n",
    "    print(\"Winners:\", winners)\n",
    "    \n",
    "    return pd.concat([df, game], ignore_index = True)"
   ]
  },
  {
   "cell_type": "markdown",
   "id": "c36ef87c-5390-4a7b-accd-db5871a14f5e",
   "metadata": {},
   "source": [
    "### Round 1 Conference Quarterfinals\n",
    "#### Game 1"
   ]
  },
  {
   "cell_type": "code",
   "execution_count": 173,
   "id": "98c3720c-d7a6-4640-9ecd-9def466a489f",
   "metadata": {},
   "outputs": [
    {
     "name": "stdout",
     "output_type": "stream",
     "text": [
      "Outcomes:     TEAM_ID_ONE  TEAM_ID_TWO  OUTCOME\n",
      "0            2           11        1\n",
      "1            1           16        1\n",
      "2           23           26        1\n",
      "3            8            7        1\n",
      "4           15           28        1\n",
      "5           17           12        0\n",
      "6           10           13        0\n",
      "7            6            9        1\n",
      "Winners: [ 2  1 23  8 15 12 13  6]\n"
     ]
    }
   ],
   "source": [
    "df_model = predict_outcomes('playoffs_round_one_one.csv', df_model)"
   ]
  },
  {
   "cell_type": "markdown",
   "id": "67117bea-ce9c-491c-889c-5892aaf1fb34",
   "metadata": {},
   "source": [
    "#### Game 2"
   ]
  },
  {
   "cell_type": "code",
   "execution_count": 174,
   "id": "3ed2eb58-e09c-4e6e-9089-9786d4b95b92",
   "metadata": {},
   "outputs": [
    {
     "name": "stdout",
     "output_type": "stream",
     "text": [
      "Outcomes:     TEAM_ID_ONE  TEAM_ID_TWO  OUTCOME\n",
      "0            2           11        0\n",
      "1            1           16        1\n",
      "2            8            7        1\n",
      "3           15           28        0\n",
      "4            6            9        1\n",
      "5           17           12        0\n",
      "6           23           26        1\n",
      "7           10           13        0\n",
      "Winners: [11  1  8 28  6 12 23 13]\n"
     ]
    }
   ],
   "source": [
    "df_model = predict_outcomes('playoffs_round_one_two.csv', df_model)"
   ]
  },
  {
   "cell_type": "markdown",
   "id": "255a3357-fd5c-40c0-9f49-b21b7c28b06c",
   "metadata": {},
   "source": [
    "#### Game 3"
   ]
  },
  {
   "cell_type": "code",
   "execution_count": 175,
   "id": "62c06736-56ac-4658-9aa8-8b071d7cbeae",
   "metadata": {},
   "outputs": [
    {
     "name": "stdout",
     "output_type": "stream",
     "text": [
      "Outcomes:     TEAM_ID_ONE  TEAM_ID_TWO  OUTCOME\n",
      "0            2           11        0\n",
      "1            8            7        0\n",
      "2            1           16        0\n",
      "3           17           12        0\n",
      "4           10           13        0\n",
      "5           15           28        0\n",
      "6           23           26        1\n",
      "7            6            9        0\n",
      "Winners: [11  7 16 12 13 28 23  9]\n"
     ]
    }
   ],
   "source": [
    "df_model = predict_outcomes('playoffs_round_one_three.csv', df_model)"
   ]
  },
  {
   "cell_type": "markdown",
   "id": "6029c3dd-0114-49ac-a4ad-2b29cfc6fb40",
   "metadata": {},
   "source": [
    "#### Game 4"
   ]
  },
  {
   "cell_type": "code",
   "execution_count": 176,
   "id": "87500834-ab73-4a3d-9698-e81de1bb68ee",
   "metadata": {},
   "outputs": [
    {
     "name": "stdout",
     "output_type": "stream",
     "text": [
      "Outcomes:     TEAM_ID_ONE  TEAM_ID_TWO  OUTCOME\n",
      "0            2           11        0\n",
      "1            8            7        0\n",
      "2            1           16        0\n",
      "3           15           28        0\n",
      "4           17           12        0\n",
      "5           10           13        0\n",
      "6            2           11        0\n",
      "7            8            7        0\n",
      "8           23           26        1\n",
      "9            6            9        0\n",
      "Winners: [11  7 16 28 12 13 11  7 23  9]\n"
     ]
    }
   ],
   "source": [
    "df_model = predict_outcomes('playoffs_round_one_four.csv', df_model)"
   ]
  },
  {
   "cell_type": "markdown",
   "id": "8df71d81-fb27-40ec-826b-a220165303b9",
   "metadata": {},
   "source": [
    "#### Game 5"
   ]
  },
  {
   "cell_type": "code",
   "execution_count": 177,
   "id": "e1447d45-6e4d-4c59-ab0c-76a33dd19f2d",
   "metadata": {},
   "outputs": [
    {
     "name": "stdout",
     "output_type": "stream",
     "text": [
      "Outcomes:     TEAM_ID_ONE  TEAM_ID_TWO  OUTCOME\n",
      "0            2           11        0\n",
      "1            8            7        0\n",
      "2            1           16        0\n",
      "3           15           28        1\n",
      "4            6            9        1\n",
      "Winners: [11  7 16 15  6]\n"
     ]
    }
   ],
   "source": [
    "df_model = predict_outcomes('playoffs_round_one_five.csv', df_model)"
   ]
  },
  {
   "cell_type": "markdown",
   "id": "2550aab6-8dd4-4ffc-92b7-aecfa2de5169",
   "metadata": {},
   "source": [
    "#### Game 6"
   ]
  },
  {
   "cell_type": "code",
   "execution_count": 178,
   "id": "da28ace3-8d8f-4e03-98f2-80c87f8cb4c6",
   "metadata": {},
   "outputs": [
    {
     "name": "stdout",
     "output_type": "stream",
     "text": [
      "Outcomes:     TEAM_ID_ONE  TEAM_ID_TWO  OUTCOME\n",
      "0            1           16        0\n",
      "1            6            9        0\n",
      "2            8            7        0\n",
      "Winners: [16  9  7]\n"
     ]
    }
   ],
   "source": [
    "df_model = predict_outcomes('playoffs_round_one_six.csv', df_model)"
   ]
  },
  {
   "cell_type": "markdown",
   "id": "5520afea-65bb-43d4-af8e-0db5b85a5353",
   "metadata": {},
   "source": [
    "#### Game 7 (no games)"
   ]
  },
  {
   "cell_type": "markdown",
   "id": "ca879f4d-0c58-4837-aac1-3693f5455184",
   "metadata": {},
   "source": [
    "### Round 2 : Conference Semifinals\n",
    "#### Game 1"
   ]
  },
  {
   "cell_type": "code",
   "execution_count": 180,
   "id": "b2c17dd7-57f9-43ec-9f5d-46963df282b1",
   "metadata": {},
   "outputs": [
    {
     "name": "stdout",
     "output_type": "stream",
     "text": [
      "Outcomes:         TEAM_ID_ONE  TEAM_ID_TWO  OUTCOME\n",
      "26448           23            9        1\n",
      "26449           13            7        1\n",
      "26450           12           11        0\n",
      "26451           28           16        1\n",
      "Winners: [23 13 11 28]\n"
     ]
    }
   ],
   "source": [
    "df_model = predict_outcomes('playoffs_round_two_one.csv', df_model)"
   ]
  },
  {
   "cell_type": "markdown",
   "id": "d133a1cb-5942-4eea-874b-86f8df5877d0",
   "metadata": {},
   "source": [
    "#### Game 2"
   ]
  },
  {
   "cell_type": "code",
   "execution_count": 181,
   "id": "82f38606-f409-4738-a079-d4a4152ba6dd",
   "metadata": {},
   "outputs": [
    {
     "name": "stdout",
     "output_type": "stream",
     "text": [
      "Outcomes:         TEAM_ID_ONE  TEAM_ID_TWO  OUTCOME\n",
      "26452           23            9        1\n",
      "26453           13            7        1\n",
      "26454           12           11        1\n",
      "26455           28           16        1\n",
      "Winners: [23 13 12 28]\n"
     ]
    }
   ],
   "source": [
    "df_model = predict_outcomes('playoffs_round_two_two.csv', df_model)"
   ]
  },
  {
   "cell_type": "markdown",
   "id": "cf065ce7-bb83-4e82-9bbc-312f785cefde",
   "metadata": {},
   "source": [
    "#### Game 3"
   ]
  },
  {
   "cell_type": "code",
   "execution_count": 182,
   "id": "ea3d07ce-732f-45c5-93db-b5b8d9dfe91d",
   "metadata": {},
   "outputs": [
    {
     "name": "stdout",
     "output_type": "stream",
     "text": [
      "Outcomes:         TEAM_ID_ONE  TEAM_ID_TWO  OUTCOME\n",
      "26456           23            9        0\n",
      "26457           13            7        0\n",
      "26458           12           11        0\n",
      "26459           28           16        0\n",
      "Winners: [ 9  7 11 16]\n"
     ]
    }
   ],
   "source": [
    "df_model = predict_outcomes('playoffs_round_two_three.csv', df_model)"
   ]
  },
  {
   "cell_type": "markdown",
   "id": "5ccb6603-2642-4c80-9220-5db7efa81bdc",
   "metadata": {},
   "source": [
    "#### Game 4"
   ]
  },
  {
   "cell_type": "code",
   "execution_count": 183,
   "id": "3661cab1-cf06-4d28-9504-e5fdf9c1fa6f",
   "metadata": {},
   "outputs": [
    {
     "name": "stdout",
     "output_type": "stream",
     "text": [
      "Outcomes:         TEAM_ID_ONE  TEAM_ID_TWO  OUTCOME\n",
      "26460           23            9        0\n",
      "26461           13            7        1\n",
      "26462           12           11        0\n",
      "26463           28           16        0\n",
      "Winners: [ 9 13 11 16]\n"
     ]
    }
   ],
   "source": [
    "df_model = predict_outcomes('playoffs_round_two_four.csv', df_model)"
   ]
  },
  {
   "cell_type": "markdown",
   "id": "e85e8305-6799-4de6-96b9-f9ba9c35c409",
   "metadata": {},
   "source": [
    "#### Game 5"
   ]
  },
  {
   "cell_type": "code",
   "execution_count": 184,
   "id": "906d09ea-b373-4477-bcf8-2bf581fe6e69",
   "metadata": {},
   "outputs": [
    {
     "name": "stdout",
     "output_type": "stream",
     "text": [
      "Outcomes:         TEAM_ID_ONE  TEAM_ID_TWO  OUTCOME\n",
      "26464           23            9        1\n",
      "26465           13            7        1\n",
      "26466           12           11        0\n",
      "26467           28           16        1\n",
      "Winners: [23 13 11 28]\n"
     ]
    }
   ],
   "source": [
    "df_model = predict_outcomes('playoffs_round_two_five.csv', df_model)"
   ]
  },
  {
   "cell_type": "markdown",
   "id": "fe2de723-b58a-41ad-a3ed-f87dfafbc2bf",
   "metadata": {},
   "source": [
    "#### Game 6"
   ]
  },
  {
   "cell_type": "code",
   "execution_count": 185,
   "id": "c7376496-65b7-4bcd-8e65-bc102d16a4f5",
   "metadata": {},
   "outputs": [
    {
     "name": "stdout",
     "output_type": "stream",
     "text": [
      "Outcomes:         TEAM_ID_ONE  TEAM_ID_TWO  OUTCOME\n",
      "26468           23            9        0\n",
      "26469           28           16        0\n",
      "Winners: [ 9 16]\n"
     ]
    }
   ],
   "source": [
    "df_model = predict_outcomes('playoffs_round_two_six.csv', df_model)"
   ]
  },
  {
   "cell_type": "markdown",
   "id": "2fdc5e87-902f-46a2-ba38-4d871677b6cb",
   "metadata": {},
   "source": [
    "#### Game 7"
   ]
  },
  {
   "cell_type": "code",
   "execution_count": 186,
   "id": "76aa71d8-3113-41e0-9c0e-f2fb09061cb6",
   "metadata": {},
   "outputs": [
    {
     "name": "stdout",
     "output_type": "stream",
     "text": [
      "Outcomes:         TEAM_ID_ONE  TEAM_ID_TWO  OUTCOME\n",
      "26470           23            9        1\n",
      "26471           28           16        0\n",
      "Winners: [23 16]\n"
     ]
    }
   ],
   "source": [
    "df_model = predict_outcomes('playoffs_round_two_seven.csv', df_model)"
   ]
  },
  {
   "cell_type": "markdown",
   "id": "daa8185b-a687-4c61-9fd0-1c5acfdb858f",
   "metadata": {},
   "source": [
    "### Round 3: Conference Finals\n",
    "#### Game 1"
   ]
  },
  {
   "cell_type": "code",
   "execution_count": 187,
   "id": "338505fc-db2b-4f0e-8559-e86526f95b4b",
   "metadata": {},
   "outputs": [
    {
     "name": "stdout",
     "output_type": "stream",
     "text": [
      "Outcomes:     TEAM_ID_ONE  TEAM_ID_TWO  OUTCOME\n",
      "0           23           13        0\n",
      "1           11           16        1\n",
      "Winners: [13 11]\n"
     ]
    }
   ],
   "source": [
    "df_model = predict_outcomes('playoffs_round_three_one.csv', df_model)"
   ]
  },
  {
   "cell_type": "markdown",
   "id": "a97f8781-0a98-4fec-85d8-48f267c40ae1",
   "metadata": {},
   "source": [
    "#### Game 2"
   ]
  },
  {
   "cell_type": "code",
   "execution_count": 188,
   "id": "5acea16f-3940-463d-987d-92f081286fb4",
   "metadata": {},
   "outputs": [
    {
     "name": "stdout",
     "output_type": "stream",
     "text": [
      "Outcomes:     TEAM_ID_ONE  TEAM_ID_TWO  OUTCOME\n",
      "0           23           13        0\n",
      "1           11           16        1\n",
      "Winners: [13 11]\n"
     ]
    }
   ],
   "source": [
    "df_model = predict_outcomes('playoffs_round_three_two.csv', df_model)"
   ]
  },
  {
   "cell_type": "markdown",
   "id": "f2202c82-da09-4382-89de-c7ee35670caa",
   "metadata": {},
   "source": [
    "#### Game 3"
   ]
  },
  {
   "cell_type": "code",
   "execution_count": 189,
   "id": "64f1b2bc-f67f-4382-936f-10c36fae8f5e",
   "metadata": {},
   "outputs": [
    {
     "name": "stdout",
     "output_type": "stream",
     "text": [
      "Outcomes:     TEAM_ID_ONE  TEAM_ID_TWO  OUTCOME\n",
      "0           23           13        0\n",
      "1           11           16        0\n",
      "Winners: [13 16]\n"
     ]
    }
   ],
   "source": [
    "df_model = predict_outcomes('playoffs_round_three_three.csv', df_model)"
   ]
  },
  {
   "cell_type": "markdown",
   "id": "a2d72f37-5aaf-4f04-a075-922d516375fb",
   "metadata": {},
   "source": [
    "#### Game 4"
   ]
  },
  {
   "cell_type": "code",
   "execution_count": 190,
   "id": "205c6dbd-7ccb-48b2-948a-09dbadcdc30d",
   "metadata": {},
   "outputs": [
    {
     "name": "stdout",
     "output_type": "stream",
     "text": [
      "Outcomes:     TEAM_ID_ONE  TEAM_ID_TWO  OUTCOME\n",
      "0           23           13        0\n",
      "1           11           16        0\n",
      "Winners: [13 16]\n"
     ]
    }
   ],
   "source": [
    "df_model = predict_outcomes('playoffs_round_three_four.csv', df_model)"
   ]
  },
  {
   "cell_type": "markdown",
   "id": "a7c62304-ccb7-4044-bbcd-648560d4df2a",
   "metadata": {},
   "source": [
    "#### Game 5"
   ]
  },
  {
   "cell_type": "code",
   "execution_count": 191,
   "id": "a07d53c6-729e-499b-9f8e-a98013a028b5",
   "metadata": {},
   "outputs": [
    {
     "name": "stdout",
     "output_type": "stream",
     "text": [
      "Outcomes:         TEAM_ID_ONE  TEAM_ID_TWO  OUTCOME\n",
      "26480           11           16        1\n",
      "Winners: [11]\n"
     ]
    }
   ],
   "source": [
    "df_model = predict_outcomes('playoffs_round_three_five.csv', df_model)"
   ]
  },
  {
   "cell_type": "markdown",
   "id": "23d630a6-aba1-4f8d-90fc-c5c5386133d6",
   "metadata": {},
   "source": [
    "#### Game 6"
   ]
  },
  {
   "cell_type": "code",
   "execution_count": 192,
   "id": "36fdb3cb-f385-41b6-86c8-972d1e986d4f",
   "metadata": {},
   "outputs": [
    {
     "name": "stdout",
     "output_type": "stream",
     "text": [
      "Outcomes:         TEAM_ID_ONE  TEAM_ID_TWO  OUTCOME\n",
      "26481           11           16        1\n",
      "Winners: [11]\n"
     ]
    }
   ],
   "source": [
    "df_model = predict_outcomes('playoffs_round_three_six.csv', df_model)"
   ]
  },
  {
   "cell_type": "markdown",
   "id": "1739ca04-608d-41bc-8866-eb83b7780b57",
   "metadata": {},
   "source": [
    "#### Game 7 (no games)"
   ]
  },
  {
   "cell_type": "markdown",
   "id": "72ba1748-b6e3-482d-aed9-c852ab2a9192",
   "metadata": {},
   "source": [
    "### Round 4 : Finals"
   ]
  },
  {
   "cell_type": "markdown",
   "id": "2837558c-2cfc-450f-a2ab-116e0fbd8673",
   "metadata": {},
   "source": [
    "#### Game 1"
   ]
  },
  {
   "cell_type": "code",
   "execution_count": 193,
   "id": "b11305a1-24fc-4567-a9f0-e2ba5d984362",
   "metadata": {},
   "outputs": [
    {
     "name": "stdout",
     "output_type": "stream",
     "text": [
      "Outcomes:         TEAM_ID_ONE  TEAM_ID_TWO  OUTCOME\n",
      "26482           13           11        1\n",
      "Winners: [13]\n"
     ]
    }
   ],
   "source": [
    "df_model = predict_outcomes('playoffs_round_four_one.csv', df_model)"
   ]
  },
  {
   "cell_type": "markdown",
   "id": "6b3b99f5-6000-44f3-aab1-1798c2b58a7f",
   "metadata": {},
   "source": [
    "#### Game 2"
   ]
  },
  {
   "cell_type": "code",
   "execution_count": 194,
   "id": "f009297c-281c-4238-a606-90031d236858",
   "metadata": {},
   "outputs": [
    {
     "name": "stdout",
     "output_type": "stream",
     "text": [
      "Outcomes:         TEAM_ID_ONE  TEAM_ID_TWO  OUTCOME\n",
      "26483           13           11        1\n",
      "Winners: [13]\n"
     ]
    }
   ],
   "source": [
    "df_model = predict_outcomes('playoffs_round_four_two.csv', df_model)"
   ]
  },
  {
   "cell_type": "markdown",
   "id": "e143d23e-ffae-4969-abb3-f803ed39f8a5",
   "metadata": {},
   "source": [
    "#### Game 3"
   ]
  },
  {
   "cell_type": "code",
   "execution_count": 195,
   "id": "6903b863-a80b-4d2c-9f1b-6da3aa96db64",
   "metadata": {},
   "outputs": [
    {
     "name": "stdout",
     "output_type": "stream",
     "text": [
      "Outcomes:         TEAM_ID_ONE  TEAM_ID_TWO  OUTCOME\n",
      "26484           13           11        0\n",
      "Winners: [11]\n"
     ]
    }
   ],
   "source": [
    "df_model = predict_outcomes('playoffs_round_four_three.csv', df_model)"
   ]
  },
  {
   "cell_type": "markdown",
   "id": "5c7ed6f6-4c15-4154-840e-e656659c7468",
   "metadata": {},
   "source": [
    "#### Game 4"
   ]
  },
  {
   "cell_type": "code",
   "execution_count": 196,
   "id": "1faaaef1-7903-46c1-94b4-60633e9706a9",
   "metadata": {},
   "outputs": [
    {
     "name": "stdout",
     "output_type": "stream",
     "text": [
      "Outcomes:         TEAM_ID_ONE  TEAM_ID_TWO  OUTCOME\n",
      "26485           13           11        0\n",
      "Winners: [11]\n"
     ]
    }
   ],
   "source": [
    "df_model = predict_outcomes('playoffs_round_four_four.csv', df_model)"
   ]
  },
  {
   "cell_type": "markdown",
   "id": "2d430d9b-40d0-4e12-b3ab-3d8b4711aa49",
   "metadata": {},
   "source": [
    "#### Game 5"
   ]
  },
  {
   "cell_type": "code",
   "execution_count": 197,
   "id": "74754b71-dba4-41d7-9d0c-4738b6c74631",
   "metadata": {},
   "outputs": [
    {
     "name": "stdout",
     "output_type": "stream",
     "text": [
      "Outcomes:         TEAM_ID_ONE  TEAM_ID_TWO  OUTCOME\n",
      "26486           13           11        1\n",
      "Winners: [13]\n"
     ]
    }
   ],
   "source": [
    "df_model = predict_outcomes('playoffs_round_four_five.csv', df_model)"
   ]
  },
  {
   "cell_type": "markdown",
   "id": "2686839e-7ff1-40f5-80be-f015cbd0504c",
   "metadata": {},
   "source": [
    "#### Game 6"
   ]
  },
  {
   "cell_type": "code",
   "execution_count": 198,
   "id": "8c5049dc-2725-486b-b0ab-aed2683cd4e9",
   "metadata": {},
   "outputs": [
    {
     "name": "stdout",
     "output_type": "stream",
     "text": [
      "Outcomes:         TEAM_ID_ONE  TEAM_ID_TWO  OUTCOME\n",
      "26487           13           11        0\n",
      "Winners: [11]\n"
     ]
    }
   ],
   "source": [
    "df_model = predict_outcomes('playoffs_round_four_six.csv', df_model)"
   ]
  },
  {
   "cell_type": "markdown",
   "id": "734550bf-0454-47e1-9c78-58ac9c6f9876",
   "metadata": {},
   "source": [
    "#### Game 7"
   ]
  },
  {
   "cell_type": "code",
   "execution_count": 199,
   "id": "6027d808-f4a5-4461-820f-94c0fc15ae19",
   "metadata": {},
   "outputs": [
    {
     "name": "stdout",
     "output_type": "stream",
     "text": [
      "Outcomes:         TEAM_ID_ONE  TEAM_ID_TWO  OUTCOME\n",
      "26488           13           11        1\n",
      "Winners: [13]\n"
     ]
    }
   ],
   "source": [
    "df_model = predict_outcomes('playoffs_round_four_seven.csv', df_model)"
   ]
  },
  {
   "cell_type": "code",
   "execution_count": null,
   "id": "a233dda8-19e6-4c17-8491-c6d541beb3b7",
   "metadata": {},
   "outputs": [],
   "source": []
  }
 ],
 "metadata": {
  "kernelspec": {
   "display_name": "Python 3",
   "language": "python",
   "name": "python3"
  },
  "language_info": {
   "codemirror_mode": {
    "name": "ipython",
    "version": 3
   },
   "file_extension": ".py",
   "mimetype": "text/x-python",
   "name": "python",
   "nbconvert_exporter": "python",
   "pygments_lexer": "ipython3",
   "version": "3.12.0"
  }
 },
 "nbformat": 4,
 "nbformat_minor": 5
}
