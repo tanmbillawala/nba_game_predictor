{
 "cells": [
  {
   "cell_type": "markdown",
   "id": "449b5749-69f7-477f-acc9-f26430370033",
   "metadata": {},
   "source": [
    "# Exploratory Data Analysis\n",
    "In this section, we take a look at the data to better understand the different features as well as any possible trends."
   ]
  },
  {
   "cell_type": "markdown",
   "id": "2f979d96-78cf-4eac-a2ca-2137ab512f23",
   "metadata": {},
   "source": [
    "## Imports"
   ]
  },
  {
   "cell_type": "code",
   "execution_count": null,
   "id": "e7175eb2-bdcf-49cd-884b-44540436ba36",
   "metadata": {},
   "outputs": [],
   "source": [
    "import pandas as pd\n",
    "import numpy as np\n",
    "import time\n",
    "import matplotlib.pyplot as plt\n",
    "import seaborn as sns"
   ]
  },
  {
   "cell_type": "code",
   "execution_count": null,
   "id": "86de5b29-4c21-4987-863e-35ee65894882",
   "metadata": {},
   "outputs": [],
   "source": [
    "all_stats_cleaned = pd.read_csv('all_stats_cleaned.csv')\n",
    "all_stats_cleaned.head()"
   ]
  },
  {
   "cell_type": "markdown",
   "id": "80cfd9e2-3a79-4c02-a6d8-f881a9ac2b42",
   "metadata": {},
   "source": [
    "### Map Between ID and Abbr"
   ]
  },
  {
   "cell_type": "code",
   "execution_count": null,
   "id": "06d24c70-8120-4a76-b209-89189dae9fc9",
   "metadata": {},
   "outputs": [],
   "source": [
    "team_id_to_abb = {} # dictionary to convert from team_id to team_abbreviation\n",
    "team_abb_to_id = {} # dictionary to convert from team_abbreviation to team_id\n",
    "\n",
    "teams = (all_stats_cleaned[['TEAM_ID', 'TEAM_ABBREVIATION']]).drop_duplicates()\n",
    "\n",
    "for index, row in teams.iterrows() :\n",
    "    if row['TEAM_ID'] not in team_id_to_abb.keys():\n",
    "        team_id_to_abb[row['TEAM_ID']] = []\n",
    "    team_id_to_abb[row['TEAM_ID']].append(row['TEAM_ABBREVIATION'])\n",
    "    team_abb_to_id[row['TEAM_ABBREVIATION']] = row['TEAM_ID']"
   ]
  },
  {
   "cell_type": "markdown",
   "id": "1b9aae34-318b-4379-aea7-87d659bc4611",
   "metadata": {},
   "source": [
    "## Rolling Average vs. Actual Value"
   ]
  },
  {
   "cell_type": "code",
   "execution_count": null,
   "id": "c65a4632-a927-46d7-a6e7-c8b990a86071",
   "metadata": {},
   "outputs": [],
   "source": [
    "def rollingAvg(team_id, feature_name, rolling_window = 3, season = 0, plot = True) :\n",
    "    \"\"\"\n",
    "    This function takes a team and feature and calculate the rolling average (not including the game on a given date)\n",
    "    and the actual value of that feature on the day. It can visualize this comparison and returns the RMSE between the \n",
    "    rolling average and actual value.\n",
    "\n",
    "    Inputs:\n",
    "    team_id: integer from 0-29 representing a team (required)\n",
    "    feature_name: string of a column of integer values from the dataset (required)\n",
    "    rolling_window: how many days to average over (default = 3)\n",
    "    season: season we are looking at (defaults to most current season)\n",
    "    plot: whether or not to plot the function (default = True)\n",
    "\n",
    "    Output: RMSE between predicted value (rolling average) and actual value\n",
    "    \"\"\"\n",
    "    if (season < all_stats_cleaned['SEASON_YEAR'].min()) or (season > all_stats_cleaned['SEASON_YEAR'].max()) :\n",
    "        season = all_stats_cleaned['SEASON_YEAR'].max()\n",
    "        \n",
    "    data = all_stats_cleaned[(all_stats_cleaned['TEAM_ID'] == team_id) & (all_stats_cleaned['SEASON_YEAR'] == season)]\n",
    "    data = data[['GAME_DATE', feature_name]].sort_values(by='GAME_DATE')\n",
    "    data['SHIFTED'] = data[feature_name].shift(1)\n",
    "    data['ROLLING_AVG'] = data['SHIFTED'].rolling(window = rolling_window).mean()\n",
    "    if plot :\n",
    "        plt.figure(figsize=(10,5))\n",
    "        plt.plot(data['GAME_DATE'], data['ROLLING_AVG'], marker = 'o', linestyle = '-', label = \"Rolling Avg\")\n",
    "        plt.plot(data['GAME_DATE'], data[feature_name], marker = 'o', linestyle = '-', label = \"Actual Value\")\n",
    "        plt.xlabel(\"Date\")\n",
    "        plt.ylabel(\"Average Points\")\n",
    "        plt.title(\"Rolling Average Points Over Time\")\n",
    "        plt.legend()\n",
    "        plt.show()\n",
    "\n",
    "    # Calculate RMSE\n",
    "    data = data.dropna()\n",
    "    error = np.sqrt(np.mean((data[feature_name].values-data['ROLLING_AVG'].values) ** 2))\n",
    "    return error"
   ]
  },
  {
   "cell_type": "markdown",
   "id": "e2d57026-940e-43d8-8c4a-6cb3622a6332",
   "metadata": {},
   "source": [
    "The function above takes a team ID and a specific feature (with optional arguments of specifying the rolling window, season of interest, and to plot or not) and finds the rolling average. Our rolling average calculates a predicted value for the next game and the graph plots the prediction against the actual result. The function returns the error calculated by RMSE of a specific rolling window. We can use this to see how predictive previous games are of team performance in an upcoming game and decide what a good window might be.\n",
    "\n",
    "Below, we test rolling windows from 1 to 20 with the option to adjust the season, team, and feature. This can be used later on when building test examples for the model."
   ]
  },
  {
   "cell_type": "code",
   "execution_count": null,
   "id": "68b32708-dc09-4b6e-b55f-b39c6635740a",
   "metadata": {},
   "outputs": [],
   "source": [
    "min_error = None\n",
    "best_window = 0\n",
    "team = 0\n",
    "feature = 'FGM'\n",
    "season = 2000\n",
    "\n",
    "for i in range(1, 20) :\n",
    "    rmse = rollingAvg(team, feature, i, season, False)\n",
    "    if min_error is None or rmse < min_error:\n",
    "        min_error = rmse\n",
    "        best_window = i\n",
    "\n",
    "print(\"Best Window:\", best_window)\n",
    "rollingAvg(team, feature, best_window, season)"
   ]
  },
  {
   "cell_type": "markdown",
   "id": "099c5715-79b8-45ed-90f2-0a14b72842f2",
   "metadata": {},
   "source": [
    "The code above finds that the best window for the `FGM` variable is 11. It then visualizes the predictions agains the actual values and provides the RMSE of them. "
   ]
  },
  {
   "cell_type": "markdown",
   "id": "60c8f120-8ed3-45d5-841d-5832c29a6e7f",
   "metadata": {},
   "source": [
    "## Team vs. Team Performance\n",
    "We look at a heatmap showing the win percentages between teams to see how teams perform."
   ]
  },
  {
   "cell_type": "code",
   "execution_count": null,
   "id": "4b97807c-bbc8-4be8-96c9-79a7a4d80358",
   "metadata": {},
   "outputs": [],
   "source": [
    "def calculateWinMatrix(start_season = all_stats_cleaned['SEASON_YEAR'].min(), end_season = all_stats_cleaned['SEASON_YEAR'].max()) :\n",
    "    \"\"\"\n",
    "    This function takes a range of seasons and calculates the win percentages of the a team against all other teams for all games\n",
    "    occuring within the provided season. Each row represents the win percentages a team.\n",
    "\n",
    "    Inputs:\n",
    "    start_season: first season to look at (default first recorded season)\n",
    "    end_season: last season to consider (default most recent season)\n",
    "\n",
    "    Output: Numpy matrix containing win percentages for team by row.\n",
    "    \"\"\"\n",
    "    \n",
    "    num_teams = len(team_id_to_abb)\n",
    "    np_win_matrix = np.zeros((num_teams, num_teams))\n",
    "    for team_one in range(num_teams):\n",
    "        for team_two, team_two_abb in team_id_to_abb.items() :\n",
    "            if team_one == team_two : continue\n",
    "            games = wins = 0\n",
    "            for x in team_two_abb :\n",
    "                matches = all_stats_cleaned[(all_stats_cleaned['TEAM_ID'] == team_one) & (all_stats_cleaned['OPPONENT'] == x) & (all_stats_cleaned['SEASON_YEAR'].between(start_season, end_season)) ]\n",
    "                games += len(matches)\n",
    "                wins += len(matches[matches['WIN'] == 1])\n",
    "        \n",
    "            np_win_matrix[team_one][team_two] = wins / games\n",
    "    return np_win_matrix\n"
   ]
  },
  {
   "cell_type": "code",
   "execution_count": null,
   "id": "19920b0d-d473-46dd-b5b3-bf2524641d30",
   "metadata": {},
   "outputs": [],
   "source": [
    "np_win_matrix = calculateWinMatrix(2020, 2025)\n",
    "teams = [team_id_to_abb[i][-1] for i in team_id_to_abb]\n",
    "plt.figure(figsize =(20,15))\n",
    "sns.heatmap(np_win_matrix, annot=True, cmap=\"coolwarm\", xticklabels=teams, yticklabels=teams) \n",
    "plt.xlabel(\"Opponent\")\n",
    "plt.ylabel(\"Team Win Percentages\")\n",
    "plt.title(\"Head-to-Head Win Percentage\")\n",
    "plt.show()"
   ]
  },
  {
   "cell_type": "markdown",
   "id": "ccbec6bc-79c8-4029-83ef-9962531742e0",
   "metadata": {},
   "source": [
    "Looking at the heatmap above, we can see that certain teams perform far better and worse than others. For example, DET loses more games than wins against nearly every team in the range from 2020 to 2025. The same goes for Washington. However, Washington seems to fare especially well against MIN despite MIN generally having win percentages above 50%. This tells us that Washington may perform especially well against MIN and increase their probability of winning despite generally losing their games. "
   ]
  },
  {
   "cell_type": "markdown",
   "id": "798242cc-f8e6-4e08-a51f-7f0d8c130aac",
   "metadata": {},
   "source": [
    "## Home Court Advantage\n",
    "Another important factor is home-court advantage (i.e. increased chance of winning due to playing at home). We want to observe how this affects teams. Since teams typically play half their games at home and half away (playing each team twice during a season, once at home at once away), we can forgo calculating home wins / total home games and away wins / total away games and instead just look at how many wins were home. "
   ]
  },
  {
   "cell_type": "code",
   "execution_count": null,
   "id": "e87f99bb-19c6-465a-bc8d-b7f79e22e843",
   "metadata": {},
   "outputs": [],
   "source": [
    "def homeWins(team_id) :\n",
    "    \"\"\"\n",
    "    This function takes a team ID and calculates the percentages of wins that are at home each season. \n",
    "    Then, we graph the values on a bar graph.\n",
    "\n",
    "    Inputs:\n",
    "    team_id: team ID, required\n",
    "    \"\"\"\n",
    "    start = all_stats_cleaned['SEASON_YEAR'].min()\n",
    "    end = all_stats_cleaned['SEASON_YEAR'].max()\n",
    "\n",
    "    years = list(range(start, end+1))\n",
    "    win_percentages = []\n",
    "    games = all_stats_cleaned[all_stats_cleaned['TEAM_ID'] == team_id]\n",
    "\n",
    "    for i in years :\n",
    "        games_in_season = games[games['SEASON_YEAR'] == i]\n",
    "        wins_in_season = games_in_season[games_in_season['WIN'] == 1]\n",
    "        home_wins = wins_in_season[wins_in_season['HOME'] == 1]\n",
    "        if len(wins_in_season) == 0 : \n",
    "            win_percentages.append(0)\n",
    "        else :\n",
    "            win_percentages.append(len(home_wins) / len(wins_in_season))\n",
    "\n",
    "    team_abb = team_id_to_abb[team_id][-1]\n",
    "    plt.bar(years, win_percentages)\n",
    "    plt.xlabel('Year')\n",
    "    plt.ylabel('Win Percentages At Home')\n",
    "    plt.title(f'Win Percentages at Home for {team_abb} over the Years')\n",
    "    plt.show()"
   ]
  },
  {
   "cell_type": "code",
   "execution_count": null,
   "id": "8c1bffb4-513e-452e-9798-cd5b6046584c",
   "metadata": {},
   "outputs": [],
   "source": [
    "homeWins(10)"
   ]
  },
  {
   "cell_type": "markdown",
   "id": "d3a730af-8d70-4081-9009-8306b24fe8e8",
   "metadata": {},
   "source": [
    "The above bargraph shows us that for the Los Angeles Lakers (LAL), the game being at home results in a slightly higher probability of winning. Looking at more teams, we will see that this trend continues, although perhaps not as strong as some may think. This indicates the model may find whether the game is home or away to be a significant factor. "
   ]
  },
  {
   "cell_type": "markdown",
   "id": "394b1df6-cca4-40c0-a132-e7db0a5c996d",
   "metadata": {},
   "source": [
    "## Statistics in Games Won vs. Lost\n",
    "We also want to see how values compare in games they won or lost. We can do that by graphing the averages over a season for games a specific team lost and won as follows. "
   ]
  },
  {
   "cell_type": "code",
   "execution_count": null,
   "id": "99caeb87-fecf-4ea0-9ab7-5d852305070d",
   "metadata": {},
   "outputs": [],
   "source": [
    "def winLossAverages(team_id, feature) :\n",
    "    \"\"\"\n",
    "    This function takes a team ID and a feature and calculates the average value of that feature \n",
    "    for each season separated into games won or lost. This allows us to see how a value could be \n",
    "    used to predict if a team will win or not.\n",
    "    \"\"\"\n",
    "    start = all_stats_cleaned['SEASON_YEAR'].min()\n",
    "    end = all_stats_cleaned['SEASON_YEAR'].max()\n",
    "\n",
    "    years = list(range(start, end+1))\n",
    "    avg_for_wins = []\n",
    "    avg_for_losses = []\n",
    "\n",
    "    for y in years :\n",
    "        games = all_stats_cleaned[all_stats_cleaned['SEASON_YEAR'] == y]\n",
    "        wins = games[games['WIN'] == 1]\n",
    "        losses = games[games['WIN'] == 0]\n",
    "\n",
    "        avg_for_wins.append(wins[feature].mean())\n",
    "        avg_for_losses.append(losses[feature].mean())\n",
    "\n",
    "    plt.figure(figsize = (10, 5))\n",
    "    plt.plot(years, avg_for_wins, linestyle = '-', label = \"Games Won\")\n",
    "    plt.plot(years, avg_for_losses, linestyle = '-', label = \"Games Lost\")\n",
    "    plt.xlabel(\"Seasons\")\n",
    "    plt.ylabel(f\"Average {feature}\")\n",
    "    plt.title(f\"Comparing Averages of {feature} For Games Won or Lost by {team_id_to_abb[team_id][-1]}\")\n",
    "    plt.legend()\n",
    "    plt.show()"
   ]
  },
  {
   "cell_type": "code",
   "execution_count": null,
   "id": "d205c1a3-cc5f-4414-9bc8-d7caefa7497f",
   "metadata": {},
   "outputs": [],
   "source": [
    "winLossAverages(1, 'FG_PCT')"
   ]
  },
  {
   "cell_type": "markdown",
   "id": "a1677fcb-85eb-4494-a497-e771c08fb3db",
   "metadata": {},
   "source": [
    "Above we can see that field goal percentage is always significantly higher when games are won. Thus, when we expect a team to have a higher field goal percentage, they have a higher likelihood of winning. "
   ]
  },
  {
   "cell_type": "code",
   "execution_count": null,
   "id": "ca8bf547-a620-46c1-93ea-4d9dcc478ba1",
   "metadata": {},
   "outputs": [],
   "source": []
  }
 ],
 "metadata": {
  "kernelspec": {
   "display_name": "Python 3 (ipykernel)",
   "language": "python",
   "name": "python3"
  },
  "language_info": {
   "codemirror_mode": {
    "name": "ipython",
    "version": 3
   },
   "file_extension": ".py",
   "mimetype": "text/x-python",
   "name": "python",
   "nbconvert_exporter": "python",
   "pygments_lexer": "ipython3",
   "version": "3.12.0"
  }
 },
 "nbformat": 4,
 "nbformat_minor": 5
}
